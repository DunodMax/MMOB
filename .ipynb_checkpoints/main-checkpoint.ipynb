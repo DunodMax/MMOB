{
 "cells": [
  {
   "cell_type": "markdown",
   "id": "1b834efe",
   "metadata": {},
   "source": [
    "# MMOB Project"
   ]
  },
  {
   "cell_type": "markdown",
   "id": "df6705b8",
   "metadata": {},
   "source": [
    "# import"
   ]
  },
  {
   "cell_type": "markdown",
   "id": "1359753b",
   "metadata": {},
   "source": [
    "in this cell, relevant libraries are imported, as well as the datafile imported from our github and a dict that will store all results during the project "
   ]
  },
  {
   "cell_type": "code",
   "execution_count": 1,
   "id": "7db8a829",
   "metadata": {
    "scrolled": true
   },
   "outputs": [],
   "source": [
    "import pandas as pd\n",
    "import biogeme.database as db\n",
    "import biogeme.biogeme as bio\n",
    "from biogeme.expressions import Beta, Variable\n",
    "from biogeme import models\n",
    "from biogeme import results as res\n",
    "data_file ='https://raw.githubusercontent.com/DunodMax/MMOB/main/Dataset.txt'\n",
    "LPMC = pd.read_csv(data_file, sep='\\t')\n",
    "LPMC\n",
    "database = db.Database('LPMC', LPMC)\n",
    "all_results = {}"
   ]
  },
  {
   "cell_type": "markdown",
   "id": "29efbc5c",
   "metadata": {},
   "source": [
    "# Model 0"
   ]
  },
  {
   "cell_type": "markdown",
   "id": "fcc282c3",
   "metadata": {},
   "source": [
    "all useful columns for this model are used as variables"
   ]
  },
  {
   "cell_type": "code",
   "execution_count": 2,
   "id": "b8d50a89",
   "metadata": {},
   "outputs": [],
   "source": [
    "travel_mode=Variable('travel_mode')\n",
    "dur_pt_access=Variable('dur_pt_access')\n",
    "dur_pt_rail=Variable('dur_pt_rail')\n",
    "dur_pt_bus=Variable('dur_pt_bus')\n",
    "dur_pt_int=Variable('dur_pt_int')\n",
    "pt_interchanges=Variable('pt_interchanges')\n",
    "dur_driving=Variable('dur_driving')\n",
    "cost_transit=Variable('cost_transit')\n",
    "cost_driving_fuel=Variable('cost_driving_fuel')\n",
    "cost_driving_ccharge=Variable('cost_driving_ccharge')\n",
    "dur_walking=Variable('dur_walking')\n",
    "dur_cycling=Variable('dur_cycling')"
   ]
  },
  {
   "cell_type": "markdown",
   "id": "08e0734c",
   "metadata": {},
   "source": [
    "Trip duration for each mode are computed ( see report for details about equations)\n",
    "Cost for each mode with a cost are computed ( cycling and walking is considered free)"
   ]
  },
  {
   "cell_type": "code",
   "execution_count": 3,
   "id": "9d07da2e",
   "metadata": {},
   "outputs": [],
   "source": [
    "time_walk=dur_walking\n",
    "time_cycle=dur_cycling\n",
    "time_pt=dur_pt_access+dur_pt_rail+dur_pt_bus+dur_pt_int\n",
    "time_drive=dur_driving\n",
    "\n",
    "cost_drive=cost_driving_ccharge+cost_driving_fuel\n",
    "cost_pt=cost_transit"
   ]
  },
  {
   "cell_type": "markdown",
   "id": "a68d668a",
   "metadata": {},
   "source": [
    "There is 4 different travel mode, we will thus build a model with 4 utility functions, we create 3 alternative specific constant, a generic parameter for travel time and a generic parameter for cost"
   ]
  },
  {
   "cell_type": "code",
   "execution_count": 4,
   "id": "527ddfb5",
   "metadata": {},
   "outputs": [],
   "source": [
    "asc_cycle = Beta('asc_cycle', 0, None, None, 0)\n",
    "asc_pt = Beta('asc_pt', 0, None, None, 0)\n",
    "asc_drive = Beta('asc_drive', 0, None, None, 0)\n",
    "beta_cost = Beta('beta_cost', 0, None, None, 0)\n",
    "beta_time = Beta('beta_time', 0, None, None, 0)"
   ]
  },
  {
   "cell_type": "markdown",
   "id": "afbd2e71",
   "metadata": {},
   "source": [
    "utility functions"
   ]
  },
  {
   "cell_type": "code",
   "execution_count": 5,
   "id": "17661004",
   "metadata": {},
   "outputs": [],
   "source": [
    "v_walk_model0= beta_time * time_walk  \n",
    "v_cycle_model0= asc_cycle + beta_time * time_cycle \n",
    "v_pt_model0= asc_pt + beta_time * time_pt + beta_cost * cost_pt\n",
    "v_drive_model0= asc_drive + beta_time * time_drive + beta_cost * cost_drive"
   ]
  },
  {
   "cell_type": "code",
   "execution_count": 6,
   "id": "09a242b4",
   "metadata": {},
   "outputs": [],
   "source": [
    "av = {1: 1, 2: 1, 3: 1, 4:1}"
   ]
  },
  {
   "cell_type": "markdown",
   "id": "295c4066",
   "metadata": {},
   "source": [
    "estimation of the parameters for Model 0, all relevant parameters are printed"
   ]
  },
  {
   "cell_type": "code",
   "execution_count": 7,
   "id": "b8605612",
   "metadata": {},
   "outputs": [
    {
     "data": {
      "text/html": [
       "<div>\n",
       "<style scoped>\n",
       "    .dataframe tbody tr th:only-of-type {\n",
       "        vertical-align: middle;\n",
       "    }\n",
       "\n",
       "    .dataframe tbody tr th {\n",
       "        vertical-align: top;\n",
       "    }\n",
       "\n",
       "    .dataframe thead th {\n",
       "        text-align: right;\n",
       "    }\n",
       "</style>\n",
       "<table border=\"1\" class=\"dataframe\">\n",
       "  <thead>\n",
       "    <tr style=\"text-align: right;\">\n",
       "      <th></th>\n",
       "      <th>Value</th>\n",
       "      <th>Std err</th>\n",
       "      <th>t-test</th>\n",
       "      <th>p-value</th>\n",
       "      <th>Rob. Std err</th>\n",
       "      <th>Rob. t-test</th>\n",
       "      <th>Rob. p-value</th>\n",
       "    </tr>\n",
       "  </thead>\n",
       "  <tbody>\n",
       "    <tr>\n",
       "      <th>asc_cycle</th>\n",
       "      <td>-3.832163</td>\n",
       "      <td>0.102680</td>\n",
       "      <td>-37.321371</td>\n",
       "      <td>0.0</td>\n",
       "      <td>0.107574</td>\n",
       "      <td>-35.623351</td>\n",
       "      <td>0.0</td>\n",
       "    </tr>\n",
       "    <tr>\n",
       "      <th>asc_drive</th>\n",
       "      <td>-1.235707</td>\n",
       "      <td>0.073716</td>\n",
       "      <td>-16.763025</td>\n",
       "      <td>0.0</td>\n",
       "      <td>0.080400</td>\n",
       "      <td>-15.369411</td>\n",
       "      <td>0.0</td>\n",
       "    </tr>\n",
       "    <tr>\n",
       "      <th>asc_pt</th>\n",
       "      <td>-0.528767</td>\n",
       "      <td>0.053297</td>\n",
       "      <td>-9.921212</td>\n",
       "      <td>0.0</td>\n",
       "      <td>0.054766</td>\n",
       "      <td>-9.655006</td>\n",
       "      <td>0.0</td>\n",
       "    </tr>\n",
       "    <tr>\n",
       "      <th>beta_cost</th>\n",
       "      <td>-0.169780</td>\n",
       "      <td>0.013321</td>\n",
       "      <td>-12.745694</td>\n",
       "      <td>0.0</td>\n",
       "      <td>0.013108</td>\n",
       "      <td>-12.952753</td>\n",
       "      <td>0.0</td>\n",
       "    </tr>\n",
       "    <tr>\n",
       "      <th>beta_time</th>\n",
       "      <td>-5.450540</td>\n",
       "      <td>0.181898</td>\n",
       "      <td>-29.964846</td>\n",
       "      <td>0.0</td>\n",
       "      <td>0.202684</td>\n",
       "      <td>-26.891767</td>\n",
       "      <td>0.0</td>\n",
       "    </tr>\n",
       "  </tbody>\n",
       "</table>\n",
       "</div>"
      ],
      "text/plain": [
       "              Value   Std err     t-test  p-value  Rob. Std err  Rob. t-test  \\\n",
       "asc_cycle -3.832163  0.102680 -37.321371      0.0      0.107574   -35.623351   \n",
       "asc_drive -1.235707  0.073716 -16.763025      0.0      0.080400   -15.369411   \n",
       "asc_pt    -0.528767  0.053297  -9.921212      0.0      0.054766    -9.655006   \n",
       "beta_cost -0.169780  0.013321 -12.745694      0.0      0.013108   -12.952753   \n",
       "beta_time -5.450540  0.181898 -29.964846      0.0      0.202684   -26.891767   \n",
       "\n",
       "           Rob. p-value  \n",
       "asc_cycle           0.0  \n",
       "asc_drive           0.0  \n",
       "asc_pt              0.0  \n",
       "beta_cost           0.0  \n",
       "beta_time           0.0  "
      ]
     },
     "execution_count": 7,
     "metadata": {},
     "output_type": "execute_result"
    }
   ],
   "source": [
    "V_model0 = {1: v_walk_model0 , 2: v_cycle_model0, 3: v_pt_model0, 4: v_drive_model0}\n",
    "logprob_model0 = models.loglogit(V_model0, av, travel_mode)\n",
    "biogeme_model0 = bio.BIOGEME(database, logprob_model0)\n",
    "biogeme_model0.modelName = 'Model_0'\n",
    "all_results['Model0'] = biogeme_model0.estimate()\n",
    "results_generic = biogeme_model0.estimate()\n",
    "results_generic.getEstimatedParameters()"
   ]
  },
  {
   "cell_type": "code",
   "execution_count": 8,
   "id": "f8fd4259",
   "metadata": {},
   "outputs": [
    {
     "ename": "AttributeError",
     "evalue": "module 'biogeme.results' has no attribute 'compileEstimationResults'",
     "output_type": "error",
     "traceback": [
      "\u001b[1;31m---------------------------------------------------------------------------\u001b[0m",
      "\u001b[1;31mAttributeError\u001b[0m                            Traceback (most recent call last)",
      "Input \u001b[1;32mIn [8]\u001b[0m, in \u001b[0;36m<cell line: 1>\u001b[1;34m()\u001b[0m\n\u001b[1;32m----> 1\u001b[0m \u001b[43mres\u001b[49m\u001b[38;5;241;43m.\u001b[39;49m\u001b[43mcompileEstimationResults\u001b[49m(all_results)\n",
      "\u001b[1;31mAttributeError\u001b[0m: module 'biogeme.results' has no attribute 'compileEstimationResults'"
     ]
    }
   ],
   "source": [
    "res.compileEstimationResults(all_results)"
   ]
  },
  {
   "cell_type": "code",
   "execution_count": 9,
   "id": "b77d2fb4",
   "metadata": {},
   "outputs": [
    {
     "name": "stdout",
     "output_type": "stream",
     "text": [
      "Null Loglikelihood : \n"
     ]
    },
    {
     "data": {
      "text/plain": [
       "-6931.471805599454"
      ]
     },
     "execution_count": 9,
     "metadata": {},
     "output_type": "execute_result"
    }
   ],
   "source": [
    "print(\"Null Loglikelihood : \")\n",
    "biogeme_model0.calculateNullLoglikelihood(av)"
   ]
  },
  {
   "cell_type": "markdown",
   "id": "af9c8c20",
   "metadata": {},
   "source": [
    "# Model 1 "
   ]
  },
  {
   "cell_type": "markdown",
   "id": "712a2de8",
   "metadata": {},
   "source": [
    "### Time specification"
   ]
  },
  {
   "cell_type": "markdown",
   "id": "fd300db1",
   "metadata": {},
   "source": [
    "We will try a specification where the the cost coeffecient is Generic and the time coefficient is alternative specific"
   ]
  },
  {
   "cell_type": "markdown",
   "id": "9f49a4cd",
   "metadata": {},
   "source": [
    "Again 4 different travel mode, 4 utility functions and 3 alternative specific constant.\n",
    "This time we have the generic parameter for cost and a 4 new specific parameter for travel time"
   ]
  },
  {
   "cell_type": "code",
   "execution_count": 10,
   "id": "44110c8a",
   "metadata": {},
   "outputs": [],
   "source": [
    "beta_time_drive = Beta('beta_time_drive', 0, None, None, 0)\n",
    "beta_time_pt = Beta('beta_time_pt', 0, None, None, 0)\n",
    "beta_time_walk = Beta('beta_time_walk', 0, None, None, 0)\n",
    "beta_time_cycle = Beta('beta_time_cycle', 0, None, None, 0)"
   ]
  },
  {
   "cell_type": "markdown",
   "id": "087e6e16",
   "metadata": {},
   "source": [
    "New utility functions :"
   ]
  },
  {
   "cell_type": "code",
   "execution_count": 11,
   "id": "188c60e3",
   "metadata": {},
   "outputs": [],
   "source": [
    "v_walk_model1 = beta_time_walk * time_walk  \n",
    "v_cycle_model1 = asc_cycle + beta_time_cycle * time_cycle \n",
    "v_pt_model1 = asc_pt + beta_time_pt * time_pt + beta_cost * cost_pt\n",
    "v_drive_model1 = asc_drive + beta_time_drive * time_drive + beta_cost * cost_drive"
   ]
  },
  {
   "cell_type": "markdown",
   "id": "410224b3",
   "metadata": {},
   "source": [
    "Estimation of the parameters for Model 1, all relevant parameters are printed"
   ]
  },
  {
   "cell_type": "code",
   "execution_count": 12,
   "id": "8ac1b493",
   "metadata": {},
   "outputs": [
    {
     "data": {
      "text/html": [
       "<div>\n",
       "<style scoped>\n",
       "    .dataframe tbody tr th:only-of-type {\n",
       "        vertical-align: middle;\n",
       "    }\n",
       "\n",
       "    .dataframe tbody tr th {\n",
       "        vertical-align: top;\n",
       "    }\n",
       "\n",
       "    .dataframe thead th {\n",
       "        text-align: right;\n",
       "    }\n",
       "</style>\n",
       "<table border=\"1\" class=\"dataframe\">\n",
       "  <thead>\n",
       "    <tr style=\"text-align: right;\">\n",
       "      <th></th>\n",
       "      <th>Value</th>\n",
       "      <th>Std err</th>\n",
       "      <th>t-test</th>\n",
       "      <th>p-value</th>\n",
       "      <th>Rob. Std err</th>\n",
       "      <th>Rob. t-test</th>\n",
       "      <th>Rob. p-value</th>\n",
       "    </tr>\n",
       "  </thead>\n",
       "  <tbody>\n",
       "    <tr>\n",
       "      <th>asc_cycle</th>\n",
       "      <td>-4.509582</td>\n",
       "      <td>0.171871</td>\n",
       "      <td>-26.238104</td>\n",
       "      <td>0.0</td>\n",
       "      <td>0.191029</td>\n",
       "      <td>-23.606835</td>\n",
       "      <td>0.0</td>\n",
       "    </tr>\n",
       "    <tr>\n",
       "      <th>asc_drive</th>\n",
       "      <td>-1.885697</td>\n",
       "      <td>0.106697</td>\n",
       "      <td>-17.673422</td>\n",
       "      <td>0.0</td>\n",
       "      <td>0.122741</td>\n",
       "      <td>-15.363274</td>\n",
       "      <td>0.0</td>\n",
       "    </tr>\n",
       "    <tr>\n",
       "      <th>asc_pt</th>\n",
       "      <td>-2.339705</td>\n",
       "      <td>0.114622</td>\n",
       "      <td>-20.412333</td>\n",
       "      <td>0.0</td>\n",
       "      <td>0.125798</td>\n",
       "      <td>-18.598844</td>\n",
       "      <td>0.0</td>\n",
       "    </tr>\n",
       "    <tr>\n",
       "      <th>beta_cost</th>\n",
       "      <td>-0.146062</td>\n",
       "      <td>0.014772</td>\n",
       "      <td>-9.887617</td>\n",
       "      <td>0.0</td>\n",
       "      <td>0.014850</td>\n",
       "      <td>-9.835764</td>\n",
       "      <td>0.0</td>\n",
       "    </tr>\n",
       "    <tr>\n",
       "      <th>beta_time_cycle</th>\n",
       "      <td>-6.121480</td>\n",
       "      <td>0.467856</td>\n",
       "      <td>-13.084110</td>\n",
       "      <td>0.0</td>\n",
       "      <td>0.542685</td>\n",
       "      <td>-11.279996</td>\n",
       "      <td>0.0</td>\n",
       "    </tr>\n",
       "    <tr>\n",
       "      <th>beta_time_drive</th>\n",
       "      <td>-6.445071</td>\n",
       "      <td>0.333687</td>\n",
       "      <td>-19.314722</td>\n",
       "      <td>0.0</td>\n",
       "      <td>0.391346</td>\n",
       "      <td>-16.469000</td>\n",
       "      <td>0.0</td>\n",
       "    </tr>\n",
       "    <tr>\n",
       "      <th>beta_time_pt</th>\n",
       "      <td>-3.514556</td>\n",
       "      <td>0.233212</td>\n",
       "      <td>-15.070208</td>\n",
       "      <td>0.0</td>\n",
       "      <td>0.258207</td>\n",
       "      <td>-13.611364</td>\n",
       "      <td>0.0</td>\n",
       "    </tr>\n",
       "    <tr>\n",
       "      <th>beta_time_walk</th>\n",
       "      <td>-8.204830</td>\n",
       "      <td>0.290738</td>\n",
       "      <td>-28.220696</td>\n",
       "      <td>0.0</td>\n",
       "      <td>0.364367</td>\n",
       "      <td>-22.518008</td>\n",
       "      <td>0.0</td>\n",
       "    </tr>\n",
       "  </tbody>\n",
       "</table>\n",
       "</div>"
      ],
      "text/plain": [
       "                    Value   Std err     t-test  p-value  Rob. Std err  \\\n",
       "asc_cycle       -4.509582  0.171871 -26.238104      0.0      0.191029   \n",
       "asc_drive       -1.885697  0.106697 -17.673422      0.0      0.122741   \n",
       "asc_pt          -2.339705  0.114622 -20.412333      0.0      0.125798   \n",
       "beta_cost       -0.146062  0.014772  -9.887617      0.0      0.014850   \n",
       "beta_time_cycle -6.121480  0.467856 -13.084110      0.0      0.542685   \n",
       "beta_time_drive -6.445071  0.333687 -19.314722      0.0      0.391346   \n",
       "beta_time_pt    -3.514556  0.233212 -15.070208      0.0      0.258207   \n",
       "beta_time_walk  -8.204830  0.290738 -28.220696      0.0      0.364367   \n",
       "\n",
       "                 Rob. t-test  Rob. p-value  \n",
       "asc_cycle         -23.606835           0.0  \n",
       "asc_drive         -15.363274           0.0  \n",
       "asc_pt            -18.598844           0.0  \n",
       "beta_cost          -9.835764           0.0  \n",
       "beta_time_cycle   -11.279996           0.0  \n",
       "beta_time_drive   -16.469000           0.0  \n",
       "beta_time_pt      -13.611364           0.0  \n",
       "beta_time_walk    -22.518008           0.0  "
      ]
     },
     "execution_count": 12,
     "metadata": {},
     "output_type": "execute_result"
    }
   ],
   "source": [
    "V_model1 = {1: v_walk_model1 , 2: v_cycle_model1, 3: v_pt_model1, 4: v_drive_model1}\n",
    "logprob_model1 = models.loglogit(V_model1, av, travel_mode)\n",
    "biogeme_model1 = bio.BIOGEME(database, logprob_model1)\n",
    "biogeme_model1.modelName = 'Model1_time_specification'\n",
    "all_results['Model1_time_specification'] = biogeme_model1.estimate()\n",
    "results_alt_spec_time = biogeme_model1.estimate()\n",
    "results_alt_spec_time.getEstimatedParameters()"
   ]
  },
  {
   "cell_type": "code",
   "execution_count": 13,
   "id": "cf11683b",
   "metadata": {},
   "outputs": [
    {
     "ename": "AttributeError",
     "evalue": "module 'biogeme.results' has no attribute 'compileEstimationResults'",
     "output_type": "error",
     "traceback": [
      "\u001b[1;31m---------------------------------------------------------------------------\u001b[0m",
      "\u001b[1;31mAttributeError\u001b[0m                            Traceback (most recent call last)",
      "Input \u001b[1;32mIn [13]\u001b[0m, in \u001b[0;36m<cell line: 1>\u001b[1;34m()\u001b[0m\n\u001b[1;32m----> 1\u001b[0m \u001b[43mres\u001b[49m\u001b[38;5;241;43m.\u001b[39;49m\u001b[43mcompileEstimationResults\u001b[49m(all_results)\n",
      "\u001b[1;31mAttributeError\u001b[0m: module 'biogeme.results' has no attribute 'compileEstimationResults'"
     ]
    }
   ],
   "source": [
    "res.compileEstimationResults(all_results)"
   ]
  },
  {
   "cell_type": "markdown",
   "id": "9290c402",
   "metadata": {},
   "source": [
    "### Cost specification"
   ]
  },
  {
   "cell_type": "markdown",
   "id": "92f32390",
   "metadata": {},
   "source": [
    "We compare with the model where we specify the price, to be sure to have the most interesting model for the future models. (walk and cycling don't have cost, so only 2 specific parameter for cost)"
   ]
  },
  {
   "cell_type": "code",
   "execution_count": 28,
   "id": "6bfc4850",
   "metadata": {},
   "outputs": [],
   "source": [
    "beta_cost_drive = Beta('beta_cost_drive', 0, None, None, 0)\n",
    "beta_cost_pt = Beta('beta_cost_pt', 0, None, None, 0)"
   ]
  },
  {
   "cell_type": "markdown",
   "id": "17dbc909",
   "metadata": {},
   "source": [
    "New utility function"
   ]
  },
  {
   "cell_type": "code",
   "execution_count": 29,
   "id": "0a07671e",
   "metadata": {},
   "outputs": [],
   "source": [
    "v_walk_model1_spec_cost = beta_time * time_walk  \n",
    "v_cycle_model1_spec_cost = asc_cycle + beta_time * time_cycle \n",
    "v_pt_model1_spec_cost = asc_pt + beta_time * time_pt + beta_cost_pt * cost_pt\n",
    "v_drive_model1_spec_cost = asc_drive + beta_time * time_drive + beta_cost_drive * cost_drive"
   ]
  },
  {
   "cell_type": "code",
   "execution_count": 30,
   "id": "ab8ee846",
   "metadata": {},
   "outputs": [
    {
     "data": {
      "text/html": [
       "<div>\n",
       "<style scoped>\n",
       "    .dataframe tbody tr th:only-of-type {\n",
       "        vertical-align: middle;\n",
       "    }\n",
       "\n",
       "    .dataframe tbody tr th {\n",
       "        vertical-align: top;\n",
       "    }\n",
       "\n",
       "    .dataframe thead th {\n",
       "        text-align: right;\n",
       "    }\n",
       "</style>\n",
       "<table border=\"1\" class=\"dataframe\">\n",
       "  <thead>\n",
       "    <tr style=\"text-align: right;\">\n",
       "      <th></th>\n",
       "      <th>Value</th>\n",
       "      <th>Std err</th>\n",
       "      <th>t-test</th>\n",
       "      <th>p-value</th>\n",
       "      <th>Rob. Std err</th>\n",
       "      <th>Rob. t-test</th>\n",
       "      <th>Rob. p-value</th>\n",
       "    </tr>\n",
       "  </thead>\n",
       "  <tbody>\n",
       "    <tr>\n",
       "      <th>asc_cycle</th>\n",
       "      <td>-3.766977</td>\n",
       "      <td>0.102770</td>\n",
       "      <td>-36.654518</td>\n",
       "      <td>0.000000</td>\n",
       "      <td>0.107734</td>\n",
       "      <td>-34.965546</td>\n",
       "      <td>0.000000</td>\n",
       "    </tr>\n",
       "    <tr>\n",
       "      <th>asc_drive</th>\n",
       "      <td>-1.137420</td>\n",
       "      <td>0.073820</td>\n",
       "      <td>-15.408073</td>\n",
       "      <td>0.000000</td>\n",
       "      <td>0.080193</td>\n",
       "      <td>-14.183456</td>\n",
       "      <td>0.000000</td>\n",
       "    </tr>\n",
       "    <tr>\n",
       "      <th>asc_pt</th>\n",
       "      <td>-0.831977</td>\n",
       "      <td>0.062068</td>\n",
       "      <td>-13.404311</td>\n",
       "      <td>0.000000</td>\n",
       "      <td>0.064856</td>\n",
       "      <td>-12.828122</td>\n",
       "      <td>0.000000</td>\n",
       "    </tr>\n",
       "    <tr>\n",
       "      <th>beta_cost_drive</th>\n",
       "      <td>-0.214652</td>\n",
       "      <td>0.017250</td>\n",
       "      <td>-12.443376</td>\n",
       "      <td>0.000000</td>\n",
       "      <td>0.021273</td>\n",
       "      <td>-10.090343</td>\n",
       "      <td>0.000000</td>\n",
       "    </tr>\n",
       "    <tr>\n",
       "      <th>beta_cost_pt</th>\n",
       "      <td>0.061553</td>\n",
       "      <td>0.026157</td>\n",
       "      <td>2.353215</td>\n",
       "      <td>0.018612</td>\n",
       "      <td>0.028466</td>\n",
       "      <td>2.162358</td>\n",
       "      <td>0.030591</td>\n",
       "    </tr>\n",
       "    <tr>\n",
       "      <th>beta_time</th>\n",
       "      <td>-5.411667</td>\n",
       "      <td>0.183127</td>\n",
       "      <td>-29.551491</td>\n",
       "      <td>0.000000</td>\n",
       "      <td>0.202912</td>\n",
       "      <td>-26.670039</td>\n",
       "      <td>0.000000</td>\n",
       "    </tr>\n",
       "  </tbody>\n",
       "</table>\n",
       "</div>"
      ],
      "text/plain": [
       "                    Value   Std err     t-test   p-value  Rob. Std err  \\\n",
       "asc_cycle       -3.766977  0.102770 -36.654518  0.000000      0.107734   \n",
       "asc_drive       -1.137420  0.073820 -15.408073  0.000000      0.080193   \n",
       "asc_pt          -0.831977  0.062068 -13.404311  0.000000      0.064856   \n",
       "beta_cost_drive -0.214652  0.017250 -12.443376  0.000000      0.021273   \n",
       "beta_cost_pt     0.061553  0.026157   2.353215  0.018612      0.028466   \n",
       "beta_time       -5.411667  0.183127 -29.551491  0.000000      0.202912   \n",
       "\n",
       "                 Rob. t-test  Rob. p-value  \n",
       "asc_cycle         -34.965546      0.000000  \n",
       "asc_drive         -14.183456      0.000000  \n",
       "asc_pt            -12.828122      0.000000  \n",
       "beta_cost_drive   -10.090343      0.000000  \n",
       "beta_cost_pt        2.162358      0.030591  \n",
       "beta_time         -26.670039      0.000000  "
      ]
     },
     "execution_count": 30,
     "metadata": {},
     "output_type": "execute_result"
    }
   ],
   "source": [
    "V_model1_spec_cost = {1: v_walk_model1_spec_cost , 2: v_cycle_model1_spec_cost, 3: v_pt_model1_spec_cost, 4: v_drive_model1_spec_cost}\n",
    "logprob_model1_spec_cost = models.loglogit(V_model1_spec_cost, av, travel_mode)\n",
    "biogeme_model1_spec_cost = bio.BIOGEME(database, logprob_model1_spec_cost)\n",
    "biogeme_model1_spec_cost.modelName = 'Model_1_cost_specifiaction'\n",
    "all_results['Model1_cost_specification'] = biogeme_model1_spec_cost.estimate()\n",
    "results_alt_spec_cost = biogeme_model1_spec_cost.estimate()\n",
    "results_alt_spec_cost.getEstimatedParameters()"
   ]
  },
  {
   "cell_type": "code",
   "execution_count": 31,
   "id": "e9192ecf",
   "metadata": {},
   "outputs": [
    {
     "ename": "AttributeError",
     "evalue": "module 'biogeme.results' has no attribute 'compileEstimationResults'",
     "output_type": "error",
     "traceback": [
      "\u001b[1;31m---------------------------------------------------------------------------\u001b[0m",
      "\u001b[1;31mAttributeError\u001b[0m                            Traceback (most recent call last)",
      "Input \u001b[1;32mIn [31]\u001b[0m, in \u001b[0;36m<cell line: 1>\u001b[1;34m()\u001b[0m\n\u001b[1;32m----> 1\u001b[0m \u001b[43mres\u001b[49m\u001b[38;5;241;43m.\u001b[39;49m\u001b[43mcompileEstimationResults\u001b[49m(all_results)\n",
      "\u001b[1;31mAttributeError\u001b[0m: module 'biogeme.results' has no attribute 'compileEstimationResults'"
     ]
    }
   ],
   "source": [
    "res.compileEstimationResults(all_results)"
   ]
  },
  {
   "cell_type": "markdown",
   "id": "1c3651ff",
   "metadata": {},
   "source": [
    "### Comparaison"
   ]
  },
  {
   "cell_type": "markdown",
   "id": "9d333851",
   "metadata": {},
   "source": [
    "we compare the Akaike Information Criterion (AIC)"
   ]
  },
  {
   "cell_type": "code",
   "execution_count": 32,
   "id": "6a7f5f84",
   "metadata": {},
   "outputs": [
    {
     "name": "stdout",
     "output_type": "stream",
     "text": [
      "Model 0 PIC value : 9142.89298347718\n",
      "Model 1, time alternative specification PIC value : 8545.6684953841\n",
      "Model 1, cost alternative specification PIC value : 9030.730461378622\n"
     ]
    }
   ],
   "source": [
    "print(\"Model 0 PIC value :\",results_generic.data.akaike)\n",
    "print(\"Model 1, time alternative specification PIC value :\",results_alt_spec_time.data.akaike)\n",
    "print(\"Model 1, cost alternative specification PIC value :\",results_alt_spec_cost.data.akaike)"
   ]
  },
  {
   "cell_type": "markdown",
   "id": "be880eb4",
   "metadata": {},
   "source": [
    "we compare the Bayesian Information Criterion (BIC)"
   ]
  },
  {
   "cell_type": "code",
   "execution_count": 33,
   "id": "04b0298e",
   "metadata": {},
   "outputs": [
    {
     "name": "stdout",
     "output_type": "stream",
     "text": [
      "Model 0 PIC value : 9175.478949434262\n",
      "Model 1, alternative specification travel time, PIC value : 8597.80604091543\n",
      "Model 1, alternative specification cost, PIC value : 9069.833620527119\n"
     ]
    }
   ],
   "source": [
    "print(\"Model 0 PIC value :\",results_generic.data.bayesian)\n",
    "print(\"Model 1, alternative specification travel time, PIC value :\",results_alt_spec_time.data.bayesian)\n",
    "print(\"Model 1, alternative specification cost, PIC value :\",results_alt_spec_cost.data.bayesian)"
   ]
  },
  {
   "cell_type": "markdown",
   "id": "103b5d36",
   "metadata": {},
   "source": [
    "According to the AIC and the BIC, the best model is the one wih the alternative specific travel time coefficient, and the generic travel cost coefficient."
   ]
  },
  {
   "cell_type": "markdown",
   "id": "c3bf4808",
   "metadata": {},
   "source": [
    "# Model 2"
   ]
  },
  {
   "cell_type": "code",
   "execution_count": 58,
   "id": "dc5f96b2",
   "metadata": {},
   "outputs": [
    {
     "data": {
      "text/plain": [
       "Index(['trip_id', 'household_id', 'person_n', 'trip_n', 'travel_mode',\n",
       "       'purpose', 'fueltype', 'faretype', 'bus_scale', 'survey_year',\n",
       "       'travel_year', 'travel_month', 'travel_date', 'day_of_week',\n",
       "       'start_time', 'age', 'female', 'driving_license', 'car_ownership',\n",
       "       'distance', 'dur_walking', 'dur_cycling', 'dur_pt_access',\n",
       "       'dur_pt_rail', 'dur_pt_bus', 'dur_pt_int', 'pt_interchanges',\n",
       "       'dur_driving', 'cost_transit', 'cost_driving_fuel',\n",
       "       'cost_driving_ccharge', 'driving_traffic_percent'],\n",
       "      dtype='object')"
      ]
     },
     "execution_count": 58,
     "metadata": {},
     "output_type": "execute_result"
    }
   ],
   "source": [
    "LPMC.columns"
   ]
  },
  {
   "cell_type": "code",
   "execution_count": 59,
   "id": "26615ff9",
   "metadata": {},
   "outputs": [],
   "source": [
    "model_base=biogeme_model1"
   ]
  },
  {
   "cell_type": "code",
   "execution_count": 60,
   "id": "b3487741",
   "metadata": {},
   "outputs": [],
   "source": [
    "#we're adding the attribute distance to our model \n",
    "#we're adding the interaction between age and distance\n",
    "dur_pt_int=Variable('dur_pt_int')\n",
    "driving_license=Variable('driving_license')"
   ]
  },
  {
   "cell_type": "code",
   "execution_count": 61,
   "id": "79146d07",
   "metadata": {},
   "outputs": [],
   "source": [
    "#defining associated coefficients\n",
    "beta_pt_inter= Beta('beta_pt_inter', 0, None, None, 0)\n",
    "beta_license= Beta('beta_license', 0, None, None, 0)"
   ]
  },
  {
   "cell_type": "code",
   "execution_count": 62,
   "id": "58b2dbe7",
   "metadata": {},
   "outputs": [],
   "source": [
    "#the specification, we only consider the alternative distance for walking\n",
    "#the interaction distance age is considered just for public trasnport\n",
    "v_walk_model2 = v_walk_model1\n",
    "v_cycle_model2 = v_cycle_model1\n",
    "v_pt_model2 = v_pt_model1 + beta_pt_inter*dur_pt_int\n",
    "v_drive_model2 = v_drive_model1 + asc_drive*beta_license*driving_license"
   ]
  },
  {
   "cell_type": "code",
   "execution_count": 63,
   "id": "e46909b5",
   "metadata": {},
   "outputs": [
    {
     "data": {
      "text/html": [
       "<div>\n",
       "<style scoped>\n",
       "    .dataframe tbody tr th:only-of-type {\n",
       "        vertical-align: middle;\n",
       "    }\n",
       "\n",
       "    .dataframe tbody tr th {\n",
       "        vertical-align: top;\n",
       "    }\n",
       "\n",
       "    .dataframe thead th {\n",
       "        text-align: right;\n",
       "    }\n",
       "</style>\n",
       "<table border=\"1\" class=\"dataframe\">\n",
       "  <thead>\n",
       "    <tr style=\"text-align: right;\">\n",
       "      <th></th>\n",
       "      <th>Value</th>\n",
       "      <th>Std err</th>\n",
       "      <th>t-test</th>\n",
       "      <th>p-value</th>\n",
       "      <th>Rob. Std err</th>\n",
       "      <th>Rob. t-test</th>\n",
       "      <th>Rob. p-value</th>\n",
       "    </tr>\n",
       "  </thead>\n",
       "  <tbody>\n",
       "    <tr>\n",
       "      <th>asc_cycle</th>\n",
       "      <td>-4.559722</td>\n",
       "      <td>0.174154</td>\n",
       "      <td>-26.182099</td>\n",
       "      <td>0.000000</td>\n",
       "      <td>0.196662</td>\n",
       "      <td>-23.185537</td>\n",
       "      <td>0.000000</td>\n",
       "    </tr>\n",
       "    <tr>\n",
       "      <th>asc_drive</th>\n",
       "      <td>-2.773931</td>\n",
       "      <td>0.119784</td>\n",
       "      <td>-23.157712</td>\n",
       "      <td>0.000000</td>\n",
       "      <td>0.138465</td>\n",
       "      <td>-20.033384</td>\n",
       "      <td>0.000000</td>\n",
       "    </tr>\n",
       "    <tr>\n",
       "      <th>asc_pt</th>\n",
       "      <td>-2.442774</td>\n",
       "      <td>0.119358</td>\n",
       "      <td>-20.466009</td>\n",
       "      <td>0.000000</td>\n",
       "      <td>0.131427</td>\n",
       "      <td>-18.586579</td>\n",
       "      <td>0.000000</td>\n",
       "    </tr>\n",
       "    <tr>\n",
       "      <th>beta_cost</th>\n",
       "      <td>-0.138801</td>\n",
       "      <td>0.014346</td>\n",
       "      <td>-9.675237</td>\n",
       "      <td>0.000000</td>\n",
       "      <td>0.013822</td>\n",
       "      <td>-10.041922</td>\n",
       "      <td>0.000000</td>\n",
       "    </tr>\n",
       "    <tr>\n",
       "      <th>beta_license</th>\n",
       "      <td>-0.518761</td>\n",
       "      <td>0.025992</td>\n",
       "      <td>-19.958497</td>\n",
       "      <td>0.000000</td>\n",
       "      <td>0.028063</td>\n",
       "      <td>-18.485360</td>\n",
       "      <td>0.000000</td>\n",
       "    </tr>\n",
       "    <tr>\n",
       "      <th>beta_pt_inter</th>\n",
       "      <td>-1.446374</td>\n",
       "      <td>0.714046</td>\n",
       "      <td>-2.025604</td>\n",
       "      <td>0.042805</td>\n",
       "      <td>0.721894</td>\n",
       "      <td>-2.003582</td>\n",
       "      <td>0.045115</td>\n",
       "    </tr>\n",
       "    <tr>\n",
       "      <th>beta_time_cycle</th>\n",
       "      <td>-6.307711</td>\n",
       "      <td>0.477391</td>\n",
       "      <td>-13.212885</td>\n",
       "      <td>0.000000</td>\n",
       "      <td>0.558475</td>\n",
       "      <td>-11.294527</td>\n",
       "      <td>0.000000</td>\n",
       "    </tr>\n",
       "    <tr>\n",
       "      <th>beta_time_drive</th>\n",
       "      <td>-7.022215</td>\n",
       "      <td>0.350296</td>\n",
       "      <td>-20.046519</td>\n",
       "      <td>0.000000</td>\n",
       "      <td>0.411923</td>\n",
       "      <td>-17.047404</td>\n",
       "      <td>0.000000</td>\n",
       "    </tr>\n",
       "    <tr>\n",
       "      <th>beta_time_pt</th>\n",
       "      <td>-3.445152</td>\n",
       "      <td>0.262389</td>\n",
       "      <td>-13.129949</td>\n",
       "      <td>0.000000</td>\n",
       "      <td>0.283826</td>\n",
       "      <td>-12.138253</td>\n",
       "      <td>0.000000</td>\n",
       "    </tr>\n",
       "    <tr>\n",
       "      <th>beta_time_walk</th>\n",
       "      <td>-8.363130</td>\n",
       "      <td>0.296596</td>\n",
       "      <td>-28.197050</td>\n",
       "      <td>0.000000</td>\n",
       "      <td>0.376843</td>\n",
       "      <td>-22.192582</td>\n",
       "      <td>0.000000</td>\n",
       "    </tr>\n",
       "  </tbody>\n",
       "</table>\n",
       "</div>"
      ],
      "text/plain": [
       "                    Value   Std err     t-test   p-value  Rob. Std err  \\\n",
       "asc_cycle       -4.559722  0.174154 -26.182099  0.000000      0.196662   \n",
       "asc_drive       -2.773931  0.119784 -23.157712  0.000000      0.138465   \n",
       "asc_pt          -2.442774  0.119358 -20.466009  0.000000      0.131427   \n",
       "beta_cost       -0.138801  0.014346  -9.675237  0.000000      0.013822   \n",
       "beta_license    -0.518761  0.025992 -19.958497  0.000000      0.028063   \n",
       "beta_pt_inter   -1.446374  0.714046  -2.025604  0.042805      0.721894   \n",
       "beta_time_cycle -6.307711  0.477391 -13.212885  0.000000      0.558475   \n",
       "beta_time_drive -7.022215  0.350296 -20.046519  0.000000      0.411923   \n",
       "beta_time_pt    -3.445152  0.262389 -13.129949  0.000000      0.283826   \n",
       "beta_time_walk  -8.363130  0.296596 -28.197050  0.000000      0.376843   \n",
       "\n",
       "                 Rob. t-test  Rob. p-value  \n",
       "asc_cycle         -23.185537      0.000000  \n",
       "asc_drive         -20.033384      0.000000  \n",
       "asc_pt            -18.586579      0.000000  \n",
       "beta_cost         -10.041922      0.000000  \n",
       "beta_license      -18.485360      0.000000  \n",
       "beta_pt_inter      -2.003582      0.045115  \n",
       "beta_time_cycle   -11.294527      0.000000  \n",
       "beta_time_drive   -17.047404      0.000000  \n",
       "beta_time_pt      -12.138253      0.000000  \n",
       "beta_time_walk    -22.192582      0.000000  "
      ]
     },
     "execution_count": 63,
     "metadata": {},
     "output_type": "execute_result"
    }
   ],
   "source": [
    "#the estimation results\n",
    "V_model2 = {1: v_walk_model2 , 2: v_cycle_model2, 3: v_pt_model2, 4: v_drive_model2}\n",
    "logprob_model2 = models.loglogit(V_model2, av, travel_mode)\n",
    "biogeme_model2 = bio.BIOGEME(database, logprob_model2)\n",
    "biogeme_model2.modelName = 'Model_2'\n",
    "all_results['Model_2'] = biogeme_model2.estimate()\n",
    "results_model2 = biogeme_model2.estimate()\n",
    "results_model2.getEstimatedParameters()"
   ]
  },
  {
   "cell_type": "code",
   "execution_count": 64,
   "id": "a4e82848",
   "metadata": {},
   "outputs": [
    {
     "ename": "AttributeError",
     "evalue": "module 'biogeme.results' has no attribute 'compileEstimationResults'",
     "output_type": "error",
     "traceback": [
      "\u001b[1;31m---------------------------------------------------------------------------\u001b[0m",
      "\u001b[1;31mAttributeError\u001b[0m                            Traceback (most recent call last)",
      "Input \u001b[1;32mIn [64]\u001b[0m, in \u001b[0;36m<cell line: 1>\u001b[1;34m()\u001b[0m\n\u001b[1;32m----> 1\u001b[0m \u001b[43mres\u001b[49m\u001b[38;5;241;43m.\u001b[39;49m\u001b[43mcompileEstimationResults\u001b[49m(results_model2)\n",
      "\u001b[1;31mAttributeError\u001b[0m: module 'biogeme.results' has no attribute 'compileEstimationResults'"
     ]
    }
   ],
   "source": [
    "res.compileEstimationResults(results_model2)"
   ]
  },
  {
   "cell_type": "code",
   "execution_count": 69,
   "id": "de40941e",
   "metadata": {},
   "outputs": [],
   "source": [
    "#we test base_model against model_2 where base_model is a restricted version of model_2 suing the looglikehood\n",
    "#ratio test"
   ]
  },
  {
   "cell_type": "code",
   "execution_count": 66,
   "id": "776e820a",
   "metadata": {},
   "outputs": [],
   "source": [
    "#we test them using the null hypothesis that our base model is the true model"
   ]
  },
  {
   "cell_type": "code",
   "execution_count": 67,
   "id": "afbc783f",
   "metadata": {},
   "outputs": [],
   "source": [
    "results_base=model_base.estimate()"
   ]
  },
  {
   "cell_type": "code",
   "execution_count": 68,
   "id": "14d72238",
   "metadata": {},
   "outputs": [
    {
     "ename": "AttributeError",
     "evalue": "'bioResults' object has no attribute 'likelihood_ratio_test'",
     "output_type": "error",
     "traceback": [
      "\u001b[1;31m---------------------------------------------------------------------------\u001b[0m",
      "\u001b[1;31mAttributeError\u001b[0m                            Traceback (most recent call last)",
      "Input \u001b[1;32mIn [68]\u001b[0m, in \u001b[0;36m<cell line: 1>\u001b[1;34m()\u001b[0m\n\u001b[1;32m----> 1\u001b[0m \u001b[43mresults_model2\u001b[49m\u001b[38;5;241;43m.\u001b[39;49m\u001b[43mlikelihood_ratio_test\u001b[49m(results_base, \u001b[38;5;241m0.05\u001b[39m)\n",
      "\u001b[1;31mAttributeError\u001b[0m: 'bioResults' object has no attribute 'likelihood_ratio_test'"
     ]
    }
   ],
   "source": [
    "results_model2.likelihood_ratio_test(results_base, 0.05) #level of the statistics for a level of significance of 5%?"
   ]
  },
  {
   "cell_type": "code",
   "execution_count": 70,
   "id": "134c982c",
   "metadata": {},
   "outputs": [],
   "source": [
    "#then depending on if the value I obtained was higher or lower than a certain number, we reject or accept the null hypothesis"
   ]
  },
  {
   "cell_type": "code",
   "execution_count": 72,
   "id": "20bbe58f",
   "metadata": {},
   "outputs": [
    {
     "data": {
      "text/plain": [
       "5.991464547107979"
      ]
     },
     "execution_count": 72,
     "metadata": {},
     "output_type": "execute_result"
    }
   ],
   "source": [
    "from scipy.stats import chi2\n",
    "threshold = chi2.ppf(.95, 2)\n",
    "threshold #just in case we might want to compare to this threshold"
   ]
  },
  {
   "cell_type": "code",
   "execution_count": null,
   "id": "e6e85aa0",
   "metadata": {},
   "outputs": [],
   "source": []
  }
 ],
 "metadata": {
  "kernelspec": {
   "display_name": "Python 3 (ipykernel)",
   "language": "python",
   "name": "python3"
  },
  "language_info": {
   "codemirror_mode": {
    "name": "ipython",
    "version": 3
   },
   "file_extension": ".py",
   "mimetype": "text/x-python",
   "name": "python",
   "nbconvert_exporter": "python",
   "pygments_lexer": "ipython3",
   "version": "3.8.13"
  },
  "vscode": {
   "interpreter": {
    "hash": "4fd5ba7d4c804afe214bbf039c8927141be04e0f0b2f5e1ba57abd660c34784c"
   }
  }
 },
 "nbformat": 4,
 "nbformat_minor": 5
}
