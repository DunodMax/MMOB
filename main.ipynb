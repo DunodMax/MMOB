{
 "cells": [
  {
   "cell_type": "markdown",
   "id": "1b834efe",
   "metadata": {},
   "source": [
    "# MMOB Project"
   ]
  },
  {
   "cell_type": "markdown",
   "id": "df6705b8",
   "metadata": {},
   "source": [
    "# import"
   ]
  },
  {
   "cell_type": "markdown",
   "id": "1359753b",
   "metadata": {},
   "source": [
    "in this cell, relevant libraries are imported, as well as the datafile imported from our github and a dict that will store all results during the project "
   ]
  },
  {
   "cell_type": "code",
   "execution_count": 1,
   "id": "7db8a829",
   "metadata": {
    "scrolled": true
   },
   "outputs": [],
   "source": [
    "import pandas as pd\n",
    "import biogeme.database as db\n",
    "import biogeme.biogeme as bio\n",
    "from biogeme.expressions import Beta, Variable\n",
    "from biogeme import models\n",
    "from biogeme import results as res\n",
    "data_file ='https://raw.githubusercontent.com/DunodMax/MMOB/main/Dataset.txt'\n",
    "LPMC = pd.read_csv(data_file, sep='\\t')\n",
    "LPMC\n",
    "database = db.Database('LPMC', LPMC)\n",
    "all_results = {}"
   ]
  },
  {
   "cell_type": "markdown",
   "id": "29efbc5c",
   "metadata": {},
   "source": [
    "# Model 0"
   ]
  },
  {
   "cell_type": "markdown",
   "id": "fcc282c3",
   "metadata": {},
   "source": [
    "all useful columns for this model are used as variables"
   ]
  },
  {
   "cell_type": "code",
   "execution_count": 2,
   "id": "b8d50a89",
   "metadata": {},
   "outputs": [],
   "source": [
    "travel_mode=Variable('travel_mode')\n",
    "dur_pt_access=Variable('dur_pt_access')\n",
    "dur_pt_rail=Variable('dur_pt_rail')\n",
    "dur_pt_bus=Variable('dur_pt_bus')\n",
    "dur_pt_int=Variable('dur_pt_int')\n",
    "pt_interchanges=Variable('pt_interchanges')\n",
    "dur_driving=Variable('dur_driving')\n",
    "cost_transit=Variable('cost_transit')\n",
    "cost_driving_fuel=Variable('cost_driving_fuel')\n",
    "cost_driving_ccharge=Variable('cost_driving_ccharge')\n",
    "dur_walking=Variable('dur_walking')\n",
    "dur_cycling=Variable('dur_cycling')"
   ]
  },
  {
   "cell_type": "markdown",
   "id": "08e0734c",
   "metadata": {},
   "source": [
    "Trip duration for each mode are computed ( see report for details about equations)\n",
    "Cost for each mode with a cost are computed ( cycling and walking is considered free)"
   ]
  },
  {
   "cell_type": "code",
   "execution_count": 3,
   "id": "9d07da2e",
   "metadata": {},
   "outputs": [],
   "source": [
    "time_walk=dur_walking\n",
    "time_cycle=dur_cycling\n",
    "time_pt=dur_pt_access+dur_pt_rail+dur_pt_bus+dur_pt_int\n",
    "time_drive=dur_driving\n",
    "\n",
    "cost_drive=cost_driving_ccharge+cost_driving_fuel\n",
    "cost_pt=cost_transit"
   ]
  },
  {
   "cell_type": "markdown",
   "id": "a68d668a",
   "metadata": {},
   "source": [
    "There is 4 different travel mode, we will thus build a model with 4 utility functions, we create 3 alternative specific constant, a generic parameter for travel time and a generic parameter for cost"
   ]
  },
  {
   "cell_type": "code",
   "execution_count": 4,
   "id": "527ddfb5",
   "metadata": {},
   "outputs": [],
   "source": [
    "asc_cycle = Beta('asc_cycle', 0, None, None, 0)\n",
    "asc_pt = Beta('asc_pt', 0, None, None, 0)\n",
    "asc_drive = Beta('asc_drive', 0, None, None, 0)\n",
    "beta_cost = Beta('beta_cost', 0, None, None, 0)\n",
    "beta_time = Beta('beta_time', 0, None, None, 0)"
   ]
  },
  {
   "cell_type": "markdown",
   "id": "afbd2e71",
   "metadata": {},
   "source": [
    "utility functions"
   ]
  },
  {
   "cell_type": "code",
   "execution_count": 5,
   "id": "17661004",
   "metadata": {},
   "outputs": [],
   "source": [
    "v_walk_model0= beta_time * time_walk  \n",
    "v_cycle_model0= asc_cycle + beta_time * time_cycle \n",
    "v_pt_model0= asc_pt + beta_time * time_pt + beta_cost * cost_pt\n",
    "v_drive_model0= asc_drive + beta_time * time_drive + beta_cost * cost_drive"
   ]
  },
  {
   "cell_type": "code",
   "execution_count": 6,
   "id": "09a242b4",
   "metadata": {},
   "outputs": [],
   "source": [
    "av = {1: 1, 2: 1, 3: 1, 4:1}"
   ]
  },
  {
   "cell_type": "markdown",
   "id": "295c4066",
   "metadata": {},
   "source": [
    "estimation of the parameters for Model 0, all relevant parameters are printed"
   ]
  },
  {
   "cell_type": "code",
   "execution_count": 7,
   "id": "b8605612",
   "metadata": {},
   "outputs": [
    {
     "data": {
      "text/html": [
       "<div>\n",
       "<style scoped>\n",
       "    .dataframe tbody tr th:only-of-type {\n",
       "        vertical-align: middle;\n",
       "    }\n",
       "\n",
       "    .dataframe tbody tr th {\n",
       "        vertical-align: top;\n",
       "    }\n",
       "\n",
       "    .dataframe thead th {\n",
       "        text-align: right;\n",
       "    }\n",
       "</style>\n",
       "<table border=\"1\" class=\"dataframe\">\n",
       "  <thead>\n",
       "    <tr style=\"text-align: right;\">\n",
       "      <th></th>\n",
       "      <th>Value</th>\n",
       "      <th>Std err</th>\n",
       "      <th>t-test</th>\n",
       "      <th>p-value</th>\n",
       "      <th>Rob. Std err</th>\n",
       "      <th>Rob. t-test</th>\n",
       "      <th>Rob. p-value</th>\n",
       "    </tr>\n",
       "  </thead>\n",
       "  <tbody>\n",
       "    <tr>\n",
       "      <th>asc_cycle</th>\n",
       "      <td>-3.832163</td>\n",
       "      <td>0.102680</td>\n",
       "      <td>-37.321371</td>\n",
       "      <td>0.0</td>\n",
       "      <td>0.107574</td>\n",
       "      <td>-35.623351</td>\n",
       "      <td>0.0</td>\n",
       "    </tr>\n",
       "    <tr>\n",
       "      <th>asc_drive</th>\n",
       "      <td>-1.235707</td>\n",
       "      <td>0.073716</td>\n",
       "      <td>-16.763025</td>\n",
       "      <td>0.0</td>\n",
       "      <td>0.080400</td>\n",
       "      <td>-15.369411</td>\n",
       "      <td>0.0</td>\n",
       "    </tr>\n",
       "    <tr>\n",
       "      <th>asc_pt</th>\n",
       "      <td>-0.528767</td>\n",
       "      <td>0.053297</td>\n",
       "      <td>-9.921212</td>\n",
       "      <td>0.0</td>\n",
       "      <td>0.054766</td>\n",
       "      <td>-9.655006</td>\n",
       "      <td>0.0</td>\n",
       "    </tr>\n",
       "    <tr>\n",
       "      <th>beta_cost</th>\n",
       "      <td>-0.169780</td>\n",
       "      <td>0.013321</td>\n",
       "      <td>-12.745694</td>\n",
       "      <td>0.0</td>\n",
       "      <td>0.013108</td>\n",
       "      <td>-12.952753</td>\n",
       "      <td>0.0</td>\n",
       "    </tr>\n",
       "    <tr>\n",
       "      <th>beta_time</th>\n",
       "      <td>-5.450540</td>\n",
       "      <td>0.181898</td>\n",
       "      <td>-29.964846</td>\n",
       "      <td>0.0</td>\n",
       "      <td>0.202684</td>\n",
       "      <td>-26.891767</td>\n",
       "      <td>0.0</td>\n",
       "    </tr>\n",
       "  </tbody>\n",
       "</table>\n",
       "</div>"
      ],
      "text/plain": [
       "              Value   Std err     t-test  p-value  Rob. Std err  Rob. t-test  \\\n",
       "asc_cycle -3.832163  0.102680 -37.321371      0.0      0.107574   -35.623351   \n",
       "asc_drive -1.235707  0.073716 -16.763025      0.0      0.080400   -15.369411   \n",
       "asc_pt    -0.528767  0.053297  -9.921212      0.0      0.054766    -9.655006   \n",
       "beta_cost -0.169780  0.013321 -12.745694      0.0      0.013108   -12.952753   \n",
       "beta_time -5.450540  0.181898 -29.964846      0.0      0.202684   -26.891767   \n",
       "\n",
       "           Rob. p-value  \n",
       "asc_cycle           0.0  \n",
       "asc_drive           0.0  \n",
       "asc_pt              0.0  \n",
       "beta_cost           0.0  \n",
       "beta_time           0.0  "
      ]
     },
     "execution_count": 7,
     "metadata": {},
     "output_type": "execute_result"
    }
   ],
   "source": [
    "V_model0 = {1: v_walk_model0 , 2: v_cycle_model0, 3: v_pt_model0, 4: v_drive_model0}\n",
    "logprob_model0 = models.loglogit(V_model0, av, travel_mode)\n",
    "biogeme_model0 = bio.BIOGEME(database, logprob_model0)\n",
    "biogeme_model0.modelName = 'Model_0'\n",
    "all_results['Model0'] = biogeme_model0.estimate()\n",
    "results_generic = biogeme_model0.estimate()\n",
    "results_generic.getEstimatedParameters()"
   ]
  },
  {
   "cell_type": "code",
   "execution_count": 8,
   "id": "f8fd4259",
   "metadata": {},
   "outputs": [
    {
     "ename": "AttributeError",
     "evalue": "module 'biogeme.results' has no attribute 'compileEstimationResults'",
     "output_type": "error",
     "traceback": [
      "\u001b[1;31m---------------------------------------------------------------------------\u001b[0m",
      "\u001b[1;31mAttributeError\u001b[0m                            Traceback (most recent call last)",
      "Input \u001b[1;32mIn [8]\u001b[0m, in \u001b[0;36m<cell line: 1>\u001b[1;34m()\u001b[0m\n\u001b[1;32m----> 1\u001b[0m \u001b[43mres\u001b[49m\u001b[38;5;241;43m.\u001b[39;49m\u001b[43mcompileEstimationResults\u001b[49m(all_results)\n",
      "\u001b[1;31mAttributeError\u001b[0m: module 'biogeme.results' has no attribute 'compileEstimationResults'"
     ]
    }
   ],
   "source": [
    "res.compileEstimationResults(all_results)"
   ]
  },
  {
   "cell_type": "code",
   "execution_count": 9,
   "id": "b77d2fb4",
   "metadata": {},
   "outputs": [
    {
     "name": "stdout",
     "output_type": "stream",
     "text": [
      "Null Loglikelihood : \n"
     ]
    },
    {
     "data": {
      "text/plain": [
       "-6931.471805599454"
      ]
     },
     "execution_count": 9,
     "metadata": {},
     "output_type": "execute_result"
    }
   ],
   "source": [
    "print(\"Null Loglikelihood : \")\n",
    "biogeme_model0.calculateNullLoglikelihood(av)"
   ]
  },
  {
   "cell_type": "markdown",
   "id": "af9c8c20",
   "metadata": {},
   "source": [
    "# Model 1 "
   ]
  },
  {
   "cell_type": "markdown",
   "id": "712a2de8",
   "metadata": {},
   "source": [
    "### Time specification"
   ]
  },
  {
   "cell_type": "markdown",
   "id": "fd300db1",
   "metadata": {},
   "source": [
    "We will try a specification where the the cost coeffecient is Generic and the time coefficient is alternative specific"
   ]
  },
  {
   "cell_type": "markdown",
   "id": "9f49a4cd",
   "metadata": {},
   "source": [
    "Again 4 different travel mode, 4 utility functions and 3 alternative specific constant.\n",
    "This time we have the generic parameter for cost and a 4 new specific parameter for travel time"
   ]
  },
  {
   "cell_type": "code",
   "execution_count": 10,
   "id": "44110c8a",
   "metadata": {},
   "outputs": [],
   "source": [
    "beta_time_drive = Beta('beta_time_drive', 0, None, None, 0)\n",
    "beta_time_pt = Beta('beta_time_pt', 0, None, None, 0)\n",
    "beta_time_walk = Beta('beta_time_walk', 0, None, None, 0)\n",
    "beta_time_cycle = Beta('beta_time_cycle', 0, None, None, 0)"
   ]
  },
  {
   "cell_type": "markdown",
   "id": "087e6e16",
   "metadata": {},
   "source": [
    "New utility functions :"
   ]
  },
  {
   "cell_type": "code",
   "execution_count": 11,
   "id": "188c60e3",
   "metadata": {},
   "outputs": [],
   "source": [
    "v_walk_model1 = beta_time_walk * time_walk  \n",
    "v_cycle_model1 = asc_cycle + beta_time_cycle * time_cycle \n",
    "v_pt_model1 = asc_pt + beta_time_pt * time_pt + beta_cost * cost_pt\n",
    "v_drive_model1 = asc_drive + beta_time_drive * time_drive + beta_cost * cost_drive"
   ]
  },
  {
   "cell_type": "markdown",
   "id": "410224b3",
   "metadata": {},
   "source": [
    "Estimation of the parameters for Model 1, all relevant parameters are printed"
   ]
  },
  {
   "cell_type": "code",
   "execution_count": 12,
   "id": "8ac1b493",
   "metadata": {},
   "outputs": [
    {
     "data": {
      "text/html": [
       "<div>\n",
       "<style scoped>\n",
       "    .dataframe tbody tr th:only-of-type {\n",
       "        vertical-align: middle;\n",
       "    }\n",
       "\n",
       "    .dataframe tbody tr th {\n",
       "        vertical-align: top;\n",
       "    }\n",
       "\n",
       "    .dataframe thead th {\n",
       "        text-align: right;\n",
       "    }\n",
       "</style>\n",
       "<table border=\"1\" class=\"dataframe\">\n",
       "  <thead>\n",
       "    <tr style=\"text-align: right;\">\n",
       "      <th></th>\n",
       "      <th>Value</th>\n",
       "      <th>Std err</th>\n",
       "      <th>t-test</th>\n",
       "      <th>p-value</th>\n",
       "      <th>Rob. Std err</th>\n",
       "      <th>Rob. t-test</th>\n",
       "      <th>Rob. p-value</th>\n",
       "    </tr>\n",
       "  </thead>\n",
       "  <tbody>\n",
       "    <tr>\n",
       "      <th>asc_cycle</th>\n",
       "      <td>-4.509593</td>\n",
       "      <td>0.171871</td>\n",
       "      <td>-26.238171</td>\n",
       "      <td>0.0</td>\n",
       "      <td>0.191028</td>\n",
       "      <td>-23.606920</td>\n",
       "      <td>0.0</td>\n",
       "    </tr>\n",
       "    <tr>\n",
       "      <th>asc_drive</th>\n",
       "      <td>-1.885701</td>\n",
       "      <td>0.106697</td>\n",
       "      <td>-17.673479</td>\n",
       "      <td>0.0</td>\n",
       "      <td>0.122740</td>\n",
       "      <td>-15.363361</td>\n",
       "      <td>0.0</td>\n",
       "    </tr>\n",
       "    <tr>\n",
       "      <th>asc_pt</th>\n",
       "      <td>-2.339709</td>\n",
       "      <td>0.114622</td>\n",
       "      <td>-20.412388</td>\n",
       "      <td>0.0</td>\n",
       "      <td>0.125798</td>\n",
       "      <td>-18.598938</td>\n",
       "      <td>0.0</td>\n",
       "    </tr>\n",
       "    <tr>\n",
       "      <th>beta_cost</th>\n",
       "      <td>-0.146061</td>\n",
       "      <td>0.014772</td>\n",
       "      <td>-9.887595</td>\n",
       "      <td>0.0</td>\n",
       "      <td>0.014850</td>\n",
       "      <td>-9.835754</td>\n",
       "      <td>0.0</td>\n",
       "    </tr>\n",
       "    <tr>\n",
       "      <th>beta_time_cycle</th>\n",
       "      <td>-6.121448</td>\n",
       "      <td>0.467854</td>\n",
       "      <td>-13.084093</td>\n",
       "      <td>0.0</td>\n",
       "      <td>0.542680</td>\n",
       "      <td>-11.280025</td>\n",
       "      <td>0.0</td>\n",
       "    </tr>\n",
       "    <tr>\n",
       "      <th>beta_time_drive</th>\n",
       "      <td>-6.445066</td>\n",
       "      <td>0.333687</td>\n",
       "      <td>-19.314718</td>\n",
       "      <td>0.0</td>\n",
       "      <td>0.391345</td>\n",
       "      <td>-16.469010</td>\n",
       "      <td>0.0</td>\n",
       "    </tr>\n",
       "    <tr>\n",
       "      <th>beta_time_pt</th>\n",
       "      <td>-3.514554</td>\n",
       "      <td>0.233212</td>\n",
       "      <td>-15.070204</td>\n",
       "      <td>0.0</td>\n",
       "      <td>0.258207</td>\n",
       "      <td>-13.611367</td>\n",
       "      <td>0.0</td>\n",
       "    </tr>\n",
       "    <tr>\n",
       "      <th>beta_time_walk</th>\n",
       "      <td>-8.204816</td>\n",
       "      <td>0.290737</td>\n",
       "      <td>-28.220736</td>\n",
       "      <td>0.0</td>\n",
       "      <td>0.364365</td>\n",
       "      <td>-22.518121</td>\n",
       "      <td>0.0</td>\n",
       "    </tr>\n",
       "  </tbody>\n",
       "</table>\n",
       "</div>"
      ],
      "text/plain": [
       "                    Value   Std err     t-test  p-value  Rob. Std err  \\\n",
       "asc_cycle       -4.509593  0.171871 -26.238171      0.0      0.191028   \n",
       "asc_drive       -1.885701  0.106697 -17.673479      0.0      0.122740   \n",
       "asc_pt          -2.339709  0.114622 -20.412388      0.0      0.125798   \n",
       "beta_cost       -0.146061  0.014772  -9.887595      0.0      0.014850   \n",
       "beta_time_cycle -6.121448  0.467854 -13.084093      0.0      0.542680   \n",
       "beta_time_drive -6.445066  0.333687 -19.314718      0.0      0.391345   \n",
       "beta_time_pt    -3.514554  0.233212 -15.070204      0.0      0.258207   \n",
       "beta_time_walk  -8.204816  0.290737 -28.220736      0.0      0.364365   \n",
       "\n",
       "                 Rob. t-test  Rob. p-value  \n",
       "asc_cycle         -23.606920           0.0  \n",
       "asc_drive         -15.363361           0.0  \n",
       "asc_pt            -18.598938           0.0  \n",
       "beta_cost          -9.835754           0.0  \n",
       "beta_time_cycle   -11.280025           0.0  \n",
       "beta_time_drive   -16.469010           0.0  \n",
       "beta_time_pt      -13.611367           0.0  \n",
       "beta_time_walk    -22.518121           0.0  "
      ]
     },
     "execution_count": 12,
     "metadata": {},
     "output_type": "execute_result"
    }
   ],
   "source": [
    "V_model1 = {1: v_walk_model1 , 2: v_cycle_model1, 3: v_pt_model1, 4: v_drive_model1}\n",
    "logprob_model1 = models.loglogit(V_model1, av, travel_mode)\n",
    "biogeme_model1 = bio.BIOGEME(database, logprob_model1)\n",
    "biogeme_model1.modelName = 'Model1_time_specification'\n",
    "all_results['Model1_time_specification'] = biogeme_model1.estimate()\n",
    "results_alt_spec_time = biogeme_model1.estimate()\n",
    "results_alt_spec_time.getEstimatedParameters()"
   ]
  },
  {
   "cell_type": "code",
   "execution_count": 13,
   "id": "cf11683b",
   "metadata": {},
   "outputs": [
    {
     "ename": "AttributeError",
     "evalue": "module 'biogeme.results' has no attribute 'compileEstimationResults'",
     "output_type": "error",
     "traceback": [
      "\u001b[1;31m---------------------------------------------------------------------------\u001b[0m",
      "\u001b[1;31mAttributeError\u001b[0m                            Traceback (most recent call last)",
      "Input \u001b[1;32mIn [13]\u001b[0m, in \u001b[0;36m<cell line: 1>\u001b[1;34m()\u001b[0m\n\u001b[1;32m----> 1\u001b[0m \u001b[43mres\u001b[49m\u001b[38;5;241;43m.\u001b[39;49m\u001b[43mcompileEstimationResults\u001b[49m(all_results)\n",
      "\u001b[1;31mAttributeError\u001b[0m: module 'biogeme.results' has no attribute 'compileEstimationResults'"
     ]
    }
   ],
   "source": [
    "res.compileEstimationResults(all_results)"
   ]
  },
  {
   "cell_type": "markdown",
   "id": "9290c402",
   "metadata": {},
   "source": [
    "### Cost specification"
   ]
  },
  {
   "cell_type": "markdown",
   "id": "92f32390",
   "metadata": {},
   "source": [
    "We compare with the model where we specify the price, to be sure to have the most interesting model for the future models. (walk and cycling don't have cost, so only 2 specific parameter for cost)"
   ]
  },
  {
   "cell_type": "code",
   "execution_count": null,
   "id": "6bfc4850",
   "metadata": {},
   "outputs": [],
   "source": [
    "beta_cost_drive = Beta('beta_cost_drive', 0, None, None, 0)\n",
    "beta_cost_pt = Beta('beta_cost_pt', 0, None, None, 0)"
   ]
  },
  {
   "cell_type": "markdown",
   "id": "17dbc909",
   "metadata": {},
   "source": [
    "New utility function"
   ]
  },
  {
   "cell_type": "code",
   "execution_count": null,
   "id": "0a07671e",
   "metadata": {},
   "outputs": [],
   "source": [
    "v_walk_model1_spec_cost = beta_time * time_walk  \n",
    "v_cycle_model1_spec_cost = asc_cycle + beta_time * time_cycle \n",
    "v_pt_model1_spec_cost = asc_pt + beta_time * time_pt + beta_cost_pt * cost_pt\n",
    "v_drive_model1_spec_cost = asc_drive + beta_time * time_drive + beta_cost_drive * cost_drive"
   ]
  },
  {
   "cell_type": "code",
   "execution_count": null,
   "id": "ab8ee846",
   "metadata": {},
   "outputs": [],
   "source": [
    "V_model1_spec_cost = {1: v_walk_model1_spec_cost , 2: v_cycle_model1_spec_cost, 3: v_pt_model1_spec_cost, 4: v_drive_model1_spec_cost}\n",
    "logprob_model1_spec_cost = models.loglogit(V_model1_spec_cost, av, travel_mode)\n",
    "biogeme_model1_spec_cost = bio.BIOGEME(database, logprob_model1_spec_cost)\n",
    "biogeme_model1_spec_cost.modelName = 'Model_1_cost_specifiaction'\n",
    "all_results['Model1_cost_specification'] = biogeme_model1_spec_cost.estimate()\n",
    "results_alt_spec_cost = biogeme_model1_spec_cost.estimate()\n",
    "results_alt_spec_cost.getEstimatedParameters()"
   ]
  },
  {
   "cell_type": "code",
   "execution_count": null,
   "id": "e9192ecf",
   "metadata": {},
   "outputs": [],
   "source": [
    "res.compileEstimationResults(all_results)"
   ]
  },
  {
   "cell_type": "markdown",
   "id": "1c3651ff",
   "metadata": {},
   "source": [
    "### Comparaison"
   ]
  },
  {
   "cell_type": "markdown",
   "id": "9d333851",
   "metadata": {},
   "source": [
    "we compare the Akaike Information Criterion (AIC)"
   ]
  },
  {
   "cell_type": "code",
   "execution_count": 14,
   "id": "6a7f5f84",
   "metadata": {},
   "outputs": [
    {
     "name": "stdout",
     "output_type": "stream",
     "text": [
      "Model 0 PIC value : 9142.89298347718\n",
      "Model 1, time alternative specification PIC value : 8545.668496833014\n"
     ]
    },
    {
     "ename": "NameError",
     "evalue": "name 'results_alt_spec_cost' is not defined",
     "output_type": "error",
     "traceback": [
      "\u001b[1;31m---------------------------------------------------------------------------\u001b[0m",
      "\u001b[1;31mNameError\u001b[0m                                 Traceback (most recent call last)",
      "Input \u001b[1;32mIn [14]\u001b[0m, in \u001b[0;36m<cell line: 3>\u001b[1;34m()\u001b[0m\n\u001b[0;32m      1\u001b[0m \u001b[38;5;28mprint\u001b[39m(\u001b[38;5;124m\"\u001b[39m\u001b[38;5;124mModel 0 PIC value :\u001b[39m\u001b[38;5;124m\"\u001b[39m,results_generic\u001b[38;5;241m.\u001b[39mdata\u001b[38;5;241m.\u001b[39makaike)\n\u001b[0;32m      2\u001b[0m \u001b[38;5;28mprint\u001b[39m(\u001b[38;5;124m\"\u001b[39m\u001b[38;5;124mModel 1, time alternative specification PIC value :\u001b[39m\u001b[38;5;124m\"\u001b[39m,results_alt_spec_time\u001b[38;5;241m.\u001b[39mdata\u001b[38;5;241m.\u001b[39makaike)\n\u001b[1;32m----> 3\u001b[0m \u001b[38;5;28mprint\u001b[39m(\u001b[38;5;124m\"\u001b[39m\u001b[38;5;124mModel 1, cost alternative specification PIC value :\u001b[39m\u001b[38;5;124m\"\u001b[39m,\u001b[43mresults_alt_spec_cost\u001b[49m\u001b[38;5;241m.\u001b[39mdata\u001b[38;5;241m.\u001b[39makaike)\n",
      "\u001b[1;31mNameError\u001b[0m: name 'results_alt_spec_cost' is not defined"
     ]
    }
   ],
   "source": [
    "print(\"Model 0 PIC value :\",results_generic.data.akaike)\n",
    "print(\"Model 1, time alternative specification PIC value :\",results_alt_spec_time.data.akaike)\n",
    "print(\"Model 1, cost alternative specification PIC value :\",results_alt_spec_cost.data.akaike)"
   ]
  },
  {
   "cell_type": "markdown",
   "id": "be880eb4",
   "metadata": {},
   "source": [
    "we compare the Bayesian Information Criterion (BIC)"
   ]
  },
  {
   "cell_type": "code",
   "execution_count": 15,
   "id": "04b0298e",
   "metadata": {},
   "outputs": [
    {
     "name": "stdout",
     "output_type": "stream",
     "text": [
      "Model 0 PIC value : 9175.478949434262\n",
      "Model 1, alternative specification travel time, PIC value : 8597.806042364344\n"
     ]
    },
    {
     "ename": "NameError",
     "evalue": "name 'results_alt_spec_cost' is not defined",
     "output_type": "error",
     "traceback": [
      "\u001b[1;31m---------------------------------------------------------------------------\u001b[0m",
      "\u001b[1;31mNameError\u001b[0m                                 Traceback (most recent call last)",
      "Input \u001b[1;32mIn [15]\u001b[0m, in \u001b[0;36m<cell line: 3>\u001b[1;34m()\u001b[0m\n\u001b[0;32m      1\u001b[0m \u001b[38;5;28mprint\u001b[39m(\u001b[38;5;124m\"\u001b[39m\u001b[38;5;124mModel 0 PIC value :\u001b[39m\u001b[38;5;124m\"\u001b[39m,results_generic\u001b[38;5;241m.\u001b[39mdata\u001b[38;5;241m.\u001b[39mbayesian)\n\u001b[0;32m      2\u001b[0m \u001b[38;5;28mprint\u001b[39m(\u001b[38;5;124m\"\u001b[39m\u001b[38;5;124mModel 1, alternative specification travel time, PIC value :\u001b[39m\u001b[38;5;124m\"\u001b[39m,results_alt_spec_time\u001b[38;5;241m.\u001b[39mdata\u001b[38;5;241m.\u001b[39mbayesian)\n\u001b[1;32m----> 3\u001b[0m \u001b[38;5;28mprint\u001b[39m(\u001b[38;5;124m\"\u001b[39m\u001b[38;5;124mModel 1, alternative specification cost, PIC value :\u001b[39m\u001b[38;5;124m\"\u001b[39m,\u001b[43mresults_alt_spec_cost\u001b[49m\u001b[38;5;241m.\u001b[39mdata\u001b[38;5;241m.\u001b[39mbayesian)\n",
      "\u001b[1;31mNameError\u001b[0m: name 'results_alt_spec_cost' is not defined"
     ]
    }
   ],
   "source": [
    "print(\"Model 0 PIC value :\",results_generic.data.bayesian)\n",
    "print(\"Model 1, alternative specification travel time, PIC value :\",results_alt_spec_time.data.bayesian)\n",
    "print(\"Model 1, alternative specification cost, PIC value :\",results_alt_spec_cost.data.bayesian)"
   ]
  },
  {
   "cell_type": "markdown",
   "id": "103b5d36",
   "metadata": {},
   "source": [
    "According to the AIC and the BIC, the best model is the one wih the alternative specific travel time coefficient, and the generic travel cost coefficient."
   ]
  },
  {
   "cell_type": "markdown",
   "id": "c3bf4808",
   "metadata": {},
   "source": [
    "# Model 2"
   ]
  },
  {
   "cell_type": "code",
   "execution_count": 16,
   "id": "dc5f96b2",
   "metadata": {},
   "outputs": [
    {
     "data": {
      "text/plain": [
       "Index(['trip_id', 'household_id', 'person_n', 'trip_n', 'travel_mode',\n",
       "       'purpose', 'fueltype', 'faretype', 'bus_scale', 'survey_year',\n",
       "       'travel_year', 'travel_month', 'travel_date', 'day_of_week',\n",
       "       'start_time', 'age', 'female', 'driving_license', 'car_ownership',\n",
       "       'distance', 'dur_walking', 'dur_cycling', 'dur_pt_access',\n",
       "       'dur_pt_rail', 'dur_pt_bus', 'dur_pt_int', 'pt_interchanges',\n",
       "       'dur_driving', 'cost_transit', 'cost_driving_fuel',\n",
       "       'cost_driving_ccharge', 'driving_traffic_percent'],\n",
       "      dtype='object')"
      ]
     },
     "execution_count": 16,
     "metadata": {},
     "output_type": "execute_result"
    }
   ],
   "source": [
    "LPMC.columns"
   ]
  },
  {
   "cell_type": "code",
   "execution_count": 17,
   "id": "2d65c284",
   "metadata": {},
   "outputs": [
    {
     "data": {
      "text/plain": [
       "0       71\n",
       "1       64\n",
       "3       54\n",
       "4       49\n",
       "9       65\n",
       "        ..\n",
       "612     88\n",
       "660     86\n",
       "763     87\n",
       "852     89\n",
       "4853    93\n",
       "Name: age, Length: 89, dtype: int64"
      ]
     },
     "execution_count": 17,
     "metadata": {},
     "output_type": "execute_result"
    }
   ],
   "source": [
    "LPMC.age.drop_duplicates()"
   ]
  },
  {
   "cell_type": "code",
   "execution_count": 18,
   "id": "01d26e07",
   "metadata": {},
   "outputs": [
    {
     "data": {
      "text/plain": [
       "count    5000.000000\n",
       "mean       40.167800\n",
       "std        18.998806\n",
       "min         5.000000\n",
       "25%        26.000000\n",
       "50%        39.000000\n",
       "75%        53.000000\n",
       "max        99.000000\n",
       "Name: age, dtype: float64"
      ]
     },
     "execution_count": 18,
     "metadata": {},
     "output_type": "execute_result"
    }
   ],
   "source": [
    "LPMC.age.describe()"
   ]
  },
  {
   "cell_type": "code",
   "execution_count": 19,
   "id": "26615ff9",
   "metadata": {},
   "outputs": [],
   "source": [
    "biogeme_model_pref = biogeme_model1 #our prefered model using previous cell"
   ]
  },
  {
   "cell_type": "code",
   "execution_count": 20,
   "id": "b3487741",
   "metadata": {},
   "outputs": [],
   "source": [
    "#we're adding the attribute distance to our model \n",
    "#we're adding the interaction between age and distance\n",
    "distance=Variable('distance')\n",
    "age=Variable('age')"
   ]
  },
  {
   "cell_type": "code",
   "execution_count": 21,
   "id": "79146d07",
   "metadata": {},
   "outputs": [],
   "source": [
    "#defining associated coefficients\n",
    "beta_distance= Beta('beta_distance', 0, None, None, 0)\n",
    "beta_age_distance= Beta('beta_age_distance', 0, None, None, 0)"
   ]
  },
  {
   "cell_type": "code",
   "execution_count": 22,
   "id": "58b2dbe7",
   "metadata": {},
   "outputs": [],
   "source": [
    "#the specification, we only consider the alternative distance for walking\n",
    "#the interaction distance age is considered just for public trasnport\n",
    "v_walk_model_pref = v_walk_model1 + beta_distance * distance\n",
    "v_cycle_model_pref = v_cycle_model1\n",
    "v_pt_model_pref = v_pt_model1 + beta_age_distance * age * distance\n",
    "v_drive_model_pref = v_drive_model1"
   ]
  },
  {
   "cell_type": "code",
   "execution_count": 23,
   "id": "e46909b5",
   "metadata": {},
   "outputs": [
    {
     "data": {
      "text/html": [
       "<div>\n",
       "<style scoped>\n",
       "    .dataframe tbody tr th:only-of-type {\n",
       "        vertical-align: middle;\n",
       "    }\n",
       "\n",
       "    .dataframe tbody tr th {\n",
       "        vertical-align: top;\n",
       "    }\n",
       "\n",
       "    .dataframe thead th {\n",
       "        text-align: right;\n",
       "    }\n",
       "</style>\n",
       "<table border=\"1\" class=\"dataframe\">\n",
       "  <thead>\n",
       "    <tr style=\"text-align: right;\">\n",
       "      <th></th>\n",
       "      <th>Value</th>\n",
       "      <th>Std err</th>\n",
       "      <th>t-test</th>\n",
       "      <th>p-value</th>\n",
       "      <th>Rob. Std err</th>\n",
       "      <th>Rob. t-test</th>\n",
       "      <th>Rob. p-value</th>\n",
       "    </tr>\n",
       "  </thead>\n",
       "  <tbody>\n",
       "    <tr>\n",
       "      <th>asc_cycle</th>\n",
       "      <td>-4.449497</td>\n",
       "      <td>1.721565e-01</td>\n",
       "      <td>-25.845644</td>\n",
       "      <td>0.000000e+00</td>\n",
       "      <td>1.911024e-01</td>\n",
       "      <td>-23.283316</td>\n",
       "      <td>0.000000</td>\n",
       "    </tr>\n",
       "    <tr>\n",
       "      <th>asc_drive</th>\n",
       "      <td>-1.807570</td>\n",
       "      <td>1.081134e-01</td>\n",
       "      <td>-16.719199</td>\n",
       "      <td>0.000000e+00</td>\n",
       "      <td>1.242581e-01</td>\n",
       "      <td>-14.546902</td>\n",
       "      <td>0.000000</td>\n",
       "    </tr>\n",
       "    <tr>\n",
       "      <th>asc_pt</th>\n",
       "      <td>-2.345378</td>\n",
       "      <td>1.162453e-01</td>\n",
       "      <td>-20.176115</td>\n",
       "      <td>0.000000e+00</td>\n",
       "      <td>1.285554e-01</td>\n",
       "      <td>-18.244106</td>\n",
       "      <td>0.000000</td>\n",
       "    </tr>\n",
       "    <tr>\n",
       "      <th>beta_age_distance</th>\n",
       "      <td>-0.000002</td>\n",
       "      <td>3.032714e-07</td>\n",
       "      <td>-5.608678</td>\n",
       "      <td>2.038777e-08</td>\n",
       "      <td>3.550320e-07</td>\n",
       "      <td>-4.790981</td>\n",
       "      <td>0.000002</td>\n",
       "    </tr>\n",
       "    <tr>\n",
       "      <th>beta_cost</th>\n",
       "      <td>-0.147382</td>\n",
       "      <td>1.500983e-02</td>\n",
       "      <td>-9.819056</td>\n",
       "      <td>0.000000e+00</td>\n",
       "      <td>1.525602e-02</td>\n",
       "      <td>-9.660601</td>\n",
       "      <td>0.000000</td>\n",
       "    </tr>\n",
       "    <tr>\n",
       "      <th>beta_distance</th>\n",
       "      <td>-0.000759</td>\n",
       "      <td>2.507486e-04</td>\n",
       "      <td>-3.026023</td>\n",
       "      <td>2.477939e-03</td>\n",
       "      <td>2.850129e-04</td>\n",
       "      <td>-2.662234</td>\n",
       "      <td>0.007762</td>\n",
       "    </tr>\n",
       "    <tr>\n",
       "      <th>beta_time_cycle</th>\n",
       "      <td>-6.698642</td>\n",
       "      <td>4.795484e-01</td>\n",
       "      <td>-13.968645</td>\n",
       "      <td>0.000000e+00</td>\n",
       "      <td>5.588156e-01</td>\n",
       "      <td>-11.987213</td>\n",
       "      <td>0.000000</td>\n",
       "    </tr>\n",
       "    <tr>\n",
       "      <th>beta_time_drive</th>\n",
       "      <td>-7.249854</td>\n",
       "      <td>3.713098e-01</td>\n",
       "      <td>-19.525079</td>\n",
       "      <td>0.000000e+00</td>\n",
       "      <td>4.394175e-01</td>\n",
       "      <td>-16.498784</td>\n",
       "      <td>0.000000</td>\n",
       "    </tr>\n",
       "    <tr>\n",
       "      <th>beta_time_pt</th>\n",
       "      <td>-3.153433</td>\n",
       "      <td>2.389975e-01</td>\n",
       "      <td>-13.194422</td>\n",
       "      <td>0.000000e+00</td>\n",
       "      <td>2.657520e-01</td>\n",
       "      <td>-11.866076</td>\n",
       "      <td>0.000000</td>\n",
       "    </tr>\n",
       "    <tr>\n",
       "      <th>beta_time_walk</th>\n",
       "      <td>-5.384342</td>\n",
       "      <td>1.017018e+00</td>\n",
       "      <td>-5.294245</td>\n",
       "      <td>1.195094e-07</td>\n",
       "      <td>1.149130e+00</td>\n",
       "      <td>-4.685583</td>\n",
       "      <td>0.000003</td>\n",
       "    </tr>\n",
       "  </tbody>\n",
       "</table>\n",
       "</div>"
      ],
      "text/plain": [
       "                      Value       Std err     t-test       p-value  \\\n",
       "asc_cycle         -4.449497  1.721565e-01 -25.845644  0.000000e+00   \n",
       "asc_drive         -1.807570  1.081134e-01 -16.719199  0.000000e+00   \n",
       "asc_pt            -2.345378  1.162453e-01 -20.176115  0.000000e+00   \n",
       "beta_age_distance -0.000002  3.032714e-07  -5.608678  2.038777e-08   \n",
       "beta_cost         -0.147382  1.500983e-02  -9.819056  0.000000e+00   \n",
       "beta_distance     -0.000759  2.507486e-04  -3.026023  2.477939e-03   \n",
       "beta_time_cycle   -6.698642  4.795484e-01 -13.968645  0.000000e+00   \n",
       "beta_time_drive   -7.249854  3.713098e-01 -19.525079  0.000000e+00   \n",
       "beta_time_pt      -3.153433  2.389975e-01 -13.194422  0.000000e+00   \n",
       "beta_time_walk    -5.384342  1.017018e+00  -5.294245  1.195094e-07   \n",
       "\n",
       "                   Rob. Std err  Rob. t-test  Rob. p-value  \n",
       "asc_cycle          1.911024e-01   -23.283316      0.000000  \n",
       "asc_drive          1.242581e-01   -14.546902      0.000000  \n",
       "asc_pt             1.285554e-01   -18.244106      0.000000  \n",
       "beta_age_distance  3.550320e-07    -4.790981      0.000002  \n",
       "beta_cost          1.525602e-02    -9.660601      0.000000  \n",
       "beta_distance      2.850129e-04    -2.662234      0.007762  \n",
       "beta_time_cycle    5.588156e-01   -11.987213      0.000000  \n",
       "beta_time_drive    4.394175e-01   -16.498784      0.000000  \n",
       "beta_time_pt       2.657520e-01   -11.866076      0.000000  \n",
       "beta_time_walk     1.149130e+00    -4.685583      0.000003  "
      ]
     },
     "execution_count": 23,
     "metadata": {},
     "output_type": "execute_result"
    }
   ],
   "source": [
    "#the estimation results\n",
    "V_model_pref = {1: v_walk_model_pref , 2: v_cycle_model_pref, 3: v_pt_model_pref, 4: v_drive_model_pref}\n",
    "logprob_model_pref = models.loglogit(V_model_pref, av, travel_mode)\n",
    "biogeme_model_pref = bio.BIOGEME(database, logprob_model_pref)\n",
    "biogeme_model_pref.modelName = 'Model_prefered'\n",
    "all_results['Model_prefered'] = biogeme_model_pref.estimate()\n",
    "results_model_pref = biogeme_model_pref.estimate()\n",
    "results_model_pref.getEstimatedParameters()"
   ]
  },
  {
   "cell_type": "code",
   "execution_count": 24,
   "id": "a4e82848",
   "metadata": {},
   "outputs": [
    {
     "ename": "AttributeError",
     "evalue": "module 'biogeme.results' has no attribute 'compileEstimationResults'",
     "output_type": "error",
     "traceback": [
      "\u001b[1;31m---------------------------------------------------------------------------\u001b[0m",
      "\u001b[1;31mAttributeError\u001b[0m                            Traceback (most recent call last)",
      "Input \u001b[1;32mIn [24]\u001b[0m, in \u001b[0;36m<cell line: 1>\u001b[1;34m()\u001b[0m\n\u001b[1;32m----> 1\u001b[0m \u001b[43mres\u001b[49m\u001b[38;5;241;43m.\u001b[39;49m\u001b[43mcompileEstimationResults\u001b[49m(results_model_pref)\n",
      "\u001b[1;31mAttributeError\u001b[0m: module 'biogeme.results' has no attribute 'compileEstimationResults'"
     ]
    }
   ],
   "source": [
    "res.compileEstimationResults(results_model_pref)"
   ]
  },
  {
   "cell_type": "code",
   "execution_count": 27,
   "id": "de40941e",
   "metadata": {},
   "outputs": [],
   "source": [
    "#here I'll do (maybe) BIC, AIK, and loglikehood ratio between model pref(base model) and model_augmented \n",
    "#(with the new features)"
   ]
  },
  {
   "cell_type": "code",
   "execution_count": null,
   "id": "776e820a",
   "metadata": {},
   "outputs": [],
   "source": []
  },
  {
   "cell_type": "code",
   "execution_count": null,
   "id": "34bf7334",
   "metadata": {},
   "outputs": [],
   "source": []
  }
 ],
 "metadata": {
  "kernelspec": {
   "display_name": "Python 3 (ipykernel)",
   "language": "python",
   "name": "python3"
  },
  "language_info": {
   "codemirror_mode": {
    "name": "ipython",
    "version": 3
   },
   "file_extension": ".py",
   "mimetype": "text/x-python",
   "name": "python",
   "nbconvert_exporter": "python",
   "pygments_lexer": "ipython3",
   "version": "3.8.13"
  },
  "vscode": {
   "interpreter": {
    "hash": "4fd5ba7d4c804afe214bbf039c8927141be04e0f0b2f5e1ba57abd660c34784c"
   }
  }
 },
 "nbformat": 4,
 "nbformat_minor": 5
}
