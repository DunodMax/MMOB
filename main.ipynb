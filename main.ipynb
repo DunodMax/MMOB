
 "cells": [
  {
   "cell_type": "markdown",
   "id": "1b834efe",
   "metadata": {},
   "source": [
    "# MMOB Project"
   ]
  },
  {
   "cell_type": "markdown",
   "id": "df6705b8",
   "metadata": {},
   "source": [
    "# import"
   ]
  },
  {
   "cell_type": "markdown",
   "id": "1359753b",
   "metadata": {},
   "source": [
    "in this cell, relevant libraries are imported, as well as the datafile imported from our github and a dict that will store all results during the project "
   ]
  },
  {
   "cell_type": "code",
   "execution_count": 141,
   "id": "7db8a829",
   "metadata": {},
   "outputs": [],
   "source": [
    "import pandas as pd\n",
    "import pandas as pd\n",
    "import biogeme.database as db\n",
    "import biogeme.biogeme as bio\n",
    "from biogeme.expressions import Beta, Variable\n",
    "from biogeme import models\n",
    "from biogeme import results as res\n",
    "data_file ='https://raw.githubusercontent.com/DunodMax/MMOB/main/Dataset.txt'\n",
    "LPMC = pd.read_csv(data_file, sep='\\t')\n",
    "LPMC\n",
    "database = db.Database('LPMC', LPMC)\n",
    "all_results = {}"
   ]
  },
  {
   "cell_type": "markdown",
   "id": "29efbc5c",
   "metadata": {},
   "source": [
    "## Model 0"
   ]
  },
  {
   "cell_type": "markdown",
   "id": "fcc282c3",
   "metadata": {},
   "source": [
    "all useful columns for this model are used as variables"
   ]
  },
  {
   "cell_type": "code",
   "execution_count": 150,
   "id": "b8d50a89",
   "metadata": {},
   "outputs": [],
   "source": [
    "travel_mode=Variable('travel_mode')\n",
    "dur_pt_access=Variable('dur_pt_access')\n",
    "dur_pt_rail=Variable('dur_pt_rail')\n",
    "dur_pt_bus=Variable('dur_pt_bus')\n",
    "dur_pt_int=Variable('dur_pt_int')\n",
    "pt_interchanges=Variable('pt_interchanges')\n",
    "dur_driving=Variable('dur_driving')\n",
    "cost_transit=Variable('cost_transit')\n",
    "cost_driving_fuel=Variable('cost_driving_fuel')\n",
    "cost_driving_ccharge=Variable('cost_driving_ccharge')\n",
    "dur_walking=Variable('dur_walking')\n",
    "dur_cycling=Variable('dur_cycling')"
   ]
  },
  {
   "cell_type": "markdown",
   "id": "08e0734c",
   "metadata": {},
   "source": [
    "Trip duration for each mode are computed ( see report for details about equations)\n",
    "Cost for each mode with a cost are computed ( cycling and walking is considered free)"
   ]
  },
  {
   "cell_type": "code",
   "execution_count": 151,
   "id": "9d07da2e",
   "metadata": {},
   "outputs": [],
   "source": [
    "time_walk=dur_walking\n",
    "time_cycle=dur_cycling\n",
    "time_pt=dur_pt_access+dur_pt_rail+dur_pt_bus+dur_pt_int\n",
    "time_drive=dur_driving\n",
    "\n",
    "cost_drive=cost_driving_ccharge+cost_driving_fuel\n",
    "cost_pt=cost_transit"
   ]
  },
  {
   "cell_type": "markdown",
   "id": "a68d668a",
   "metadata": {},
   "source": [
    "There is 4 different travel mode, we will thus build a model with 4 utility functions, we create 3 alternative specific constant, a generic parameter for travel time and a generic parameter for cost"
   ]
  },
  {
   "cell_type": "code",
   "execution_count": 152,
   "id": "527ddfb5",
   "metadata": {},
   "outputs": [],
   "source": [
    "asc_cycle = Beta('asc_cycle', 0, None, None, 0)\n",
    "asc_pt = Beta('asc_pt', 0, None, None, 0)\n",
    "asc_drive = Beta('asc_drive', 0, None, None, 0)\n",
    "beta_cost = Beta('beta_cost', 0, None, None, 0)\n",
    "beta_time = Beta('beta_time', 0, None, None, 0)"
   ]
  },
  {
   "cell_type": "markdown",
   "id": "afbd2e71",
   "metadata": {},
   "source": [
    "utility functions"
   ]
  },
  {
   "cell_type": "code",
   "execution_count": 153,
   "id": "17661004",
   "metadata": {},
   "outputs": [],
   "source": [
    "v_walk_model0= beta_time * time_walk  \n",
    "v_cycle_model0= asc_cycle + beta_time * time_cycle \n",
    "v_pt_model0= asc_pt + beta_time * time_pt + beta_cost * cost_pt\n",
    "v_drive_model0= asc_drive + beta_time * time_drive + beta_cost * cost_drive"
   ]
  },
  {
   "cell_type": "markdown",
   "id": "295c4066",
   "metadata": {},
   "source": [
    "estimation of the parameters for Model 0, all relevant parameters are printed"
   ]
  },
  {
   "cell_type": "code",
   "execution_count": 162,
   "id": "b8605612",
   "metadata": {},
   "outputs": [
    {
     "data": {
      "text/html": [
       "<div>\n",
       "<style scoped>\n",
       "    .dataframe tbody tr th:only-of-type {\n",
       "        vertical-align: middle;\n",
       "    }\n",
       "\n",
       "    .dataframe tbody tr th {\n",
       "        vertical-align: top;\n",
       "    }\n",
       "\n",
       "    .dataframe thead th {\n",
       "        text-align: right;\n",
       "    }\n",
       "</style>\n",
       "<table border=\"1\" class=\"dataframe\">\n",
       "  <thead>\n",
       "    <tr style=\"text-align: right;\">\n",
       "      <th></th>\n",
       "      <th>Value</th>\n",
       "      <th>Rob. Std err</th>\n",
       "      <th>Rob. t-test</th>\n",
       "      <th>Rob. p-value</th>\n",
       "    </tr>\n",
       "  </thead>\n",
       "  <tbody>\n",
       "    <tr>\n",
       "      <th>asc_cycle</th>\n",
       "      <td>-3.832088</td>\n",
       "      <td>0.107571</td>\n",
       "      <td>-35.623812</td>\n",
       "      <td>0.0</td>\n",
       "    </tr>\n",
       "    <tr>\n",
       "      <th>asc_drive</th>\n",
       "      <td>-1.235686</td>\n",
       "      <td>0.080400</td>\n",
       "      <td>-15.369147</td>\n",
       "      <td>0.0</td>\n",
       "    </tr>\n",
       "    <tr>\n",
       "      <th>asc_pt</th>\n",
       "      <td>-0.528751</td>\n",
       "      <td>0.054766</td>\n",
       "      <td>-9.654670</td>\n",
       "      <td>0.0</td>\n",
       "    </tr>\n",
       "    <tr>\n",
       "      <th>beta_cost</th>\n",
       "      <td>-0.169778</td>\n",
       "      <td>0.013107</td>\n",
       "      <td>-12.952760</td>\n",
       "      <td>0.0</td>\n",
       "    </tr>\n",
       "    <tr>\n",
       "      <th>beta_time</th>\n",
       "      <td>-5.450518</td>\n",
       "      <td>0.202684</td>\n",
       "      <td>-26.891701</td>\n",
       "      <td>0.0</td>\n",
       "    </tr>\n",
       "  </tbody>\n",
       "</table>\n",
       "</div>"
      ],
      "text/plain": [
       "              Value  Rob. Std err  Rob. t-test  Rob. p-value\n",
       "asc_cycle -3.832088      0.107571   -35.623812           0.0\n",
       "asc_drive -1.235686      0.080400   -15.369147           0.0\n",
       "asc_pt    -0.528751      0.054766    -9.654670           0.0\n",
       "beta_cost -0.169778      0.013107   -12.952760           0.0\n",
       "beta_time -5.450518      0.202684   -26.891701           0.0"
      ]
     },
     "execution_count": 162,
     "metadata": {},
     "output_type": "execute_result"
    }
   ],
   "source": [
    "V_model0 = {1: v_walk_model0 , 2: v_cycle_model0, 3: v_pt_model0, 4: v_drive_model0}\n",
    "logprob_model0 = models.loglogit(V_model0, None, travel_mode)\n",
    "biogeme_model0 = bio.BIOGEME(database, logprob_model0)\n",
    "biogeme_model0.modelName = 'Model_0'\n",
    "all_results['Model0'] = biogeme_model0.estimate()\n",
    "results_generic = biogeme_model0.estimate()\n",
    "results_generic.getEstimatedParameters()"
   ]
  },
  {
   "cell_type": "code",
   "execution_count": 163,
   "id": "f8fd4259",
   "metadata": {},
   "outputs": [
    {
     "data": {
      "text/html": [
       "<div>\n",
       "<style scoped>\n",
       "    .dataframe tbody tr th:only-of-type {\n",
       "        vertical-align: middle;\n",
       "    }\n",
       "\n",
       "    .dataframe tbody tr th {\n",
       "        vertical-align: top;\n",
       "    }\n",
       "\n",
       "    .dataframe thead th {\n",
       "        text-align: right;\n",
       "    }\n",
       "</style>\n",
       "<table border=\"1\" class=\"dataframe\">\n",
       "  <thead>\n",
       "    <tr style=\"text-align: right;\">\n",
       "      <th></th>\n",
       "      <th>Model0</th>\n",
       "    </tr>\n",
       "  </thead>\n",
       "  <tbody>\n",
       "    <tr>\n",
       "      <th>Number of estimated parameters</th>\n",
       "      <td>5.000000</td>\n",
       "    </tr>\n",
       "    <tr>\n",
       "      <th>Sample size</th>\n",
       "      <td>5000.000000</td>\n",
       "    </tr>\n",
       "    <tr>\n",
       "      <th>Final log likelihood</th>\n",
       "      <td>-4566.446492</td>\n",
       "    </tr>\n",
       "    <tr>\n",
       "      <th>Akaike Information Criterion</th>\n",
       "      <td>9142.892984</td>\n",
       "    </tr>\n",
       "    <tr>\n",
       "      <th>Bayesian Information Criterion</th>\n",
       "      <td>9175.478950</td>\n",
       "    </tr>\n",
       "    <tr>\n",
       "      <th>asc_cycle</th>\n",
       "      <td>-3.832088</td>\n",
       "    </tr>\n",
       "    <tr>\n",
       "      <th>asc_drive</th>\n",
       "      <td>-1.235686</td>\n",
       "    </tr>\n",
       "    <tr>\n",
       "      <th>asc_pt</th>\n",
       "      <td>-0.528751</td>\n",
       "    </tr>\n",
       "    <tr>\n",
       "      <th>beta_cost</th>\n",
       "      <td>-0.169778</td>\n",
       "    </tr>\n",
       "    <tr>\n",
       "      <th>beta_time</th>\n",
       "      <td>-5.450518</td>\n",
       "    </tr>\n",
       "  </tbody>\n",
       "</table>\n",
       "</div>"
      ],
      "text/plain": [
       "                                     Model0\n",
       "Number of estimated parameters     5.000000\n",
       "Sample size                     5000.000000\n",
       "Final log likelihood           -4566.446492\n",
       "Akaike Information Criterion    9142.892984\n",
       "Bayesian Information Criterion  9175.478950\n",
       "asc_cycle                         -3.832088\n",
       "asc_drive                         -1.235686\n",
       "asc_pt                            -0.528751\n",
       "beta_cost                         -0.169778\n",
       "beta_time                         -5.450518"
      ]
     },
     "execution_count": 163,
     "metadata": {},
     "output_type": "execute_result"
    }
   ],
   "source": [
    "res.compileEstimationResults(all_results)"
   ]
  },
  {
   "cell_type": "code",
   "execution_count": 164,
   "id": "b77d2fb4",
   "metadata": {},
   "outputs": [
    {
     "name": "stdout",
     "output_type": "stream",
     "text": [
      "Null Loglikelihood : \n",
      "None\n"
     ]
    }
   ],
   "source": [
    "print(\"Null Loglikelihood : \")\n",
    "print(results_generic.data.nullLogLike)"
   ]
  },
  {
   "cell_type": "code",
   "execution_count": null,
   "id": "af9c8c20",
   "metadata": {},
   "outputs": [],
   "source": []
  }
 ],
 "metadata": {
  "kernelspec": {
   "display_name": "Python 3 (ipykernel)",
   "language": "python",
   "name": "python3"
  },
  "language_info": {
   "codemirror_mode": {
    "name": "ipython",
    "version": 3
   },
   "file_extension": ".py",
   "mimetype": "text/x-python",
   "name": "python",
   "nbconvert_exporter": "python",
   "pygments_lexer": "ipython3",
   "version": "3.9.12"
  }
 },
 "nbformat": 4,
 "nbformat_minor": 5
}
