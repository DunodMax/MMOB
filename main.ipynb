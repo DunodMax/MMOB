{
 "cells": [
  {
   "cell_type": "markdown",
   "id": "1b834efe",
   "metadata": {},
   "source": [
    "# MMOB Project"
   ]
  },
  {
   "cell_type": "markdown",
   "id": "df6705b8",
   "metadata": {},
   "source": [
    "# import"
   ]
  },
  {
   "cell_type": "markdown",
   "id": "1359753b",
   "metadata": {},
   "source": [
    "in this cell, relevant libraries are imported, as well as the datafile imported from our github and a dict that will store all results during the project "
   ]
  },
  {
   "cell_type": "code",
   "execution_count": 1,
   "id": "7db8a829",
   "metadata": {
    "scrolled": true
   },
   "outputs": [
    {
     "name": "stderr",
     "output_type": "stream",
     "text": [
      "/Users/maximedunod/opt/anaconda3/lib/python3.9/site-packages/scipy/__init__.py:146: UserWarning: A NumPy version >=1.16.5 and <1.23.0 is required for this version of SciPy (detected version 1.23.3\n",
      "  warnings.warn(f\"A NumPy version >={np_minversion} and <{np_maxversion}\"\n"
     ]
    }
   ],
   "source": [
    "import pandas as pd\n",
    "import biogeme.database as db\n",
    "import biogeme.biogeme as bio\n",
    "from biogeme.expressions import Beta, Variable\n",
    "from biogeme import models\n",
    "from biogeme import results as res\n",
    "data_file ='https://raw.githubusercontent.com/DunodMax/MMOB/main/Dataset.txt'\n",
    "LPMC = pd.read_csv(data_file, sep='\\t')\n",
    "LPMC\n",
    "database = db.Database('LPMC', LPMC)\n",
    "all_results = {}"
   ]
  },
  {
   "cell_type": "markdown",
   "id": "29efbc5c",
   "metadata": {},
   "source": [
    "# Model 0"
   ]
  },
  {
   "cell_type": "markdown",
   "id": "fcc282c3",
   "metadata": {},
   "source": [
    "all useful columns for this model are used as variables"
   ]
  },
  {
   "cell_type": "code",
   "execution_count": 2,
   "id": "b8d50a89",
   "metadata": {},
   "outputs": [],
   "source": [
    "travel_mode=Variable('travel_mode')\n",
    "dur_pt_access=Variable('dur_pt_access')\n",
    "dur_pt_rail=Variable('dur_pt_rail')\n",
    "dur_pt_bus=Variable('dur_pt_bus')\n",
    "dur_pt_int=Variable('dur_pt_int')\n",
    "pt_interchanges=Variable('pt_interchanges')\n",
    "dur_driving=Variable('dur_driving')\n",
    "cost_transit=Variable('cost_transit')\n",
    "cost_driving_fuel=Variable('cost_driving_fuel')\n",
    "cost_driving_ccharge=Variable('cost_driving_ccharge')\n",
    "dur_walking=Variable('dur_walking')\n",
    "dur_cycling=Variable('dur_cycling')"
   ]
  },
  {
   "cell_type": "markdown",
   "id": "08e0734c",
   "metadata": {},
   "source": [
    "Trip duration for each mode are computed ( see report for details about equations)\n",
    "Cost for each mode with a cost are computed ( cycling and walking is considered free)"
   ]
  },
  {
   "cell_type": "code",
   "execution_count": 3,
   "id": "9d07da2e",
   "metadata": {},
   "outputs": [],
   "source": [
    "time_walk=dur_walking\n",
    "time_cycle=dur_cycling\n",
    "time_pt=dur_pt_access+dur_pt_rail+dur_pt_bus+dur_pt_int\n",
    "time_drive=dur_driving\n",
    "\n",
    "cost_drive=cost_driving_ccharge+cost_driving_fuel\n",
    "cost_pt=cost_transit"
   ]
  },
  {
   "cell_type": "markdown",
   "id": "a68d668a",
   "metadata": {},
   "source": [
    "There is 4 different travel mode, we will thus build a model with 4 utility functions, we create 3 alternative specific constant, a generic parameter for travel time and a generic parameter for cost"
   ]
  },
  {
   "cell_type": "code",
   "execution_count": 4,
   "id": "527ddfb5",
   "metadata": {},
   "outputs": [],
   "source": [
    "asc_cycle = Beta('asc_cycle', 0, None, None, 0)\n",
    "asc_pt = Beta('asc_pt', 0, None, None, 0)\n",
    "asc_drive = Beta('asc_drive', 0, None, None, 0)\n",
    "beta_cost = Beta('beta_cost', 0, None, None, 0)\n",
    "beta_time = Beta('beta_time', 0, None, None, 0)"
   ]
  },
  {
   "cell_type": "markdown",
   "id": "afbd2e71",
   "metadata": {},
   "source": [
    "utility functions"
   ]
  },
  {
   "cell_type": "code",
   "execution_count": 5,
   "id": "17661004",
   "metadata": {},
   "outputs": [],
   "source": [
    "v_walk_model0= beta_time * time_walk  \n",
    "v_cycle_model0= asc_cycle + beta_time * time_cycle \n",
    "v_pt_model0= asc_pt + beta_time * time_pt + beta_cost * cost_pt\n",
    "v_drive_model0= asc_drive + beta_time * time_drive + beta_cost * cost_drive"
   ]
  },
  {
   "cell_type": "code",
   "execution_count": 6,
   "id": "09a242b4",
   "metadata": {},
   "outputs": [],
   "source": [
    "av = {1: 1, 2: 1, 3: 1, 4:1}"
   ]
  },
  {
   "cell_type": "markdown",
   "id": "295c4066",
   "metadata": {},
   "source": [
    "estimation of the parameters for Model 0, all relevant parameters are printed"
   ]
  },
  {
   "cell_type": "code",
   "execution_count": 7,
   "id": "b8605612",
   "metadata": {},
   "outputs": [
    {
     "name": "stdout",
     "output_type": "stream",
     "text": [
      "[09:20:36] < Warning >   Cannot read file __Model_0.iter. Statement is ignored.\n"
     ]
    },
    {
     "data": {
      "text/html": [
       "<div>\n",
       "<style scoped>\n",
       "    .dataframe tbody tr th:only-of-type {\n",
       "        vertical-align: middle;\n",
       "    }\n",
       "\n",
       "    .dataframe tbody tr th {\n",
       "        vertical-align: top;\n",
       "    }\n",
       "\n",
       "    .dataframe thead th {\n",
       "        text-align: right;\n",
       "    }\n",
       "</style>\n",
       "<table border=\"1\" class=\"dataframe\">\n",
       "  <thead>\n",
       "    <tr style=\"text-align: right;\">\n",
       "      <th></th>\n",
       "      <th>Value</th>\n",
       "      <th>Rob. Std err</th>\n",
       "      <th>Rob. t-test</th>\n",
       "      <th>Rob. p-value</th>\n",
       "    </tr>\n",
       "  </thead>\n",
       "  <tbody>\n",
       "    <tr>\n",
       "      <th>asc_cycle</th>\n",
       "      <td>-3.832163</td>\n",
       "      <td>0.107574</td>\n",
       "      <td>-35.623351</td>\n",
       "      <td>0.0</td>\n",
       "    </tr>\n",
       "    <tr>\n",
       "      <th>asc_drive</th>\n",
       "      <td>-1.235707</td>\n",
       "      <td>0.080400</td>\n",
       "      <td>-15.369411</td>\n",
       "      <td>0.0</td>\n",
       "    </tr>\n",
       "    <tr>\n",
       "      <th>asc_pt</th>\n",
       "      <td>-0.528767</td>\n",
       "      <td>0.054766</td>\n",
       "      <td>-9.655006</td>\n",
       "      <td>0.0</td>\n",
       "    </tr>\n",
       "    <tr>\n",
       "      <th>beta_cost</th>\n",
       "      <td>-0.169780</td>\n",
       "      <td>0.013108</td>\n",
       "      <td>-12.952753</td>\n",
       "      <td>0.0</td>\n",
       "    </tr>\n",
       "    <tr>\n",
       "      <th>beta_time</th>\n",
       "      <td>-5.450540</td>\n",
       "      <td>0.202684</td>\n",
       "      <td>-26.891767</td>\n",
       "      <td>0.0</td>\n",
       "    </tr>\n",
       "  </tbody>\n",
       "</table>\n",
       "</div>"
      ],
      "text/plain": [
       "              Value  Rob. Std err  Rob. t-test  Rob. p-value\n",
       "asc_cycle -3.832163      0.107574   -35.623351           0.0\n",
       "asc_drive -1.235707      0.080400   -15.369411           0.0\n",
       "asc_pt    -0.528767      0.054766    -9.655006           0.0\n",
       "beta_cost -0.169780      0.013108   -12.952753           0.0\n",
       "beta_time -5.450540      0.202684   -26.891767           0.0"
      ]
     },
     "execution_count": 7,
     "metadata": {},
     "output_type": "execute_result"
    }
   ],
   "source": [
    "V_model0 = {1: v_walk_model0 , 2: v_cycle_model0, 3: v_pt_model0, 4: v_drive_model0}\n",
    "logprob_model0 = models.loglogit(V_model0, av, travel_mode)\n",
    "biogeme_model0 = bio.BIOGEME(database, logprob_model0)\n",
    "biogeme_model0.modelName = 'Model_0'\n",
    "all_results['Model0'] = biogeme_model0.estimate()\n",
    "results_generic = biogeme_model0.estimate()\n",
    "results_generic.getEstimatedParameters()"
   ]
  },
  {
   "cell_type": "code",
   "execution_count": 8,
   "id": "f8fd4259",
   "metadata": {},
   "outputs": [
    {
     "data": {
      "text/html": [
       "<div>\n",
       "<style scoped>\n",
       "    .dataframe tbody tr th:only-of-type {\n",
       "        vertical-align: middle;\n",
       "    }\n",
       "\n",
       "    .dataframe tbody tr th {\n",
       "        vertical-align: top;\n",
       "    }\n",
       "\n",
       "    .dataframe thead th {\n",
       "        text-align: right;\n",
       "    }\n",
       "</style>\n",
       "<table border=\"1\" class=\"dataframe\">\n",
       "  <thead>\n",
       "    <tr style=\"text-align: right;\">\n",
       "      <th></th>\n",
       "      <th>Model0</th>\n",
       "    </tr>\n",
       "  </thead>\n",
       "  <tbody>\n",
       "    <tr>\n",
       "      <th>Number of estimated parameters</th>\n",
       "      <td>5.000000</td>\n",
       "    </tr>\n",
       "    <tr>\n",
       "      <th>Sample size</th>\n",
       "      <td>5000.000000</td>\n",
       "    </tr>\n",
       "    <tr>\n",
       "      <th>Final log likelihood</th>\n",
       "      <td>-4566.446492</td>\n",
       "    </tr>\n",
       "    <tr>\n",
       "      <th>Akaike Information Criterion</th>\n",
       "      <td>9142.892983</td>\n",
       "    </tr>\n",
       "    <tr>\n",
       "      <th>Bayesian Information Criterion</th>\n",
       "      <td>9175.478949</td>\n",
       "    </tr>\n",
       "    <tr>\n",
       "      <th>asc_cycle</th>\n",
       "      <td>-3.832163</td>\n",
       "    </tr>\n",
       "    <tr>\n",
       "      <th>asc_drive</th>\n",
       "      <td>-1.235707</td>\n",
       "    </tr>\n",
       "    <tr>\n",
       "      <th>asc_pt</th>\n",
       "      <td>-0.528767</td>\n",
       "    </tr>\n",
       "    <tr>\n",
       "      <th>beta_cost</th>\n",
       "      <td>-0.169780</td>\n",
       "    </tr>\n",
       "    <tr>\n",
       "      <th>beta_time</th>\n",
       "      <td>-5.450540</td>\n",
       "    </tr>\n",
       "  </tbody>\n",
       "</table>\n",
       "</div>"
      ],
      "text/plain": [
       "                                     Model0\n",
       "Number of estimated parameters     5.000000\n",
       "Sample size                     5000.000000\n",
       "Final log likelihood           -4566.446492\n",
       "Akaike Information Criterion    9142.892983\n",
       "Bayesian Information Criterion  9175.478949\n",
       "asc_cycle                         -3.832163\n",
       "asc_drive                         -1.235707\n",
       "asc_pt                            -0.528767\n",
       "beta_cost                         -0.169780\n",
       "beta_time                         -5.450540"
      ]
     },
     "execution_count": 8,
     "metadata": {},
     "output_type": "execute_result"
    }
   ],
   "source": [
    "res.compileEstimationResults(all_results)"
   ]
  },
  {
   "cell_type": "code",
   "execution_count": 9,
   "id": "b77d2fb4",
   "metadata": {},
   "outputs": [
    {
     "name": "stdout",
     "output_type": "stream",
     "text": [
      "Null Loglikelihood : \n"
     ]
    },
    {
     "data": {
      "text/plain": [
       "-6931.471805599917"
      ]
     },
     "execution_count": 9,
     "metadata": {},
     "output_type": "execute_result"
    }
   ],
   "source": [
    "print(\"Null Loglikelihood : \")\n",
    "biogeme_model0.calculateNullLoglikelihood(av)"
   ]
  },
  {
   "cell_type": "markdown",
   "id": "af9c8c20",
   "metadata": {},
   "source": [
    "# Model 1 "
   ]
  },
  {
   "cell_type": "markdown",
   "id": "712a2de8",
   "metadata": {},
   "source": [
    "### Time specification"
   ]
  },
  {
   "cell_type": "markdown",
   "id": "fd300db1",
   "metadata": {},
   "source": [
    "We will try a specification where the the cost coeffecient is Generic and the time coefficient is alternative specific"
   ]
  },
  {
   "cell_type": "markdown",
   "id": "9f49a4cd",
   "metadata": {},
   "source": [
    "Again 4 different travel mode, 4 utility functions and 3 alternative specific constant.\n",
    "This time we have the generic parameter for cost and a 4 new specific parameter for travel time"
   ]
  },
  {
   "cell_type": "code",
   "execution_count": 10,
   "id": "44110c8a",
   "metadata": {},
   "outputs": [],
   "source": [
    "beta_time_drive = Beta('beta_time_drive', 0, None, None, 0)\n",
    "beta_time_pt = Beta('beta_time_pt', 0, None, None, 0)\n",
    "beta_time_walk = Beta('beta_time_walk', 0, None, None, 0)\n",
    "beta_time_cycle = Beta('beta_time_cycle', 0, None, None, 0)"
   ]
  },
  {
   "cell_type": "markdown",
   "id": "087e6e16",
   "metadata": {},
   "source": [
    "New utility functions :"
   ]
  },
  {
   "cell_type": "code",
   "execution_count": 11,
   "id": "188c60e3",
   "metadata": {},
   "outputs": [],
   "source": [
    "v_walk_model1 = beta_time_walk * time_walk  \n",
    "v_cycle_model1 = asc_cycle + beta_time_cycle * time_cycle \n",
    "v_pt_model1 = asc_pt + beta_time_pt * time_pt + beta_cost * cost_pt\n",
    "v_drive_model1 = asc_drive + beta_time_drive * time_drive + beta_cost * cost_drive"
   ]
  },
  {
   "cell_type": "markdown",
   "id": "410224b3",
   "metadata": {},
   "source": [
    "Estimation of the parameters for Model 1, all relevant parameters are printed"
   ]
  },
  {
   "cell_type": "code",
   "execution_count": 12,
   "id": "8ac1b493",
   "metadata": {},
   "outputs": [
    {
     "name": "stdout",
     "output_type": "stream",
     "text": [
      "[09:20:40] < Warning >   Cannot read file __Model1_time_specification.iter. Statement is ignored.\n"
     ]
    },
    {
     "data": {
      "text/html": [
       "<div>\n",
       "<style scoped>\n",
       "    .dataframe tbody tr th:only-of-type {\n",
       "        vertical-align: middle;\n",
       "    }\n",
       "\n",
       "    .dataframe tbody tr th {\n",
       "        vertical-align: top;\n",
       "    }\n",
       "\n",
       "    .dataframe thead th {\n",
       "        text-align: right;\n",
       "    }\n",
       "</style>\n",
       "<table border=\"1\" class=\"dataframe\">\n",
       "  <thead>\n",
       "    <tr style=\"text-align: right;\">\n",
       "      <th></th>\n",
       "      <th>Value</th>\n",
       "      <th>Rob. Std err</th>\n",
       "      <th>Rob. t-test</th>\n",
       "      <th>Rob. p-value</th>\n",
       "    </tr>\n",
       "  </thead>\n",
       "  <tbody>\n",
       "    <tr>\n",
       "      <th>asc_cycle</th>\n",
       "      <td>-4.509593</td>\n",
       "      <td>0.191028</td>\n",
       "      <td>-23.606921</td>\n",
       "      <td>0.0</td>\n",
       "    </tr>\n",
       "    <tr>\n",
       "      <th>asc_drive</th>\n",
       "      <td>-1.885701</td>\n",
       "      <td>0.122740</td>\n",
       "      <td>-15.363361</td>\n",
       "      <td>0.0</td>\n",
       "    </tr>\n",
       "    <tr>\n",
       "      <th>asc_pt</th>\n",
       "      <td>-2.339709</td>\n",
       "      <td>0.125798</td>\n",
       "      <td>-18.598939</td>\n",
       "      <td>0.0</td>\n",
       "    </tr>\n",
       "    <tr>\n",
       "      <th>beta_cost</th>\n",
       "      <td>-0.146061</td>\n",
       "      <td>0.014850</td>\n",
       "      <td>-9.835754</td>\n",
       "      <td>0.0</td>\n",
       "    </tr>\n",
       "    <tr>\n",
       "      <th>beta_time_cycle</th>\n",
       "      <td>-6.121448</td>\n",
       "      <td>0.542680</td>\n",
       "      <td>-11.280025</td>\n",
       "      <td>0.0</td>\n",
       "    </tr>\n",
       "    <tr>\n",
       "      <th>beta_time_drive</th>\n",
       "      <td>-6.445066</td>\n",
       "      <td>0.391345</td>\n",
       "      <td>-16.469010</td>\n",
       "      <td>0.0</td>\n",
       "    </tr>\n",
       "    <tr>\n",
       "      <th>beta_time_pt</th>\n",
       "      <td>-3.514554</td>\n",
       "      <td>0.258207</td>\n",
       "      <td>-13.611367</td>\n",
       "      <td>0.0</td>\n",
       "    </tr>\n",
       "    <tr>\n",
       "      <th>beta_time_walk</th>\n",
       "      <td>-8.204816</td>\n",
       "      <td>0.364365</td>\n",
       "      <td>-22.518121</td>\n",
       "      <td>0.0</td>\n",
       "    </tr>\n",
       "  </tbody>\n",
       "</table>\n",
       "</div>"
      ],
      "text/plain": [
       "                    Value  Rob. Std err  Rob. t-test  Rob. p-value\n",
       "asc_cycle       -4.509593      0.191028   -23.606921           0.0\n",
       "asc_drive       -1.885701      0.122740   -15.363361           0.0\n",
       "asc_pt          -2.339709      0.125798   -18.598939           0.0\n",
       "beta_cost       -0.146061      0.014850    -9.835754           0.0\n",
       "beta_time_cycle -6.121448      0.542680   -11.280025           0.0\n",
       "beta_time_drive -6.445066      0.391345   -16.469010           0.0\n",
       "beta_time_pt    -3.514554      0.258207   -13.611367           0.0\n",
       "beta_time_walk  -8.204816      0.364365   -22.518121           0.0"
      ]
     },
     "execution_count": 12,
     "metadata": {},
     "output_type": "execute_result"
    }
   ],
   "source": [
    "V_model1 = {1: v_walk_model1 , 2: v_cycle_model1, 3: v_pt_model1, 4: v_drive_model1}\n",
    "logprob_model1 = models.loglogit(V_model1, av, travel_mode)\n",
    "biogeme_model1 = bio.BIOGEME(database, logprob_model1)\n",
    "biogeme_model1.modelName = 'Model1_time_specification'\n",
    "all_results['Model1_time_specification'] = biogeme_model1.estimate()\n",
    "results_alt_spec_time = biogeme_model1.estimate()\n",
    "results_alt_spec_time.getEstimatedParameters()"
   ]
  },
  {
   "cell_type": "code",
   "execution_count": 13,
   "id": "cf11683b",
   "metadata": {},
   "outputs": [
    {
     "data": {
      "text/html": [
       "<div>\n",
       "<style scoped>\n",
       "    .dataframe tbody tr th:only-of-type {\n",
       "        vertical-align: middle;\n",
       "    }\n",
       "\n",
       "    .dataframe tbody tr th {\n",
       "        vertical-align: top;\n",
       "    }\n",
       "\n",
       "    .dataframe thead th {\n",
       "        text-align: right;\n",
       "    }\n",
       "</style>\n",
       "<table border=\"1\" class=\"dataframe\">\n",
       "  <thead>\n",
       "    <tr style=\"text-align: right;\">\n",
       "      <th></th>\n",
       "      <th>Model0</th>\n",
       "      <th>Model1_time_specification</th>\n",
       "    </tr>\n",
       "  </thead>\n",
       "  <tbody>\n",
       "    <tr>\n",
       "      <th>Number of estimated parameters</th>\n",
       "      <td>5</td>\n",
       "      <td>8</td>\n",
       "    </tr>\n",
       "    <tr>\n",
       "      <th>Sample size</th>\n",
       "      <td>5000</td>\n",
       "      <td>5000</td>\n",
       "    </tr>\n",
       "    <tr>\n",
       "      <th>Final log likelihood</th>\n",
       "      <td>-4566.446492</td>\n",
       "      <td>-4264.834249</td>\n",
       "    </tr>\n",
       "    <tr>\n",
       "      <th>Akaike Information Criterion</th>\n",
       "      <td>9142.892983</td>\n",
       "      <td>8545.668498</td>\n",
       "    </tr>\n",
       "    <tr>\n",
       "      <th>Bayesian Information Criterion</th>\n",
       "      <td>9175.478949</td>\n",
       "      <td>8597.806043</td>\n",
       "    </tr>\n",
       "    <tr>\n",
       "      <th>asc_cycle</th>\n",
       "      <td>-3.832163</td>\n",
       "      <td>-4.509598</td>\n",
       "    </tr>\n",
       "    <tr>\n",
       "      <th>asc_drive</th>\n",
       "      <td>-1.235707</td>\n",
       "      <td>-1.885704</td>\n",
       "    </tr>\n",
       "    <tr>\n",
       "      <th>asc_pt</th>\n",
       "      <td>-0.528767</td>\n",
       "      <td>-2.339712</td>\n",
       "    </tr>\n",
       "    <tr>\n",
       "      <th>beta_cost</th>\n",
       "      <td>-0.16978</td>\n",
       "      <td>-0.146061</td>\n",
       "    </tr>\n",
       "    <tr>\n",
       "      <th>beta_time</th>\n",
       "      <td>-5.45054</td>\n",
       "      <td></td>\n",
       "    </tr>\n",
       "    <tr>\n",
       "      <th>beta_time_cycle</th>\n",
       "      <td></td>\n",
       "      <td>-6.121432</td>\n",
       "    </tr>\n",
       "    <tr>\n",
       "      <th>beta_time_drive</th>\n",
       "      <td></td>\n",
       "      <td>-6.445064</td>\n",
       "    </tr>\n",
       "    <tr>\n",
       "      <th>beta_time_pt</th>\n",
       "      <td></td>\n",
       "      <td>-3.514554</td>\n",
       "    </tr>\n",
       "    <tr>\n",
       "      <th>beta_time_walk</th>\n",
       "      <td></td>\n",
       "      <td>-8.204808</td>\n",
       "    </tr>\n",
       "  </tbody>\n",
       "</table>\n",
       "</div>"
      ],
      "text/plain": [
       "                                     Model0 Model1_time_specification\n",
       "Number of estimated parameters            5                         8\n",
       "Sample size                            5000                      5000\n",
       "Final log likelihood           -4566.446492              -4264.834249\n",
       "Akaike Information Criterion    9142.892983               8545.668498\n",
       "Bayesian Information Criterion  9175.478949               8597.806043\n",
       "asc_cycle                         -3.832163                 -4.509598\n",
       "asc_drive                         -1.235707                 -1.885704\n",
       "asc_pt                            -0.528767                 -2.339712\n",
       "beta_cost                          -0.16978                 -0.146061\n",
       "beta_time                          -5.45054                          \n",
       "beta_time_cycle                                             -6.121432\n",
       "beta_time_drive                                             -6.445064\n",
       "beta_time_pt                                                -3.514554\n",
       "beta_time_walk                                              -8.204808"
      ]
     },
     "execution_count": 13,
     "metadata": {},
     "output_type": "execute_result"
    }
   ],
   "source": [
    "res.compileEstimationResults(all_results)"
   ]
  },
  {
   "cell_type": "markdown",
   "id": "9290c402",
   "metadata": {},
   "source": [
    "### Cost specification"
   ]
  },
  {
   "cell_type": "markdown",
   "id": "92f32390",
   "metadata": {},
   "source": [
    "We compare with the model where we specify the price, to be sure to have the most interesting model for the future models. (walk and cycling don't have cost, so only 2 specific parameter for cost)"
   ]
  },
  {
   "cell_type": "code",
   "execution_count": 14,
   "id": "6bfc4850",
   "metadata": {},
   "outputs": [],
   "source": [
    "beta_cost_drive = Beta('beta_cost_drive', 0, None, None, 0)\n",
    "beta_cost_pt = Beta('beta_cost_pt', 0, None, None, 0)"
   ]
  },
  {
   "cell_type": "markdown",
   "id": "17dbc909",
   "metadata": {},
   "source": [
    "New utility function"
   ]
  },
  {
   "cell_type": "code",
   "execution_count": 15,
   "id": "0a07671e",
   "metadata": {},
   "outputs": [],
   "source": [
    "v_walk_model1_spec_cost = beta_time * time_walk  \n",
    "v_cycle_model1_spec_cost = asc_cycle + beta_time * time_cycle \n",
    "v_pt_model1_spec_cost = asc_pt + beta_time * time_pt + beta_cost_pt * cost_pt\n",
    "v_drive_model1_spec_cost = asc_drive + beta_time * time_drive + beta_cost_drive * cost_drive"
   ]
  },
  {
   "cell_type": "code",
   "execution_count": 16,
   "id": "ab8ee846",
   "metadata": {},
   "outputs": [
    {
     "name": "stdout",
     "output_type": "stream",
     "text": [
      "[09:20:41] < Warning >   Cannot read file __Model_1_cost_specifiaction.iter. Statement is ignored.\n"
     ]
    },
    {
     "data": {
      "text/html": [
       "<div>\n",
       "<style scoped>\n",
       "    .dataframe tbody tr th:only-of-type {\n",
       "        vertical-align: middle;\n",
       "    }\n",
       "\n",
       "    .dataframe tbody tr th {\n",
       "        vertical-align: top;\n",
       "    }\n",
       "\n",
       "    .dataframe thead th {\n",
       "        text-align: right;\n",
       "    }\n",
       "</style>\n",
       "<table border=\"1\" class=\"dataframe\">\n",
       "  <thead>\n",
       "    <tr style=\"text-align: right;\">\n",
       "      <th></th>\n",
       "      <th>Value</th>\n",
       "      <th>Rob. Std err</th>\n",
       "      <th>Rob. t-test</th>\n",
       "      <th>Rob. p-value</th>\n",
       "    </tr>\n",
       "  </thead>\n",
       "  <tbody>\n",
       "    <tr>\n",
       "      <th>asc_cycle</th>\n",
       "      <td>-3.766977</td>\n",
       "      <td>0.107734</td>\n",
       "      <td>-34.965548</td>\n",
       "      <td>0.000000</td>\n",
       "    </tr>\n",
       "    <tr>\n",
       "      <th>asc_drive</th>\n",
       "      <td>-1.137426</td>\n",
       "      <td>0.080194</td>\n",
       "      <td>-14.183498</td>\n",
       "      <td>0.000000</td>\n",
       "    </tr>\n",
       "    <tr>\n",
       "      <th>asc_pt</th>\n",
       "      <td>-0.831978</td>\n",
       "      <td>0.064856</td>\n",
       "      <td>-12.828129</td>\n",
       "      <td>0.000000</td>\n",
       "    </tr>\n",
       "    <tr>\n",
       "      <th>beta_cost_drive</th>\n",
       "      <td>-0.214644</td>\n",
       "      <td>0.021272</td>\n",
       "      <td>-10.090610</td>\n",
       "      <td>0.000000</td>\n",
       "    </tr>\n",
       "    <tr>\n",
       "      <th>beta_cost_pt</th>\n",
       "      <td>0.061554</td>\n",
       "      <td>0.028466</td>\n",
       "      <td>2.162411</td>\n",
       "      <td>0.030587</td>\n",
       "    </tr>\n",
       "    <tr>\n",
       "      <th>beta_time</th>\n",
       "      <td>-5.411681</td>\n",
       "      <td>0.202913</td>\n",
       "      <td>-26.670010</td>\n",
       "      <td>0.000000</td>\n",
       "    </tr>\n",
       "  </tbody>\n",
       "</table>\n",
       "</div>"
      ],
      "text/plain": [
       "                    Value  Rob. Std err  Rob. t-test  Rob. p-value\n",
       "asc_cycle       -3.766977      0.107734   -34.965548      0.000000\n",
       "asc_drive       -1.137426      0.080194   -14.183498      0.000000\n",
       "asc_pt          -0.831978      0.064856   -12.828129      0.000000\n",
       "beta_cost_drive -0.214644      0.021272   -10.090610      0.000000\n",
       "beta_cost_pt     0.061554      0.028466     2.162411      0.030587\n",
       "beta_time       -5.411681      0.202913   -26.670010      0.000000"
      ]
     },
     "execution_count": 16,
     "metadata": {},
     "output_type": "execute_result"
    }
   ],
   "source": [
    "V_model1_spec_cost = {1: v_walk_model1_spec_cost , 2: v_cycle_model1_spec_cost, 3: v_pt_model1_spec_cost, 4: v_drive_model1_spec_cost}\n",
    "logprob_model1_spec_cost = models.loglogit(V_model1_spec_cost, av, travel_mode)\n",
    "biogeme_model1_spec_cost = bio.BIOGEME(database, logprob_model1_spec_cost)\n",
    "biogeme_model1_spec_cost.modelName = 'Model_1_cost_specifiaction'\n",
    "all_results['Model1_cost_specification'] = biogeme_model1_spec_cost.estimate()\n",
    "results_alt_spec_cost = biogeme_model1_spec_cost.estimate()\n",
    "results_alt_spec_cost.getEstimatedParameters()"
   ]
  },
  {
   "cell_type": "code",
   "execution_count": 17,
   "id": "e9192ecf",
   "metadata": {},
   "outputs": [
    {
     "data": {
      "text/html": [
       "<div>\n",
       "<style scoped>\n",
       "    .dataframe tbody tr th:only-of-type {\n",
       "        vertical-align: middle;\n",
       "    }\n",
       "\n",
       "    .dataframe tbody tr th {\n",
       "        vertical-align: top;\n",
       "    }\n",
       "\n",
       "    .dataframe thead th {\n",
       "        text-align: right;\n",
       "    }\n",
       "</style>\n",
       "<table border=\"1\" class=\"dataframe\">\n",
       "  <thead>\n",
       "    <tr style=\"text-align: right;\">\n",
       "      <th></th>\n",
       "      <th>Model0</th>\n",
       "      <th>Model1_time_specification</th>\n",
       "      <th>Model1_cost_specification</th>\n",
       "    </tr>\n",
       "  </thead>\n",
       "  <tbody>\n",
       "    <tr>\n",
       "      <th>Number of estimated parameters</th>\n",
       "      <td>5</td>\n",
       "      <td>8</td>\n",
       "      <td>6</td>\n",
       "    </tr>\n",
       "    <tr>\n",
       "      <th>Sample size</th>\n",
       "      <td>5000</td>\n",
       "      <td>5000</td>\n",
       "      <td>5000</td>\n",
       "    </tr>\n",
       "    <tr>\n",
       "      <th>Final log likelihood</th>\n",
       "      <td>-4566.446492</td>\n",
       "      <td>-4264.834249</td>\n",
       "      <td>-4509.365231</td>\n",
       "    </tr>\n",
       "    <tr>\n",
       "      <th>Akaike Information Criterion</th>\n",
       "      <td>9142.892983</td>\n",
       "      <td>8545.668498</td>\n",
       "      <td>9030.730462</td>\n",
       "    </tr>\n",
       "    <tr>\n",
       "      <th>Bayesian Information Criterion</th>\n",
       "      <td>9175.478949</td>\n",
       "      <td>8597.806043</td>\n",
       "      <td>9069.833621</td>\n",
       "    </tr>\n",
       "    <tr>\n",
       "      <th>asc_cycle</th>\n",
       "      <td>-3.832163</td>\n",
       "      <td>-4.509598</td>\n",
       "      <td>-3.766977</td>\n",
       "    </tr>\n",
       "    <tr>\n",
       "      <th>asc_drive</th>\n",
       "      <td>-1.235707</td>\n",
       "      <td>-1.885704</td>\n",
       "      <td>-1.137426</td>\n",
       "    </tr>\n",
       "    <tr>\n",
       "      <th>asc_pt</th>\n",
       "      <td>-0.528767</td>\n",
       "      <td>-2.339712</td>\n",
       "      <td>-0.831978</td>\n",
       "    </tr>\n",
       "    <tr>\n",
       "      <th>beta_cost</th>\n",
       "      <td>-0.16978</td>\n",
       "      <td>-0.146061</td>\n",
       "      <td></td>\n",
       "    </tr>\n",
       "    <tr>\n",
       "      <th>beta_time</th>\n",
       "      <td>-5.45054</td>\n",
       "      <td></td>\n",
       "      <td>-5.411681</td>\n",
       "    </tr>\n",
       "    <tr>\n",
       "      <th>beta_time_cycle</th>\n",
       "      <td></td>\n",
       "      <td>-6.121432</td>\n",
       "      <td></td>\n",
       "    </tr>\n",
       "    <tr>\n",
       "      <th>beta_time_drive</th>\n",
       "      <td></td>\n",
       "      <td>-6.445064</td>\n",
       "      <td></td>\n",
       "    </tr>\n",
       "    <tr>\n",
       "      <th>beta_time_pt</th>\n",
       "      <td></td>\n",
       "      <td>-3.514554</td>\n",
       "      <td></td>\n",
       "    </tr>\n",
       "    <tr>\n",
       "      <th>beta_time_walk</th>\n",
       "      <td></td>\n",
       "      <td>-8.204808</td>\n",
       "      <td></td>\n",
       "    </tr>\n",
       "    <tr>\n",
       "      <th>beta_cost_drive</th>\n",
       "      <td></td>\n",
       "      <td></td>\n",
       "      <td>-0.214644</td>\n",
       "    </tr>\n",
       "    <tr>\n",
       "      <th>beta_cost_pt</th>\n",
       "      <td></td>\n",
       "      <td></td>\n",
       "      <td>0.061554</td>\n",
       "    </tr>\n",
       "  </tbody>\n",
       "</table>\n",
       "</div>"
      ],
      "text/plain": [
       "                                     Model0 Model1_time_specification  \\\n",
       "Number of estimated parameters            5                         8   \n",
       "Sample size                            5000                      5000   \n",
       "Final log likelihood           -4566.446492              -4264.834249   \n",
       "Akaike Information Criterion    9142.892983               8545.668498   \n",
       "Bayesian Information Criterion  9175.478949               8597.806043   \n",
       "asc_cycle                         -3.832163                 -4.509598   \n",
       "asc_drive                         -1.235707                 -1.885704   \n",
       "asc_pt                            -0.528767                 -2.339712   \n",
       "beta_cost                          -0.16978                 -0.146061   \n",
       "beta_time                          -5.45054                             \n",
       "beta_time_cycle                                             -6.121432   \n",
       "beta_time_drive                                             -6.445064   \n",
       "beta_time_pt                                                -3.514554   \n",
       "beta_time_walk                                              -8.204808   \n",
       "beta_cost_drive                                                         \n",
       "beta_cost_pt                                                            \n",
       "\n",
       "                               Model1_cost_specification  \n",
       "Number of estimated parameters                         6  \n",
       "Sample size                                         5000  \n",
       "Final log likelihood                        -4509.365231  \n",
       "Akaike Information Criterion                 9030.730462  \n",
       "Bayesian Information Criterion               9069.833621  \n",
       "asc_cycle                                      -3.766977  \n",
       "asc_drive                                      -1.137426  \n",
       "asc_pt                                         -0.831978  \n",
       "beta_cost                                                 \n",
       "beta_time                                      -5.411681  \n",
       "beta_time_cycle                                           \n",
       "beta_time_drive                                           \n",
       "beta_time_pt                                              \n",
       "beta_time_walk                                            \n",
       "beta_cost_drive                                -0.214644  \n",
       "beta_cost_pt                                    0.061554  "
      ]
     },
     "execution_count": 17,
     "metadata": {},
     "output_type": "execute_result"
    }
   ],
   "source": [
    "res.compileEstimationResults(all_results)"
   ]
  },
  {
   "cell_type": "markdown",
   "id": "1c3651ff",
   "metadata": {},
   "source": [
    "### Comparaison"
   ]
  },
  {
   "cell_type": "markdown",
   "id": "9d333851",
   "metadata": {},
   "source": [
    "we compare the Akaike Information Criterion (AIC)"
   ]
  },
  {
   "cell_type": "code",
   "execution_count": 18,
   "id": "6a7f5f84",
   "metadata": {},
   "outputs": [
    {
     "name": "stdout",
     "output_type": "stream",
     "text": [
      "Model 0 PIC value : 9142.89298347719\n",
      "Model 1, time alternative specification PIC value : 8545.668496844653\n",
      "Model 1, cost alternative specification PIC value : 9030.7304615338\n"
     ]
    }
   ],
   "source": [
    "print(\"Model 0 PIC value :\",results_generic.data.akaike)\n",
    "print(\"Model 1, time alternative specification PIC value :\",results_alt_spec_time.data.akaike)\n",
    "print(\"Model 1, cost alternative specification PIC value :\",results_alt_spec_cost.data.akaike)"
   ]
  },
  {
   "cell_type": "markdown",
   "id": "be880eb4",
   "metadata": {},
   "source": [
    "we compare the Bayesian Information Criterion (BIC)"
   ]
  },
  {
   "cell_type": "code",
   "execution_count": 19,
   "id": "04b0298e",
   "metadata": {},
   "outputs": [
    {
     "name": "stdout",
     "output_type": "stream",
     "text": [
      "Model 0 PIC value : 9175.478949434271\n",
      "Model 1, alternative specification travel time, PIC value : 8597.806042375983\n",
      "Model 1, alternative specification cost, PIC value : 9069.833620682297\n"
     ]
    }
   ],
   "source": [
    "print(\"Model 0 PIC value :\",results_generic.data.bayesian)\n",
    "print(\"Model 1, alternative specification travel time, PIC value :\",results_alt_spec_time.data.bayesian)\n",
    "print(\"Model 1, alternative specification cost, PIC value :\",results_alt_spec_cost.data.bayesian)"
   ]
  },
  {
   "cell_type": "markdown",
   "id": "103b5d36",
   "metadata": {},
   "source": [
    "According to the AIC and the BIC, the best model is the one wih the alternative specific travel time coefficient, and the generic travel cost coefficient."
   ]
  },
  {
   "cell_type": "markdown",
   "id": "c3bf4808",
   "metadata": {},
   "source": [
    "# Model 2"
   ]
  },
  {
   "cell_type": "code",
   "execution_count": 20,
   "id": "dc5f96b2",
   "metadata": {},
   "outputs": [
    {
     "data": {
      "text/plain": [
       "Index(['trip_id', 'household_id', 'person_n', 'trip_n', 'travel_mode',\n",
       "       'purpose', 'fueltype', 'faretype', 'bus_scale', 'survey_year',\n",
       "       'travel_year', 'travel_month', 'travel_date', 'day_of_week',\n",
       "       'start_time', 'age', 'female', 'driving_license', 'car_ownership',\n",
       "       'distance', 'dur_walking', 'dur_cycling', 'dur_pt_access',\n",
       "       'dur_pt_rail', 'dur_pt_bus', 'dur_pt_int', 'pt_interchanges',\n",
       "       'dur_driving', 'cost_transit', 'cost_driving_fuel',\n",
       "       'cost_driving_ccharge', 'driving_traffic_percent'],\n",
       "      dtype='object')"
      ]
     },
     "execution_count": 20,
     "metadata": {},
     "output_type": "execute_result"
    }
   ],
   "source": [
    "LPMC.columns"
   ]
  },
  {
   "cell_type": "code",
   "execution_count": 21,
   "id": "26615ff9",
   "metadata": {},
   "outputs": [],
   "source": [
    "model_base=biogeme_model1"
   ]
  },
  {
   "cell_type": "code",
   "execution_count": 22,
   "id": "b3487741",
   "metadata": {},
   "outputs": [],
   "source": [
    "#we're adding the attribute distance to our model \n",
    "#we're adding the interaction between age and distance\n",
    "pt_interchanges=Variable('pt_interchanges')\n",
    "driving_license=Variable('driving_license')"
   ]
  },
  {
   "cell_type": "code",
   "execution_count": 23,
   "id": "79146d07",
   "metadata": {},
   "outputs": [],
   "source": [
    "#defining associated coefficients\n",
    "beta_pt_inter= Beta('beta_pt_inter', 0, None, None, 0)\n",
    "beta_license= Beta('beta_license', 0, None, None, 0)"
   ]
  },
  {
   "cell_type": "code",
   "execution_count": 24,
   "id": "58b2dbe7",
   "metadata": {},
   "outputs": [],
   "source": [
    "#the specification, we only consider the alternative distance for walking\n",
    "#the interaction distance age is considered just for public trasnport\n",
    "v_walk_model2 = v_walk_model1\n",
    "v_cycle_model2 = v_cycle_model1\n",
    "v_pt_model2 = v_pt_model1 + beta_pt_inter*pt_interchanges\n",
    "v_drive_model2 = v_drive_model1 + asc_drive*beta_license*driving_license"
   ]
  },
  {
   "cell_type": "code",
   "execution_count": 25,
   "id": "e46909b5",
   "metadata": {},
   "outputs": [
    {
     "name": "stdout",
     "output_type": "stream",
     "text": [
      "[09:20:43] < Warning >   Cannot read file __Model_2.iter. Statement is ignored.\n"
     ]
    },
    {
     "data": {
      "text/html": [
       "<div>\n",
       "<style scoped>\n",
       "    .dataframe tbody tr th:only-of-type {\n",
       "        vertical-align: middle;\n",
       "    }\n",
       "\n",
       "    .dataframe tbody tr th {\n",
       "        vertical-align: top;\n",
       "    }\n",
       "\n",
       "    .dataframe thead th {\n",
       "        text-align: right;\n",
       "    }\n",
       "</style>\n",
       "<table border=\"1\" class=\"dataframe\">\n",
       "  <thead>\n",
       "    <tr style=\"text-align: right;\">\n",
       "      <th></th>\n",
       "      <th>Value</th>\n",
       "      <th>Rob. Std err</th>\n",
       "      <th>Rob. t-test</th>\n",
       "      <th>Rob. p-value</th>\n",
       "    </tr>\n",
       "  </thead>\n",
       "  <tbody>\n",
       "    <tr>\n",
       "      <th>asc_cycle</th>\n",
       "      <td>-4.566489</td>\n",
       "      <td>0.196947</td>\n",
       "      <td>-23.186435</td>\n",
       "      <td>0.000000</td>\n",
       "    </tr>\n",
       "    <tr>\n",
       "      <th>asc_drive</th>\n",
       "      <td>-2.782432</td>\n",
       "      <td>0.138492</td>\n",
       "      <td>-20.090922</td>\n",
       "      <td>0.000000</td>\n",
       "    </tr>\n",
       "    <tr>\n",
       "      <th>asc_pt</th>\n",
       "      <td>-2.421769</td>\n",
       "      <td>0.131403</td>\n",
       "      <td>-18.430079</td>\n",
       "      <td>0.000000</td>\n",
       "    </tr>\n",
       "    <tr>\n",
       "      <th>beta_cost</th>\n",
       "      <td>-0.140456</td>\n",
       "      <td>0.013889</td>\n",
       "      <td>-10.112732</td>\n",
       "      <td>0.000000</td>\n",
       "    </tr>\n",
       "    <tr>\n",
       "      <th>beta_license</th>\n",
       "      <td>-0.517648</td>\n",
       "      <td>0.027952</td>\n",
       "      <td>-18.519340</td>\n",
       "      <td>0.000000</td>\n",
       "    </tr>\n",
       "    <tr>\n",
       "      <th>beta_pt_inter</th>\n",
       "      <td>-0.107552</td>\n",
       "      <td>0.089736</td>\n",
       "      <td>-1.198541</td>\n",
       "      <td>0.230707</td>\n",
       "    </tr>\n",
       "    <tr>\n",
       "      <th>beta_time_cycle</th>\n",
       "      <td>-6.305828</td>\n",
       "      <td>0.559567</td>\n",
       "      <td>-11.269120</td>\n",
       "      <td>0.000000</td>\n",
       "    </tr>\n",
       "    <tr>\n",
       "      <th>beta_time_drive</th>\n",
       "      <td>-7.003842</td>\n",
       "      <td>0.411151</td>\n",
       "      <td>-17.034715</td>\n",
       "      <td>0.000000</td>\n",
       "    </tr>\n",
       "    <tr>\n",
       "      <th>beta_time_pt</th>\n",
       "      <td>-3.541166</td>\n",
       "      <td>0.282515</td>\n",
       "      <td>-12.534425</td>\n",
       "      <td>0.000000</td>\n",
       "    </tr>\n",
       "    <tr>\n",
       "      <th>beta_time_walk</th>\n",
       "      <td>-8.376052</td>\n",
       "      <td>0.377032</td>\n",
       "      <td>-22.215752</td>\n",
       "      <td>0.000000</td>\n",
       "    </tr>\n",
       "  </tbody>\n",
       "</table>\n",
       "</div>"
      ],
      "text/plain": [
       "                    Value  Rob. Std err  Rob. t-test  Rob. p-value\n",
       "asc_cycle       -4.566489      0.196947   -23.186435      0.000000\n",
       "asc_drive       -2.782432      0.138492   -20.090922      0.000000\n",
       "asc_pt          -2.421769      0.131403   -18.430079      0.000000\n",
       "beta_cost       -0.140456      0.013889   -10.112732      0.000000\n",
       "beta_license    -0.517648      0.027952   -18.519340      0.000000\n",
       "beta_pt_inter   -0.107552      0.089736    -1.198541      0.230707\n",
       "beta_time_cycle -6.305828      0.559567   -11.269120      0.000000\n",
       "beta_time_drive -7.003842      0.411151   -17.034715      0.000000\n",
       "beta_time_pt    -3.541166      0.282515   -12.534425      0.000000\n",
       "beta_time_walk  -8.376052      0.377032   -22.215752      0.000000"
      ]
     },
     "execution_count": 25,
     "metadata": {},
     "output_type": "execute_result"
    }
   ],
   "source": [
    "#the estimation results\n",
    "V_model2 = {1: v_walk_model2 , 2: v_cycle_model2, 3: v_pt_model2, 4: v_drive_model2}\n",
    "logprob_model2 = models.loglogit(V_model2, av, travel_mode)\n",
    "biogeme_model2 = bio.BIOGEME(database, logprob_model2)\n",
    "biogeme_model2.modelName = 'Model_2'\n",
    "all_results['Model_2'] = biogeme_model2.estimate()\n",
    "results_model2 = biogeme_model2.estimate()\n",
    "results_model2.getEstimatedParameters()"
   ]
  },
  {
   "cell_type": "code",
   "execution_count": 27,
   "id": "a4e82848",
   "metadata": {},
   "outputs": [
    {
     "data": {
      "text/html": [
       "<div>\n",
       "<style scoped>\n",
       "    .dataframe tbody tr th:only-of-type {\n",
       "        vertical-align: middle;\n",
       "    }\n",
       "\n",
       "    .dataframe tbody tr th {\n",
       "        vertical-align: top;\n",
       "    }\n",
       "\n",
       "    .dataframe thead th {\n",
       "        text-align: right;\n",
       "    }\n",
       "</style>\n",
       "<table border=\"1\" class=\"dataframe\">\n",
       "  <thead>\n",
       "    <tr style=\"text-align: right;\">\n",
       "      <th></th>\n",
       "      <th>Model0</th>\n",
       "      <th>Model1_time_specification</th>\n",
       "      <th>Model1_cost_specification</th>\n",
       "      <th>Model_2</th>\n",
       "    </tr>\n",
       "  </thead>\n",
       "  <tbody>\n",
       "    <tr>\n",
       "      <th>Number of estimated parameters</th>\n",
       "      <td>5</td>\n",
       "      <td>8</td>\n",
       "      <td>6</td>\n",
       "      <td>10</td>\n",
       "    </tr>\n",
       "    <tr>\n",
       "      <th>Sample size</th>\n",
       "      <td>5000</td>\n",
       "      <td>5000</td>\n",
       "      <td>5000</td>\n",
       "      <td>5000</td>\n",
       "    </tr>\n",
       "    <tr>\n",
       "      <th>Final log likelihood</th>\n",
       "      <td>-4566.446492</td>\n",
       "      <td>-4264.834249</td>\n",
       "      <td>-4509.365231</td>\n",
       "      <td>-4039.286551</td>\n",
       "    </tr>\n",
       "    <tr>\n",
       "      <th>Akaike Information Criterion</th>\n",
       "      <td>9142.892983</td>\n",
       "      <td>8545.668498</td>\n",
       "      <td>9030.730462</td>\n",
       "      <td>8098.573101</td>\n",
       "    </tr>\n",
       "    <tr>\n",
       "      <th>Bayesian Information Criterion</th>\n",
       "      <td>9175.478949</td>\n",
       "      <td>8597.806043</td>\n",
       "      <td>9069.833621</td>\n",
       "      <td>8163.745033</td>\n",
       "    </tr>\n",
       "    <tr>\n",
       "      <th>asc_cycle</th>\n",
       "      <td>-3.832163</td>\n",
       "      <td>-4.509598</td>\n",
       "      <td>-3.766977</td>\n",
       "      <td>-4.566495</td>\n",
       "    </tr>\n",
       "    <tr>\n",
       "      <th>asc_drive</th>\n",
       "      <td>-1.235707</td>\n",
       "      <td>-1.885704</td>\n",
       "      <td>-1.137426</td>\n",
       "      <td>-2.782437</td>\n",
       "    </tr>\n",
       "    <tr>\n",
       "      <th>asc_pt</th>\n",
       "      <td>-0.528767</td>\n",
       "      <td>-2.339712</td>\n",
       "      <td>-0.831978</td>\n",
       "      <td>-2.421776</td>\n",
       "    </tr>\n",
       "    <tr>\n",
       "      <th>beta_cost</th>\n",
       "      <td>-0.16978</td>\n",
       "      <td>-0.146061</td>\n",
       "      <td></td>\n",
       "      <td>-0.140457</td>\n",
       "    </tr>\n",
       "    <tr>\n",
       "      <th>beta_time</th>\n",
       "      <td>-5.45054</td>\n",
       "      <td></td>\n",
       "      <td>-5.411681</td>\n",
       "      <td></td>\n",
       "    </tr>\n",
       "    <tr>\n",
       "      <th>beta_time_cycle</th>\n",
       "      <td></td>\n",
       "      <td>-6.121432</td>\n",
       "      <td></td>\n",
       "      <td>-6.30583</td>\n",
       "    </tr>\n",
       "    <tr>\n",
       "      <th>beta_time_drive</th>\n",
       "      <td></td>\n",
       "      <td>-6.445064</td>\n",
       "      <td></td>\n",
       "      <td>-7.003834</td>\n",
       "    </tr>\n",
       "    <tr>\n",
       "      <th>beta_time_pt</th>\n",
       "      <td></td>\n",
       "      <td>-3.514554</td>\n",
       "      <td></td>\n",
       "      <td>-3.541167</td>\n",
       "    </tr>\n",
       "    <tr>\n",
       "      <th>beta_time_walk</th>\n",
       "      <td></td>\n",
       "      <td>-8.204808</td>\n",
       "      <td></td>\n",
       "      <td>-8.37607</td>\n",
       "    </tr>\n",
       "    <tr>\n",
       "      <th>beta_cost_drive</th>\n",
       "      <td></td>\n",
       "      <td></td>\n",
       "      <td>-0.214644</td>\n",
       "      <td></td>\n",
       "    </tr>\n",
       "    <tr>\n",
       "      <th>beta_cost_pt</th>\n",
       "      <td></td>\n",
       "      <td></td>\n",
       "      <td>0.061554</td>\n",
       "      <td></td>\n",
       "    </tr>\n",
       "    <tr>\n",
       "      <th>beta_license</th>\n",
       "      <td></td>\n",
       "      <td></td>\n",
       "      <td></td>\n",
       "      <td>-0.517646</td>\n",
       "    </tr>\n",
       "    <tr>\n",
       "      <th>beta_pt_inter</th>\n",
       "      <td></td>\n",
       "      <td></td>\n",
       "      <td></td>\n",
       "      <td>-0.107551</td>\n",
       "    </tr>\n",
       "  </tbody>\n",
       "</table>\n",
       "</div>"
      ],
      "text/plain": [
       "                                     Model0 Model1_time_specification  \\\n",
       "Number of estimated parameters            5                         8   \n",
       "Sample size                            5000                      5000   \n",
       "Final log likelihood           -4566.446492              -4264.834249   \n",
       "Akaike Information Criterion    9142.892983               8545.668498   \n",
       "Bayesian Information Criterion  9175.478949               8597.806043   \n",
       "asc_cycle                         -3.832163                 -4.509598   \n",
       "asc_drive                         -1.235707                 -1.885704   \n",
       "asc_pt                            -0.528767                 -2.339712   \n",
       "beta_cost                          -0.16978                 -0.146061   \n",
       "beta_time                          -5.45054                             \n",
       "beta_time_cycle                                             -6.121432   \n",
       "beta_time_drive                                             -6.445064   \n",
       "beta_time_pt                                                -3.514554   \n",
       "beta_time_walk                                              -8.204808   \n",
       "beta_cost_drive                                                         \n",
       "beta_cost_pt                                                            \n",
       "beta_license                                                            \n",
       "beta_pt_inter                                                           \n",
       "\n",
       "                               Model1_cost_specification      Model_2  \n",
       "Number of estimated parameters                         6           10  \n",
       "Sample size                                         5000         5000  \n",
       "Final log likelihood                        -4509.365231 -4039.286551  \n",
       "Akaike Information Criterion                 9030.730462  8098.573101  \n",
       "Bayesian Information Criterion               9069.833621  8163.745033  \n",
       "asc_cycle                                      -3.766977    -4.566495  \n",
       "asc_drive                                      -1.137426    -2.782437  \n",
       "asc_pt                                         -0.831978    -2.421776  \n",
       "beta_cost                                                   -0.140457  \n",
       "beta_time                                      -5.411681               \n",
       "beta_time_cycle                                              -6.30583  \n",
       "beta_time_drive                                             -7.003834  \n",
       "beta_time_pt                                                -3.541167  \n",
       "beta_time_walk                                               -8.37607  \n",
       "beta_cost_drive                                -0.214644               \n",
       "beta_cost_pt                                    0.061554               \n",
       "beta_license                                                -0.517646  \n",
       "beta_pt_inter                                               -0.107551  "
      ]
     },
     "execution_count": 27,
     "metadata": {},
     "output_type": "execute_result"
    }
   ],
   "source": [
    "res.compileEstimationResults(all_results)"
   ]
  },
  {
   "cell_type": "code",
   "execution_count": 28,
   "id": "de40941e",
   "metadata": {},
   "outputs": [],
   "source": [
    "#we test base_model against model_2 where base_model is a restricted version of model_2 suing the looglikehood\n",
    "#ratio test"
   ]
  },
  {
   "cell_type": "code",
   "execution_count": 29,
   "id": "776e820a",
   "metadata": {},
   "outputs": [],
   "source": [
    "#we test them using the null hypothesis that our base model is the true model"
   ]
  },
  {
   "cell_type": "code",
   "execution_count": 30,
   "id": "afbc783f",
   "metadata": {},
   "outputs": [],
   "source": [
    "results_base=model_base.estimate()"
   ]
  },
  {
   "cell_type": "code",
   "execution_count": 31,
   "id": "14d72238",
   "metadata": {},
   "outputs": [
    {
     "data": {
      "text/plain": [
       "LRTuple(message='H0 can be rejected at level 5.0%', statistic=451.09539568599666, threshold=5.991464547107979)"
      ]
     },
     "execution_count": 31,
     "metadata": {},
     "output_type": "execute_result"
    }
   ],
   "source": [
    "results_model2.likelihood_ratio_test(results_base, 0.05) #level of the statistics for a level of significance of 5%?"
   ]
  },
  {
   "cell_type": "code",
   "execution_count": 32,
   "id": "134c982c",
   "metadata": {},
   "outputs": [],
   "source": [
    "#then depending on if the value I obtained was higher or lower than a certain number, we reject or accept the null hypothesis"
   ]
  },
  {
   "cell_type": "code",
   "execution_count": 33,
   "id": "20bbe58f",
   "metadata": {},
   "outputs": [
    {
     "data": {
      "text/plain": [
       "5.991464547107979"
      ]
     },
     "execution_count": 33,
     "metadata": {},
     "output_type": "execute_result"
    }
   ],
   "source": [
    "from scipy.stats import chi2\n",
    "threshold = chi2.ppf(.95, 2)\n",
    "threshold #just in case we might want to compare to this threshold"
   ]
  },
  {
   "cell_type": "markdown",
   "id": "d636aab1",
   "metadata": {},
   "source": [
    "# Model 3"
   ]
  },
  {
   "cell_type": "markdown",
   "id": "bc6c89c8",
   "metadata": {},
   "source": [
    "We will conduct a non-linear transformation of time"
   ]
  },
  {
   "cell_type": "code",
   "execution_count": null,
   "id": "92830117",
   "metadata": {},
   "outputs": [],
   "source": []
  },
  {
   "cell_type": "code",
   "execution_count": null,
   "id": "7c25a9f7",
   "metadata": {},
   "outputs": [],
   "source": []
  },
  {
   "cell_type": "code",
   "execution_count": null,
   "id": "cc68ab25",
   "metadata": {},
   "outputs": [],
   "source": []
  }
 ],
 "metadata": {
  "kernelspec": {
   "display_name": "Python 3 (ipykernel)",
   "language": "python",
   "name": "python3"
  },
  "language_info": {
   "codemirror_mode": {
    "name": "ipython",
    "version": 3
   },
   "file_extension": ".py",
   "mimetype": "text/x-python",
   "name": "python",
   "nbconvert_exporter": "python",
   "pygments_lexer": "ipython3",
   "version": "3.9.12"
  },
  "vscode": {
   "interpreter": {
    "hash": "4fd5ba7d4c804afe214bbf039c8927141be04e0f0b2f5e1ba57abd660c34784c"
   }
  }
 },
 "nbformat": 4,
 "nbformat_minor": 5
}

