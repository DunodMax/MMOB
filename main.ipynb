{
 "cells": [
  {
   "cell_type": "markdown",
   "id": "1b834efe",
   "metadata": {},
   "source": [
    "# MMOB Project"
   ]
  },
  {
   "cell_type": "markdown",
   "id": "df6705b8",
   "metadata": {},
   "source": [
    "# import"
   ]
  },
  {
   "cell_type": "markdown",
   "id": "1359753b",
   "metadata": {},
   "source": [
    "in this cell, relevant libraries are imported, as well as the datafile imported from our github and a dict that will store all results during the project "
   ]
  },
  {
   "cell_type": "code",
   "execution_count": null,
   "id": "7db8a829",
   "metadata": {
    "scrolled": true
   },
   "outputs": [],
   "source": [
    "import pandas as pd\n",
    "import numpy as np\n",
    "import biogeme.database as db\n",
    "import biogeme.biogeme as bio\n",
    "from biogeme.expressions import Beta, Variable, Derive\n",
    "from biogeme import models\n",
    "from biogeme import results as res\n",
    "from biogeme.expressions import DefineVariable, log\n",
    "data_file ='https://raw.githubusercontent.com/DunodMax/MMOB/main/Dataset.txt'\n",
    "LPMC = pd.read_csv(data_file, sep='\\t')\n",
    "LPMC\n",
    "database = db.Database('LPMC', LPMC)\n",
    "all_results = {}\n",
    "from collections import namedtuple"
   ]
  },
  {
   "cell_type": "code",
   "execution_count": null,
   "id": "6ed0cceb-94b3-4b29-b22f-4f91aa191329",
   "metadata": {},
   "outputs": [],
   "source": [
    "LPMC.head()"
   ]
  },
  {
   "cell_type": "markdown",
   "id": "29efbc5c",
   "metadata": {},
   "source": [
    "# Model 0"
   ]
  },
  {
   "cell_type": "markdown",
   "id": "fcc282c3",
   "metadata": {},
   "source": [
    "all useful columns for this model are used as variables"
   ]
  },
  {
   "cell_type": "code",
   "execution_count": null,
   "id": "b8d50a89",
   "metadata": {},
   "outputs": [],
   "source": [
    "travel_mode=Variable('travel_mode')\n",
    "dur_pt_access=Variable('dur_pt_access')\n",
    "dur_pt_rail=Variable('dur_pt_rail')\n",
    "dur_pt_bus=Variable('dur_pt_bus')\n",
    "dur_pt_int=Variable('dur_pt_int')\n",
    "pt_interchanges=Variable('pt_interchanges')\n",
    "dur_driving=Variable('dur_driving')\n",
    "cost_transit=Variable('cost_transit')\n",
    "cost_driving_fuel=Variable('cost_driving_fuel')\n",
    "cost_driving_ccharge=Variable('cost_driving_ccharge')\n",
    "dur_walking=Variable('dur_walking')\n",
    "dur_cycling=Variable('dur_cycling')\n",
    "female=Variable('female')\n",
    "age=Variable('age')"
   ]
  },
  {
   "cell_type": "markdown",
   "id": "08e0734c",
   "metadata": {},
   "source": [
    "Trip duration for each mode are computed ( see report for details about equations)\n",
    "Cost for each mode with a cost are computed ( cycling and walking is considered free)"
   ]
  },
  {
   "cell_type": "code",
   "execution_count": null,
   "id": "9d07da2e",
   "metadata": {},
   "outputs": [],
   "source": [
    "time_walk=dur_walking\n",
    "time_cycle=dur_cycling\n",
    "time_pt=dur_pt_access+dur_pt_rail+dur_pt_bus+dur_pt_int\n",
    "time_drive=dur_driving\n",
    "\n",
    "cost_drive=cost_driving_ccharge+cost_driving_fuel\n",
    "cost_pt=cost_transit"
   ]
  },
  {
   "cell_type": "markdown",
   "id": "a68d668a",
   "metadata": {},
   "source": [
    "There is 4 different travel mode, we will thus build a model with 4 utility functions, we create 3 alternative specific constant, a generic parameter for travel time and a generic parameter for cost"
   ]
  },
  {
   "cell_type": "code",
   "execution_count": null,
   "id": "527ddfb5",
   "metadata": {},
   "outputs": [],
   "source": [
    "asc_cycle = Beta('asc_cycle', 0, None, None, 0)\n",
    "asc_pt = Beta('asc_pt', 0, None, None, 0)\n",
    "asc_drive = Beta('asc_drive', 0, None, None, 0)\n",
    "beta_cost = Beta('beta_cost', 0, None, None, 0)\n",
    "beta_time = Beta('beta_time', 0, None, None, 0)"
   ]
  },
  {
   "cell_type": "markdown",
   "id": "afbd2e71",
   "metadata": {},
   "source": [
    "utility functions"
   ]
  },
  {
   "cell_type": "code",
   "execution_count": null,
   "id": "17661004",
   "metadata": {},
   "outputs": [],
   "source": [
    "v_walk_model0= beta_time * time_walk  \n",
    "v_cycle_model0= asc_cycle + beta_time * time_cycle \n",
    "v_pt_model0= asc_pt + beta_time * time_pt + beta_cost * cost_pt\n",
    "v_drive_model0= asc_drive + beta_time * time_drive + beta_cost * cost_drive"
   ]
  },
  {
   "cell_type": "code",
   "execution_count": null,
   "id": "09a242b4",
   "metadata": {},
   "outputs": [],
   "source": [
    "av = {1: 1, 2: 1, 3: 1, 4:1}"
   ]
  },
  {
   "cell_type": "markdown",
   "id": "295c4066",
   "metadata": {},
   "source": [
    "estimation of the parameters for Model 0, all relevant parameters are printed"
   ]
  },
  {
   "cell_type": "code",
   "execution_count": null,
   "id": "b8605612",
   "metadata": {},
   "outputs": [],
   "source": [
    "V_model0 = {1: v_walk_model0 , 2: v_cycle_model0, 3: v_pt_model0, 4: v_drive_model0}\n",
    "logprob_model0 = models.loglogit(V_model0, av, travel_mode)\n",
    "biogeme_model0 = bio.BIOGEME(database, logprob_model0)\n",
    "biogeme_model0.modelName = 'Model_0'\n",
    "all_results['Model0'] = biogeme_model0.estimate()\n",
    "results_generic = biogeme_model0.estimate()\n",
    "results_generic.getEstimatedParameters()"
   ]
  },
  {
   "cell_type": "code",
   "execution_count": null,
   "id": "f8fd4259",
   "metadata": {},
   "outputs": [],
   "source": [
    "res.compileEstimationResults(all_results)"
   ]
  },
  {
   "cell_type": "code",
   "execution_count": null,
   "id": "b77d2fb4",
   "metadata": {},
   "outputs": [],
   "source": [
    "print(\"Null Loglikelihood : \")\n",
    "biogeme_model0.calculateNullLoglikelihood(av)"
   ]
  },
  {
   "cell_type": "markdown",
   "id": "af9c8c20",
   "metadata": {},
   "source": [
    "# Model 1 "
   ]
  },
  {
   "cell_type": "markdown",
   "id": "712a2de8",
   "metadata": {},
   "source": [
    "### Time specification"
   ]
  },
  {
   "cell_type": "markdown",
   "id": "fd300db1",
   "metadata": {},
   "source": [
    "We will try a specification where the the cost coeffecient is Generic and the time coefficient is alternative specific"
   ]
  },
  {
   "cell_type": "markdown",
   "id": "9f49a4cd",
   "metadata": {},
   "source": [
    "Again 4 different travel mode, 4 utility functions and 3 alternative specific constant.\n",
    "This time we have the generic parameter for cost and a 4 new specific parameter for travel time"
   ]
  },
  {
   "cell_type": "code",
   "execution_count": null,
   "id": "44110c8a",
   "metadata": {},
   "outputs": [],
   "source": [
    "beta_time_drive = Beta('beta_time_drive', 0, None, None, 0)\n",
    "beta_time_pt = Beta('beta_time_pt', 0, None, None, 0)\n",
    "beta_time_walk = Beta('beta_time_walk', 0, None, None, 0)\n",
    "beta_time_cycle = Beta('beta_time_cycle', 0, None, None, 0)"
   ]
  },
  {
   "cell_type": "markdown",
   "id": "087e6e16",
   "metadata": {},
   "source": [
    "New utility functions :"
   ]
  },
  {
   "cell_type": "code",
   "execution_count": null,
   "id": "188c60e3",
   "metadata": {},
   "outputs": [],
   "source": [
    "v_walk_model1 = beta_time_walk * time_walk  \n",
    "v_cycle_model1 = asc_cycle + beta_time_cycle * time_cycle \n",
    "v_pt_model1 = asc_pt + beta_time_pt * time_pt + beta_cost * cost_pt\n",
    "v_drive_model1 = asc_drive + beta_time_drive * time_drive + beta_cost * cost_drive"
   ]
  },
  {
   "cell_type": "markdown",
   "id": "410224b3",
   "metadata": {},
   "source": [
    "Estimation of the parameters for Model 1, all relevant parameters are printed"
   ]
  },
  {
   "cell_type": "code",
   "execution_count": null,
   "id": "8ac1b493",
   "metadata": {},
   "outputs": [],
   "source": [
    "V_model1 = {1: v_walk_model1 , 2: v_cycle_model1, 3: v_pt_model1, 4: v_drive_model1}\n",
    "logprob_model1 = models.loglogit(V_model1, av, travel_mode)\n",
    "biogeme_model1 = bio.BIOGEME(database, logprob_model1)\n",
    "biogeme_model1.modelName = 'Model1_time_specification'\n",
    "all_results['Model1_time_specification'] = biogeme_model1.estimate()\n",
    "results_alt_spec_time = biogeme_model1.estimate()\n",
    "results_alt_spec_time.getEstimatedParameters()"
   ]
  },
  {
   "cell_type": "code",
   "execution_count": null,
   "id": "cf11683b",
   "metadata": {},
   "outputs": [],
   "source": [
    "res.compileEstimationResults(all_results)"
   ]
  },
  {
   "cell_type": "markdown",
   "id": "9290c402",
   "metadata": {},
   "source": [
    "### Cost specification"
   ]
  },
  {
   "cell_type": "markdown",
   "id": "92f32390",
   "metadata": {},
   "source": [
    "We compare with the model where we specify the price, to be sure to have the most interesting model for the future models. (walk and cycling don't have cost, so only 2 specific parameter for cost)"
   ]
  },
  {
   "cell_type": "code",
   "execution_count": null,
   "id": "6bfc4850",
   "metadata": {},
   "outputs": [],
   "source": [
    "beta_cost_drive = Beta('beta_cost_drive', 0, None, None, 0)\n",
    "beta_cost_pt = Beta('beta_cost_pt', 0, None, None, 0)"
   ]
  },
  {
   "cell_type": "markdown",
   "id": "17dbc909",
   "metadata": {},
   "source": [
    "New utility function"
   ]
  },
  {
   "cell_type": "code",
   "execution_count": null,
   "id": "0a07671e",
   "metadata": {},
   "outputs": [],
   "source": [
    "v_walk_model1_spec_cost = beta_time * time_walk  \n",
    "v_cycle_model1_spec_cost = asc_cycle + beta_time * time_cycle \n",
    "v_pt_model1_spec_cost = asc_pt + beta_time * time_pt + beta_cost_pt * cost_pt\n",
    "v_drive_model1_spec_cost = asc_drive + beta_time * time_drive + beta_cost_drive * cost_drive"
   ]
  },
  {
   "cell_type": "code",
   "execution_count": null,
   "id": "ab8ee846",
   "metadata": {},
   "outputs": [],
   "source": [
    "V_model1_spec_cost = {1: v_walk_model1_spec_cost , 2: v_cycle_model1_spec_cost, 3: v_pt_model1_spec_cost, 4: v_drive_model1_spec_cost}\n",
    "logprob_model1_spec_cost = models.loglogit(V_model1_spec_cost, av, travel_mode)\n",
    "biogeme_model1_spec_cost = bio.BIOGEME(database, logprob_model1_spec_cost)\n",
    "biogeme_model1_spec_cost.modelName = 'Model_1_cost_specifiaction'\n",
    "all_results['Model1_cost_specification'] = biogeme_model1_spec_cost.estimate()\n",
    "results_alt_spec_cost = biogeme_model1_spec_cost.estimate()\n",
    "results_alt_spec_cost.getEstimatedParameters()"
   ]
  },
  {
   "cell_type": "code",
   "execution_count": null,
   "id": "e9192ecf",
   "metadata": {},
   "outputs": [],
   "source": [
    "res.compileEstimationResults(all_results)"
   ]
  },
  {
   "cell_type": "markdown",
   "id": "1c3651ff",
   "metadata": {},
   "source": [
    "### Comparaison"
   ]
  },
  {
   "cell_type": "markdown",
   "id": "9d333851",
   "metadata": {},
   "source": [
    "we use log-likehood ratio as the model 0 is a reduction of the model 1"
   ]
  },
  {
   "cell_type": "code",
   "execution_count": null,
   "id": "6a7f5f84",
   "metadata": {},
   "outputs": [],
   "source": [
    "old  = results_generic\n",
    "new  = results_alt_spec_time\n",
    "new.likelihood_ratio_test(old, 0.05) #level of the statistics for a level of significance of 5%?"
   ]
  },
  {
   "cell_type": "markdown",
   "id": "c3bf4808",
   "metadata": {},
   "source": [
    "# Model 2"
   ]
  },
  {
   "cell_type": "code",
   "execution_count": null,
   "id": "dc5f96b2",
   "metadata": {},
   "outputs": [],
   "source": [
    "LPMC.columns"
   ]
  },
  {
   "cell_type": "code",
   "execution_count": null,
   "id": "26615ff9",
   "metadata": {},
   "outputs": [],
   "source": [
    "model_base=biogeme_model1"
   ]
  },
  {
   "cell_type": "code",
   "execution_count": null,
   "id": "b3487741",
   "metadata": {},
   "outputs": [],
   "source": [
    "#we're adding the attribute distance to our model \n",
    "#we're adding the interaction between age and distance\n",
    "pt_interchanges=Variable('pt_interchanges')\n",
    "driving_license=Variable('driving_license')"
   ]
  },
  {
   "cell_type": "code",
   "execution_count": null,
   "id": "79146d07",
   "metadata": {},
   "outputs": [],
   "source": [
    "#defining associated coefficients\n",
    "beta_pt_inter= Beta('beta_pt_inter', 0, None, None, 0)\n",
    "beta_license= Beta('beta_license', 0, None, None, 0)"
   ]
  },
  {
   "cell_type": "code",
   "execution_count": null,
   "id": "58b2dbe7",
   "metadata": {},
   "outputs": [],
   "source": [
    "#the specification, we only consider the alternative distance for walking\n",
    "#the interaction distance age is considered just for public trasnport\n",
    "v_walk_model2 = v_walk_model1\n",
    "v_cycle_model2 = v_cycle_model1\n",
    "v_pt_model2 = v_pt_model1 + beta_pt_inter*pt_interchanges\n",
    "v_drive_model2 = v_drive_model1 + asc_drive*beta_license*driving_license"
   ]
  },
  {
   "cell_type": "code",
   "execution_count": null,
   "id": "e46909b5",
   "metadata": {},
   "outputs": [],
   "source": [
    "#the estimation results\n",
    "V_model2 = {1: v_walk_model2 , 2: v_cycle_model2, 3: v_pt_model2, 4: v_drive_model2}\n",
    "logprob_model2 = models.loglogit(V_model2, av, travel_mode)\n",
    "biogeme_model2 = bio.BIOGEME(database, logprob_model2)\n",
    "biogeme_model2.modelName = 'Model_2'\n",
    "all_results['Model_2'] = biogeme_model2.estimate()\n",
    "results_model2 = biogeme_model2.estimate()\n",
    "results_model2.getEstimatedParameters()"
   ]
  },
  {
   "cell_type": "code",
   "execution_count": null,
   "id": "a4e82848",
   "metadata": {},
   "outputs": [],
   "source": [
    "res.compileEstimationResults(all_results)"
   ]
  },
  {
   "cell_type": "code",
   "execution_count": null,
   "id": "de40941e",
   "metadata": {},
   "outputs": [],
   "source": [
    "#we test base_model against model_2 where base_model is a restricted version of model_2 suing the looglikehood\n",
    "#ratio test"
   ]
  },
  {
   "cell_type": "code",
   "execution_count": null,
   "id": "776e820a",
   "metadata": {},
   "outputs": [],
   "source": [
    "#we test them using the null hypothesis that our base model is the true model"
   ]
  },
  {
   "cell_type": "code",
   "execution_count": null,
   "id": "afbc783f",
   "metadata": {},
   "outputs": [],
   "source": [
    "results_base=model_base.estimate()"
   ]
  },
  {
   "cell_type": "code",
   "execution_count": null,
   "id": "14d72238",
   "metadata": {},
   "outputs": [],
   "source": [
    "results_model2.likelihood_ratio_test(results_base, 0.05) #level of the statistics for a level of significance of 5%?"
   ]
  },
  {
   "cell_type": "code",
   "execution_count": null,
   "id": "134c982c",
   "metadata": {},
   "outputs": [],
   "source": [
    "#then depending on if the value I obtained was higher or lower than a certain number, we reject or accept the null hypothesis"
   ]
  },
  {
   "cell_type": "code",
   "execution_count": null,
   "id": "20bbe58f",
   "metadata": {},
   "outputs": [],
   "source": [
    "from scipy.stats import chi2\n",
    "threshold = chi2.ppf(.95, 2)\n",
    "threshold #just in case we might want to compare to this threshold"
   ]
  },
  {
   "cell_type": "markdown",
   "id": "1b35be32",
   "metadata": {},
   "source": [
    "# Model 3"
   ]
  },
  {
   "cell_type": "markdown",
   "id": "473d0152",
   "metadata": {},
   "source": [
    "We will conduct a non-linear transformation of time"
   ]
  },
  {
   "cell_type": "code",
   "execution_count": null,
   "id": "75f06262",
   "metadata": {},
   "outputs": [],
   "source": [
    "model_base=biogeme_model2\n",
    "log_time_walk = database.DefineVariable('log_time_walk', log(time_walk))\n",
    "log_time_cycle = database.DefineVariable('log_time_cycle', log(time_cycle))\n",
    "log_time_pt = database.DefineVariable('log_time_pt', log(time_pt))\n",
    "log_time_drive = database.DefineVariable('log_time_drive', log(time_drive))\n",
    "log_beta_time_drive = Beta('log_beta_time_drive', 0, None, None, 0)\n",
    "log_beta_time_pt = Beta('log_beta_time_pt', 0, None, None, 0)\n",
    "log_beta_time_walk = Beta('log_beta_time_walk', 0, None, None, 0)\n",
    "log_beta_time_cycle = Beta('log_beta_time_cycle', 0, None, None, 0)"
   ]
  },
  {
   "cell_type": "code",
   "execution_count": null,
   "id": "769fbba1",
   "metadata": {},
   "outputs": [],
   "source": [
    "v_walk_model3 = log_beta_time_walk * log_time_walk\n",
    "v_cycle_model3 = asc_cycle + log_beta_time_cycle * log_time_cycle\n",
    "v_pt_model3 = asc_pt + log_beta_time_pt * log_time_pt + beta_cost * cost_pt + beta_pt_inter*pt_interchanges\n",
    "v_drive_model3 = asc_drive + log_beta_time_drive * log_time_drive + beta_cost * cost_drive + asc_drive*beta_license*driving_license"
   ]
  },
  {
   "cell_type": "code",
   "execution_count": null,
   "id": "6a5868cf",
   "metadata": {},
   "outputs": [],
   "source": [
    "V_model3 = {1: v_walk_model3 , 2: v_cycle_model3, 3: v_pt_model3, 4: v_drive_model3}\n",
    "logprob_model3 = models.loglogit(V_model3, av, travel_mode)\n",
    "biogeme_model3 = bio.BIOGEME(database, logprob_model3)\n",
    "biogeme_model3.modelName = 'Model_3'\n",
    "all_results['Model_3'] = biogeme_model3.estimate()\n",
    "results_model3 = biogeme_model3.estimate()\n",
    "results_model3.getEstimatedParameters()"
   ]
  },
  {
   "cell_type": "code",
   "execution_count": null,
   "id": "9c4f16bc",
   "metadata": {
    "scrolled": true
   },
   "outputs": [],
   "source": [
    "res.compileEstimationResults(all_results)"
   ]
  },
  {
   "cell_type": "markdown",
   "id": "e8fc9e65",
   "metadata": {},
   "source": [
    "We will compare Model_2 and Model_3 with a cox test, thus we will create a generic model"
   ]
  },
  {
   "cell_type": "code",
   "execution_count": null,
   "id": "43d77ef5",
   "metadata": {},
   "outputs": [],
   "source": [
    "v_walk_model_generic = log_beta_time_walk * log_time_walk + beta_time_walk * time_walk\n",
    "v_cycle_model_generic = asc_cycle + log_beta_time_cycle * log_time_cycle + beta_time_cycle * time_cycle\n",
    "v_pt_model_generic = asc_pt + log_beta_time_pt * log_time_pt + beta_cost * cost_pt + beta_pt_inter*pt_interchanges + beta_time_pt * time_pt\n",
    "v_drive_model_generic = asc_drive + log_beta_time_drive * log_time_drive + beta_cost * cost_drive + asc_drive*beta_license*driving_license + beta_time_drive * time_drive"
   ]
  },
  {
   "cell_type": "code",
   "execution_count": null,
   "id": "c84fff7a",
   "metadata": {},
   "outputs": [],
   "source": [
    "V_model_generic = {1: v_walk_model_generic , 2: v_cycle_model_generic, 3: v_pt_model_generic, 4: v_drive_model_generic}\n",
    "logprob_model_generic = models.loglogit(V_model_generic, av, travel_mode)\n",
    "biogeme_model_generic = bio.BIOGEME(database, logprob_model_generic)\n",
    "biogeme_model_generic.modelName = 'Model_generic'\n",
    "all_results['Model_generic'] = biogeme_model_generic.estimate()\n",
    "results_model_generic = biogeme_model_generic.estimate()\n",
    "results_model_generic.getEstimatedParameters()"
   ]
  },
  {
   "cell_type": "code",
   "execution_count": null,
   "id": "355527c0",
   "metadata": {
    "scrolled": true
   },
   "outputs": [],
   "source": [
    "res.compileEstimationResults(all_results)"
   ]
  },
  {
   "cell_type": "code",
   "execution_count": null,
   "id": "36467bc9",
   "metadata": {},
   "outputs": [],
   "source": [
    "model_base=biogeme_model2\n",
    "results_base=model_base.estimate()\n",
    "results_model_generic.likelihood_ratio_test(results_base, 0.05)"
   ]
  },
  {
   "cell_type": "code",
   "execution_count": null,
   "id": "df0e32f2",
   "metadata": {},
   "outputs": [],
   "source": [
    "model_base=biogeme_model3\n",
    "results_base=model_base.estimate()\n",
    "results_model_generic.likelihood_ratio_test(results_base, 0.05)"
   ]
  },
  {
   "cell_type": "markdown",
   "id": "b169af7f",
   "metadata": {},
   "source": [
    "In this case the cox-test tells us to find better models, we will thus use a box-cox transform"
   ]
  },
  {
   "cell_type": "code",
   "execution_count": null,
   "id": "c3ded90a",
   "metadata": {},
   "outputs": [],
   "source": [
    "lambda_boxcox = Beta('lambda_boxcox', 1, None, None, 0)\n",
    "boxcox_time_walk = models.boxcox(time_walk, lambda_boxcox)\n",
    "boxcox_time_cycle = models.boxcox(time_cycle, lambda_boxcox)\n",
    "boxcox_time_pt = models.boxcox(time_pt, lambda_boxcox)\n",
    "boxcox_time_drive = models.boxcox(time_drive , lambda_boxcox)\n",
    "beta_elapsed_time_walk = Beta('beta_elapsed_walk', 0, None, None, 0)\n",
    "beta_elapsed_time_cycle = Beta('beta_elapsed_cycle', 0, None, None, 0)\n",
    "beta_elapsed_time_pt = Beta('beta_elapsed_time_pt', 0, None, None, 0)\n",
    "beta_elapsed_time_drive = Beta('beta_elapsed_time_drive', 0, None, None, 0)\n",
    "v_walk_model_boxcox = beta_elapsed_time_walk * boxcox_time_walk\n",
    "v_cycle_model_boxcox  = asc_cycle + beta_elapsed_time_cycle * boxcox_time_cycle \n",
    "v_pt_model_boxcox  = asc_pt + beta_elapsed_time_pt * boxcox_time_pt   + beta_cost * cost_pt + beta_pt_inter*pt_interchanges\n",
    "v_drive_model_boxcox  = asc_drive + beta_elapsed_time_drive * boxcox_time_drive + beta_cost * cost_drive + asc_drive*beta_license*driving_license"
   ]
  },
  {
   "cell_type": "code",
   "execution_count": null,
   "id": "600856de",
   "metadata": {},
   "outputs": [],
   "source": [
    "V_model_boxcox = {1: v_walk_model_boxcox , 2: v_cycle_model_boxcox, 3: v_pt_model_boxcox, 4: v_drive_model_boxcox}\n",
    "logprob_model_boxcox = models.loglogit(V_model_boxcox, av, travel_mode)\n",
    "biogeme_model_boxcox = bio.BIOGEME(database, logprob_model_boxcox)\n",
    "biogeme_model_boxcox.modelName = 'Model_boxcox'\n",
    "all_results['Model_boxcox'] = biogeme_model_boxcox.estimate()\n",
    "results_model_boxcox = biogeme_model_boxcox.estimate()\n",
    "results_model_boxcox.getEstimatedParameters()"
   ]
  },
  {
   "cell_type": "code",
   "execution_count": null,
   "id": "92d39460",
   "metadata": {},
   "outputs": [],
   "source": [
    "res.compileEstimationResults(all_results)"
   ]
  },
  {
   "cell_type": "code",
   "execution_count": null,
   "id": "223d4f52",
   "metadata": {},
   "outputs": [],
   "source": [
    "model_base=biogeme_model2\n",
    "results_base=model_base.estimate()\n",
    "results_model_boxcox.likelihood_ratio_test(results_base, 0.05)"
   ]
  },
  {
   "cell_type": "markdown",
   "id": "f2cb6604",
   "metadata": {},
   "source": [
    "# Model 4"
   ]
  },
  {
   "cell_type": "code",
   "execution_count": null,
   "id": "51dcae33",
   "metadata": {},
   "outputs": [],
   "source": [
    "\n",
    "model_base=biogeme_model_boxcox\n",
    "V_nested=V_model_boxcox\n",
    "#create the nests\n",
    "Mu_motorized=Beta(\"Mu_motorized\",1,0,None,0)\n",
    "Mu_notmotorized=Beta(\"Mu_notmotorized\",1,0,None,0)\n",
    "motorized= Mu_motorized,[3,4]\n",
    "notmotorized=Mu_notmotorized, [1,2]\n",
    "nests_motor=motorized, notmotorized\n"
   ]
  },
  {
   "cell_type": "code",
   "execution_count": null,
   "id": "b96b3f71",
   "metadata": {},
   "outputs": [],
   "source": [
    "logprob_model_nested = models.lognested(V_nested, av, nests_motor, travel_mode)\n",
    "biogeme_model_nested = bio.BIOGEME(database, logprob_model_nested)\n",
    "biogeme_model_nested.modelName = 'Model_nested_motor'\n",
    "all_results['Model_nested_motor'] = biogeme_model_nested.estimate()\n",
    "results_model_nested = biogeme_model_nested.estimate()\n",
    "results_model_nested.getEstimatedParameters()"
   ]
  },
  {
   "cell_type": "markdown",
   "id": "72cf9593-ffbc-4da3-9dbe-c288c9d7162b",
   "metadata": {},
   "source": [
    "This model is rejected as Mu_notmotorized is inferior to 1. We will try a crossnested model between motored and private."
   ]
  },
  {
   "cell_type": "code",
   "execution_count": null,
   "id": "77094c4f-42f8-43f2-b430-cc1a08958c30",
   "metadata": {},
   "outputs": [],
   "source": [
    "#define the crossnests\n",
    "Mu_private=Beta('Mu_private',3,1,None,0)\n",
    "Mu_motorcross=Beta('Mu_Motorcross',3,1,None,0)\n",
    "Alpha_Motor=Beta('Alpha_Motor',0.5,0,1,0)\n",
    "Alpha_Private=1-Alpha_Motor\n",
    "\n",
    "alpha_motor={1:0.0,\n",
    "             2:0.0,\n",
    "             3:Alpha_Motor,\n",
    "             4:1.0 }\n",
    "alpha_private={1:1.0,\n",
    "               2:1.0,\n",
    "               3:Alpha_Private,\n",
    "               4:0.0}\n",
    "\n",
    "nest_motor=Mu_motorcross, alpha_motor\n",
    "nest_private=Mu_private, alpha_private\n",
    "cross_nests=nest_private, nest_motor"
   ]
  },
  {
   "cell_type": "code",
   "execution_count": null,
   "id": "bddc3ec0-ce33-4c74-b147-90aad6937e69",
   "metadata": {},
   "outputs": [],
   "source": [
    "logprob_model_crossnested = models.logcnl_avail(V_nested, av, cross_nests, travel_mode)\n",
    "logprob_model_crossnested.changeInitValues(results_model_nested.getBetaValues())\n",
    "biogeme_model_crossnested = bio.BIOGEME(database, logprob_model_crossnested)\n",
    "biogeme_model_crossnested.modelName = 'Model_crossnested'\n",
    "results_model_crossnested = biogeme_model_crossnested.estimate()\n",
    "all_results['Model_crossnested'] = results_model_crossnested\n",
    "results_model_crossnested.getEstimatedParameters()"
   ]
  },
  {
   "cell_type": "markdown",
   "id": "bf1729a5-c7e2-4150-a4b4-dc1f0266e8f2",
   "metadata": {},
   "source": [
    "The model is also rejected as alpha is 1. Moreover we see that mu_private is 1. We try another simple nest with the use of a vehicule:"
   ]
  },
  {
   "cell_type": "code",
   "execution_count": null,
   "id": "98ca1704-7c2c-495d-91a9-a92222826935",
   "metadata": {},
   "outputs": [],
   "source": [
    "Mu_vehicle=Beta(\"Mu_vehicle\",1,0,None,0)\n",
    "vehicle= Mu_vehicle,[2,3,4]\n",
    "not_vehicle=1,[1]\n",
    "nests_vehicle=vehicle, not_vehicle\n"
   ]
  },
  {
   "cell_type": "code",
   "execution_count": null,
   "id": "c6e88070-abf2-469e-b94e-da9aeb4ee9ce",
   "metadata": {},
   "outputs": [],
   "source": [
    "logprob_model_nestedvehicle = models.lognested(V_nested, av, nests_vehicle, travel_mode)\n",
    "biogeme_model_nestedvehicle = bio.BIOGEME(database, logprob_model_nestedvehicle)\n",
    "biogeme_model_nestedvehicle.modelName = 'Model_nested_vehicle'\n",
    "results_model_nestedvehicle = biogeme_model_nestedvehicle.estimate()\n",
    "all_results['Model_nested_vehicle'] = results_model_nestedvehicle\n",
    "table_nestedvehicle=results_model_nestedvehicle.getEstimatedParameters()\n",
    "table_nestedvehicle"
   ]
  },
  {
   "cell_type": "code",
   "execution_count": null,
   "id": "8dd01c9b-c635-474c-a875-62c144160dca",
   "metadata": {},
   "outputs": [],
   "source": [
    "#t-test H0:true value is 1\n",
    "mu = table_nestedvehicle.loc['Mu_vehicle', 'Value']\n",
    "mu_stderr = table_nestedvehicle.loc['Mu_vehicle', 'Rob. Std err']\n",
    "tested_value = 1\n",
    "ttest = (mu - tested_value) / mu_stderr\n",
    "ttest"
   ]
  },
  {
   "cell_type": "code",
   "execution_count": null,
   "id": "757995c9",
   "metadata": {},
   "outputs": [],
   "source": [
    "res.compileEstimationResults(all_results)"
   ]
  },
  {
   "cell_type": "code",
   "execution_count": null,
   "id": "104fe263",
   "metadata": {},
   "outputs": [],
   "source": [
    "results_base=model_base.estimate()\n",
    "results_model_nestedvehicle.likelihood_ratio_test(results_base, 0.05)"
   ]
  },
  {
   "cell_type": "code",
   "execution_count": null,
   "id": "009388bf",
   "metadata": {},
   "outputs": [],
   "source": [
    "V_pref=V_nested\n",
    "nest_pref=nests_vehicle\n",
    "model_name_pref='Model_nested_vehicle'\n",
    "result_pref=results_model_nestedvehicle\n",
    "estimation_pref=table_nestedvehicle"
   ]
  },
  {
   "cell_type": "markdown",
   "id": "cd631b02",
   "metadata": {},
   "source": [
    "### Market share"
   ]
  },
  {
   "cell_type": "code",
   "execution_count": null,
   "id": "0d954ac4",
   "metadata": {},
   "outputs": [],
   "source": [
    "LPMC.head()"
   ]
  },
  {
   "cell_type": "code",
   "execution_count": null,
   "id": "7f13f5b2-7a37-4a10-bb4f-685e08b3989b",
   "metadata": {},
   "outputs": [],
   "source": [
    "LPMC[(LPMC[\"household_id\"]==5) & (LPMC[\"person_n\"]==1)].shape[0]"
   ]
  },
  {
   "cell_type": "markdown",
   "id": "47e22288",
   "metadata": {},
   "source": [
    "Some individuals make several trips. To account for this in the computation of the weights, we'll consider an individual making n trips as n indivudals. "
   ]
  },
  {
   "cell_type": "code",
   "execution_count": null,
   "id": "426812a6-9d8b-4e0d-abb5-100d092b1ba5",
   "metadata": {},
   "outputs": [],
   "source": [
    "census = {\n",
    "    'male_41_more':  1633263,\n",
    "    'male_40_less':  2676249,\n",
    "    'female_41_more':   1765143,\n",
    "    'female_40_less':  2599058,\n",
    "}"
   ]
  },
  {
   "cell_type": "code",
   "execution_count": null,
   "id": "8c76f6bb-78a2-4238-897b-e419804f9f80",
   "metadata": {},
   "outputs": [],
   "source": [
    "total = sum(census.values())\n",
    "total"
   ]
  },
  {
   "cell_type": "code",
   "execution_count": null,
   "id": "1d41997d-a6bc-449c-a331-202947f65d53",
   "metadata": {},
   "outputs": [],
   "source": [
    "filters = {\n",
    "    'male_41_more': (LPMC.age >= 41) & (LPMC.female == 0),\n",
    "    'male_40_less': (LPMC.age <= 40) & (LPMC.female == 0),\n",
    "    'female_41_more': (LPMC.age >= 41) & (LPMC.female == 1),\n",
    "    'female_40_less': (LPMC.age <= 40) & (LPMC.female == 1),\n",
    "}"
   ]
  },
  {
   "cell_type": "code",
   "execution_count": null,
   "id": "6467e379-a22b-4279-8d3e-cc3569de0374",
   "metadata": {},
   "outputs": [],
   "source": [
    "sample_segments = {\n",
    "    k: v.sum() for k, v in filters.items()\n",
    "}\n",
    "sample_segments"
   ]
  },
  {
   "cell_type": "code",
   "execution_count": null,
   "id": "b8c36113-331d-4d2f-a16b-157c67c5eca8",
   "metadata": {},
   "outputs": [],
   "source": [
    "total_sample = sum(sample_segments.values())\n",
    "total_sample"
   ]
  },
  {
   "cell_type": "code",
   "execution_count": null,
   "id": "97c7e513-2858-445d-a877-018bb57f2000",
   "metadata": {},
   "outputs": [],
   "source": [
    "weights = {\n",
    "    k: census[k] * total_sample / (v * total) \n",
    "    for k, v in sample_segments.items()\n",
    "}\n",
    "weights"
   ]
  },
  {
   "cell_type": "code",
   "execution_count": null,
   "id": "2b840bcb-4f57-4b25-a4a7-16fe72e174de",
   "metadata": {},
   "outputs": [],
   "source": [
    "for k, f in filters.items():\n",
    "    LPMC.loc[f, 'weights'] = weights[k] "
   ]
  },
  {
   "cell_type": "code",
   "execution_count": null,
   "id": "301d58d6-7737-47a7-9008-171d514ad3e5",
   "metadata": {},
   "outputs": [],
   "source": [
    "#we check the weights sum to the sample size\n",
    "sum_weights = LPMC['weights'].sum()\n",
    "sum_weights"
   ]
  },
  {
   "cell_type": "markdown",
   "id": "b7d76a9d",
   "metadata": {},
   "source": [
    "# Market Shares\n"
   ]
  },
  {
   "cell_type": "markdown",
   "id": "49b285dc",
   "metadata": {},
   "source": [
    "We will there use the market_share function defined in lab session 03-indicators, but we adapted it to our models\n",
    "\n",
    "\n",
    "Here we DO NOT simulate weights ? is it ok ?"
   ]
  },
  {
   "cell_type": "markdown",
   "id": "b7ae6553",
   "metadata": {},
   "source": [
    "## Market Shares with Modelpref"
   ]
  },
  {
   "cell_type": "code",
   "execution_count": null,
   "id": "4c8de5e9",
   "metadata": {},
   "outputs": [],
   "source": [
    "female=Variable('female')\n",
    "age=Variable('age')\n",
    "weights=Variable('weights')"
   ]
  },
  {
   "cell_type": "code",
   "execution_count": null,
   "id": "coordinate-twins",
   "metadata": {
    "scrolled": true
   },
   "outputs": [],
   "source": [
    "type(weights)\n",
    "IndicatorTuple = namedtuple('IndicatorTuple', 'value lower upper') "
   ]
  },
  {
   "cell_type": "code",
   "execution_count": null,
   "id": "319ad316",
   "metadata": {},
   "outputs": [],
   "source": [
    "def market_share(utility):\n",
    "    \"\"\"Calculate the market shares of all alternatives, given the\n",
    "    specification of the utility functions.\n",
    "\n",
    "    :param utility: specification of the utility functions. It is a\n",
    "        dict where the keys are the IDs of the alternatives, and the\n",
    "        values are the expressions of the utility functions.\n",
    "    :type utility: dict(int: biogeme.expressions.Expression)\n",
    "\n",
    "    :return: a dictionary where each entry corresponds to an\n",
    "        alternative, and associates its name with the InticatorTuple\n",
    "        containing the value of the market share, and the lower and\n",
    "        upper bounds of the 90% confidence interval.\n",
    "    :rtype: dict(str: IndicatorTuple)\n",
    "\n",
    "    \"\"\"\n",
    "    prob_WALK = models.lognested(utility, av, nest_pref, 1)\n",
    "    prob_CYCLE = models.lognested(utility, av, nest_pref, 2)\n",
    "    prob_PT = models.lognested(utility, av, nest_pref, 3)\n",
    "    prob_DRIVE = models.lognested(utility, av, nest_pref, 4)\n",
    "    \"\"\"\n",
    "    prob_WALK = models.loglogit(utility, None, 1)\n",
    "    prob_CYCLE= models.loglogit(utility, None, 2)\n",
    "    prob_PT = models.loglogit(utility, None, 3)\n",
    "    prob_DRIVE = models.loglogit(utility, None, 4)\n",
    "    \"\"\"\n",
    "\n",
    "    simulate = {\n",
    "        'Prob. walk': prob_WALK,\n",
    "        'Prob. cycle': prob_CYCLE,\n",
    "        'Prob. PT': prob_PT,\n",
    "        'Prob. drive': prob_DRIVE,\n",
    "        'weights' : weights\n",
    "        \n",
    "    }\n",
    "    biosim = bio.BIOGEME(database, simulate)\n",
    "    simulated_values = biosim.simulate(result_pref.getBetaValues())\n",
    "\n",
    "    # We also calculate confidence intervals for the calculated quantities\n",
    "\n",
    "    betas = biogeme_model_nestedvehicle.freeBetaNames()\n",
    "    b = result_pref.getBetasForSensitivityAnalysis(betas,useBootstrap=False)\n",
    "    left, right = biosim.confidenceIntervals(b, 0.9)\n",
    "\n",
    "    # Market shares are calculated using the weighted mean of the individual probabilities\n",
    "    #Since lognested outputs the logarithm of the wanted probability, we'll have to compose the occurences\n",
    "    #of the proba by the exponential\n",
    "\n",
    "    ## Alternative WALK\n",
    "\n",
    "    simulated_values['Weighted prob. walk'] = simulated_values['weights'] * np.exp(simulated_values['Prob. walk'])\n",
    "    left['Weighted prob. walk'] = left['weights'] * np.exp(left['Prob. walk'])\n",
    "    right['Weighted prob. walk'] = right['weights'] * np.exp(right['Prob. walk'])\n",
    "\n",
    "    marketShare_walk = simulated_values['Weighted prob. walk'].mean()\n",
    "    marketShare_walk_left = left['Weighted prob. walk'].mean()\n",
    "    marketShare_walk_right = right['Weighted prob. walk'].mean()\n",
    "    \n",
    "    \n",
    "    ## Alternative cycle\n",
    "\n",
    "    simulated_values['Weighted prob. cycle'] =simulated_values['weights'] * np.exp(simulated_values['Prob. cycle'])\n",
    "    left['Weighted prob. cycle'] = left['weights'] * np.exp(left['Prob. cycle'])\n",
    "    right['Weighted prob. cycle'] = right['weights'] * np.exp(right['Prob. cycle'])\n",
    "\n",
    "    marketShare_cycle = simulated_values['Weighted prob. cycle'].mean()\n",
    "    marketShare_cycle_left = left['Weighted prob. cycle'].mean()\n",
    "    marketShare_cycle_right = right['Weighted prob. cycle'].mean()\n",
    "\n",
    "    ## Alternative pt\n",
    "\n",
    "    simulated_values['Weighted prob. PT'] = (\n",
    "        simulated_values['weights'] * np.exp(simulated_values['Prob. PT'])\n",
    "    )\n",
    "    left['Weighted prob. PT'] = left['weights'] * np.exp(left['Prob. PT'])\n",
    "    right['Weighted prob. PT'] = right['weights'] * np.exp(right['Prob. PT'])\n",
    "\n",
    "    marketShare_PT = simulated_values['Weighted prob. PT'].mean()\n",
    "    marketShare_PT_left = left['Weighted prob. PT'].mean()\n",
    "    marketShare_PT_right = right['Weighted prob. PT'].mean()\n",
    "    \n",
    "                                                         \n",
    "    ## Alternative drive\n",
    "\n",
    "    simulated_values['Weighted prob. drive'] = (\n",
    "        simulated_values['weights'] * np.exp(simulated_values['Prob. drive'])\n",
    "    )\n",
    "    left['Weighted prob. drive'] = left['weights'] * np.exp(left['Prob. drive'])\n",
    "    right['Weighted prob. drive'] = right['weights'] * np.exp(right['Prob. drive'])\n",
    "\n",
    "    marketShare_drive = simulated_values['Weighted prob. drive'].mean()\n",
    "    marketShare_drive_left = left['Weighted prob. drive'].mean()\n",
    "    marketShare_drive_right = right['Weighted prob. drive'].mean()\n",
    "\n",
    "    return {\n",
    "            'Walk': IndicatorTuple(\n",
    "                value=marketShare_walk, \n",
    "                lower=marketShare_walk_left, \n",
    "                upper=marketShare_walk_right\n",
    "            ),\n",
    "            'Cycle': IndicatorTuple(\n",
    "                value=marketShare_cycle, \n",
    "                lower=marketShare_cycle_left, \n",
    "                upper=marketShare_cycle_right\n",
    "            ),\n",
    "            'Public transportation': IndicatorTuple(\n",
    "                value=marketShare_PT, \n",
    "                lower=marketShare_PT_left, \n",
    "                upper=marketShare_PT_right\n",
    "            ),\n",
    "            'Drive': IndicatorTuple(\n",
    "                value=marketShare_drive, \n",
    "                lower=marketShare_drive_left, \n",
    "                upper=marketShare_drive_right\n",
    "            )\n",
    "    }"
   ]
  },
  {
   "cell_type": "code",
   "execution_count": null,
   "id": "bf7dac30",
   "metadata": {},
   "outputs": [],
   "source": [
    "ms = market_share(V_pref)\n",
    "for k, v in ms.items():\n",
    "    print(\n",
    "        f'Market share for {k}: {100*v.value:.2f}% '\n",
    "        f'[{100*v.lower:.2f}%, '\n",
    "        f'{100*v.upper:.2f}%]'\n",
    "    )\n",
    "\n",
    "#we check it sums up to 100\n",
    "total=0\n",
    "for k, v in ms.items():\n",
    "    total+=100*v.value\n",
    "print('Total : ', total)"
   ]
  },
  {
   "cell_type": "code",
   "execution_count": null,
   "id": "1be34d5f",
   "metadata": {},
   "outputs": [],
   "source": [
    "count_walk=0\n",
    "count_cycle=0\n",
    "count_pt=0\n",
    "count_drive=0\n",
    "for c in LPMC['travel_mode']:\n",
    "    if c==1:\n",
    "        count_walk+=1\n",
    "    if c==2:\n",
    "        count_cycle+=1\n",
    "    if c==3:\n",
    "        count_pt+=1\n",
    "    if c==4:\n",
    "        count_drive+=1\n",
    "print('Market share for walk ' +  str(count_walk/5000))\n",
    "print('Market share for cycle ' +  str(count_cycle/5000))   \n",
    "print('Market share for pt ' +  str(count_pt/5000))   \n",
    "print('Market share for drive ' +  str(count_drive/5000))   "
   ]
  },
  {
   "attachments": {},
   "cell_type": "markdown",
   "id": "a175ec66",
   "metadata": {},
   "source": [
    "##   Forecasting"
   ]
  },
  {
   "attachments": {},
   "cell_type": "markdown",
   "id": "cba51d07-fb40-464d-a6f2-8a81aa9ce261",
   "metadata": {},
   "source": [
    "### Question 1"
   ]
  },
  {
   "attachments": {},
   "cell_type": "markdown",
   "id": "5de339bd-4a77-44dd-94cb-b0662380683a",
   "metadata": {},
   "source": [
    "##### Scenario 1 : an increase of car cost by 15%. \n",
    " We use the beta elapsed and lambda as defined in model 3. "
   ]
  },
  {
   "attachments": {},
   "cell_type": "markdown",
   "id": "5051033c",
   "metadata": {},
   "source": [
    "Only the utility function for the car changes. The others take the values of Model_pref"
   ]
  },
  {
   "cell_type": "code",
   "execution_count": null,
   "id": "ca848847",
   "metadata": {},
   "outputs": [],
   "source": [
    "v_walk_scenario1 = V_pref[1]\n",
    "v_cycle_scenario1   = V_pref[2]\n",
    "v_pt_scenario1   = V_pref[3]\n",
    "v_drive_scenario1   = asc_drive + beta_elapsed_time_drive * boxcox_time_drive + beta_cost * cost_drive * (1+0.15) + asc_drive*beta_license*driving_license\n",
    "\n",
    "\n",
    "V_scenario1  = {1: v_walk_scenario1  , 2: v_cycle_scenario1 , 3: v_pt_scenario1 , 4: v_drive_scenario1 }"
   ]
  },
  {
   "cell_type": "code",
   "execution_count": null,
   "id": "ec436de0",
   "metadata": {},
   "outputs": [],
   "source": [
    "ms1 = market_share(V_scenario1)\n",
    "for k, v in ms1.items():\n",
    "    print(\n",
    "        f'Market share for {k}: {100*v.value:.2f}% '\n",
    "        f'[{100*v.lower:.2f}%, '\n",
    "        f'{100*v.upper:.2f}%]'\n",
    "    )\n",
    "\n",
    "\n",
    "#we check it sums up to 100\n",
    "total=0\n",
    "for k, v in ms1.items():\n",
    "    total+=100*v.value\n",
    "print('Total : ', total)"
   ]
  },
  {
   "attachments": {},
   "cell_type": "markdown",
   "id": "d3e97e68",
   "metadata": {},
   "source": [
    "##### Scenario 2 : Decrease of public transport cost by 15%"
   ]
  },
  {
   "cell_type": "code",
   "execution_count": null,
   "id": "9cdeb53a",
   "metadata": {},
   "outputs": [],
   "source": [
    "v_walk_scenario2 = V_pref[1]\n",
    "v_cycle_scenario2   = V_pref[2]\n",
    "v_pt_scenario2   = asc_pt + beta_elapsed_time_pt * boxcox_time_pt   + beta_cost * cost_pt * (1-0.15) + beta_pt_inter*pt_interchanges\n",
    "v_drive_scenario2   = V_pref[4]\n",
    "\n",
    "\n",
    "V_scenario2  = {1: v_walk_scenario2  , 2: v_cycle_scenario2 , 3: v_pt_scenario2 , 4: v_drive_scenario2 }"
   ]
  },
  {
   "cell_type": "code",
   "execution_count": null,
   "id": "cf9a20d3",
   "metadata": {},
   "outputs": [],
   "source": [
    "ms2 = market_share(V_scenario2)\n",
    "for k, v in ms2.items():\n",
    "    print(\n",
    "        f'Market share for {k}: {100*v.value:.2f}% '\n",
    "        f'[{100*v.lower:.2f}%, '\n",
    "        f'{100*v.upper:.2f}%]'\n",
    "    )\n",
    "\n",
    "#we check it sums up to 100\n",
    "total=0\n",
    "for k, v in ms2.items():\n",
    "    total+=100*v.value\n",
    "print('Total : ', total)"
   ]
  },
  {
   "attachments": {},
   "cell_type": "markdown",
   "id": "6d85564e",
   "metadata": {},
   "source": [
    "### Question 3 : public transportation total revenue"
   ]
  },
  {
   "cell_type": "code",
   "execution_count": null,
   "id": "1a8e06bd",
   "metadata": {},
   "outputs": [],
   "source": [
    "def revenues(cost, utility):\n",
    "    \"\"\"Calculate the revenues of all alternatives, given the\n",
    "    specification of the utility functions and the expression of the cost.\n",
    "\n",
    "    :param cost: expression to calculate the cost of the public transportation.\n",
    "    :type cost: biogeme.expressions.Expression\n",
    "\n",
    "    :param utility: specification of the utility functions. It is a\n",
    "        dict where the keys are the IDs of the alternatives, and the\n",
    "        values are the expressions of the utility functions.\n",
    "    :type utility: dict(int: biogeme.expressions.Expression)\n",
    "    \n",
    "    :return: tuple containing the value of the revenues, as well as\n",
    "        the lower and upper bound of the 90% confidence interval.\n",
    "    :rtype: IndicatorTuple    \n",
    "    \"\"\"\n",
    "    prob_WALK = models.lognested(utility, av, nest_pref, 1)\n",
    "    prob_CYCLE = models.lognested(utility, av, nest_pref, 2)\n",
    "    prob_PT = models.lognested(utility, av, nest_pref, 3)\n",
    "    prob_DRIVE = models.lognested(utility, av, nest_pref, 4)\n",
    "\n",
    "    simulate = {\n",
    "        'weight': weights,\n",
    "        'Revenues PT': prob_PT * cost,\n",
    "    }\n",
    "    biosim = bio.BIOGEME(database, simulate)\n",
    "    simulated_values = biosim.simulate(result_pref.getBetaValues())\n",
    "\n",
    "    # We also calculate confidence intervals for the calculated quantities\n",
    "\n",
    "    betas = biogeme_model_nestedvehicle.freeBetaNames()\n",
    "    b = result_pref.getBetasForSensitivityAnalysis(betas,useBootstrap=False)\n",
    "    left, right = biosim.confidenceIntervals(b, 0.9)\n",
    "\n",
    "    # Revenues are calculated using the weighted mean of the individual quantities\n",
    "\n",
    "\n",
    "    simulated_values['Weighted revenues PT'] = (\n",
    "        simulated_values['weight'] * simulated_values['Revenues PT']\n",
    "    )\n",
    "    left['Weighted revenues PT'] = left['weight'] * left['Revenues PT']\n",
    "    right['Weighted revenues PT'] = right['weight'] * right['Revenues PT']\n",
    "\n",
    "    revenues_PT = simulated_values['Weighted revenues PT'].mean()\n",
    "    revenues_PT_left = left['Weighted revenues PT'].mean()\n",
    "    revenues_PT_right = right['Weighted revenues PT'].mean()\n",
    "\n",
    "\n",
    "    return IndicatorTuple(\n",
    "        value=revenues_PT, \n",
    "        lower=revenues_PT_left, \n",
    "        upper=revenues_PT_right\n",
    "    )"
   ]
  },
  {
   "cell_type": "markdown",
   "id": "2dd9916d",
   "metadata": {},
   "source": [
    "Total Revenues without any changement"
   ]
  },
  {
   "cell_type": "code",
   "execution_count": null,
   "id": "d5783f07",
   "metadata": {},
   "outputs": [],
   "source": [
    "revenue_0 = revenues(cost_pt,V_pref)\n",
    "print(\n",
    "        f'Revenue for Scenario 0: {revenue_0[0]:.3f} '\n",
    "        f'[{revenue_0[1]:.2f}, '\n",
    "        f'{revenue_0[2]:.2f}]'\n",
    "    )"
   ]
  },
  {
   "attachments": {},
   "cell_type": "markdown",
   "id": "745b2674",
   "metadata": {},
   "source": [
    "##### Scenario 1 : an increase of car cost by 15% \n",
    "The factor is 1 as the price for public transport doen't change"
   ]
  },
  {
   "cell_type": "code",
   "execution_count": null,
   "id": "3e479465",
   "metadata": {},
   "outputs": [],
   "source": [
    "cost_1=cost_pt*1\n",
    "revenue_scenario_1 = revenues(cost_1,V_scenario1)\n",
    "print(\n",
    "        f'Revenue for Scenario 1: {revenue_scenario_1[0]:.3f} '\n",
    "        f'[{revenue_scenario_1[1]:.2f}, '\n",
    "        f'{revenue_scenario_1[2]:.2f}]'\n",
    "    )\n"
   ]
  },
  {
   "attachments": {},
   "cell_type": "markdown",
   "id": "d4663057",
   "metadata": {},
   "source": [
    "##### Scenario 2 : a decrease of public transport cost by 15% \n",
    "The factor is 0.85"
   ]
  },
  {
   "cell_type": "code",
   "execution_count": null,
   "id": "0f196ece",
   "metadata": {},
   "outputs": [],
   "source": [
    "cost_2=cost_pt*0.85\n",
    "revenue_scenario_2 = revenues(cost_2,V_scenario2)\n",
    "print(\n",
    "        f'Revenue for the Scenario 2: {revenue_scenario_2[0]:.2f} '\n",
    "        f'[{revenue_scenario_2[1]:.2f}, '\n",
    "        f'{revenue_scenario_2[2]:.2f}]'\n",
    "    )"
   ]
  },
  {
   "attachments": {},
   "cell_type": "markdown",
   "id": "d924d995",
   "metadata": {},
   "source": [
    "### Question 4 : the average value of time for car and public transportation."
   ]
  },
  {
   "attachments": {},
   "cell_type": "markdown",
   "id": "9bd522c8",
   "metadata": {},
   "source": [
    "Calculate the value of time i.e. the willingess to pay to save travel time."
   ]
  },
  {
   "attachments": {},
   "cell_type": "markdown",
   "id": "b2be6950",
   "metadata": {},
   "source": [
    "Reminder : V_pref = [1]->V_walk ; [2]->V_cycle ; [3]->V_pt ; [4]->V_drive ; "
   ]
  },
  {
   "cell_type": "code",
   "execution_count": null,
   "id": "37883326",
   "metadata": {},
   "outputs": [],
   "source": [
    "vot_pt =(Derive(V_pref[3],'dur_pt_access')+ Derive(V_pref[3],'dur_pt_rail')+Derive(V_pref[3], 'dur_pt_bus')+Derive(V_pref[3], 'dur_pt_int') ) / Derive(V_pref[3], 'cost_transit')"
   ]
  },
  {
   "cell_type": "code",
   "execution_count": null,
   "id": "fae0c8c9",
   "metadata": {},
   "outputs": [],
   "source": [
    "vot_car = Derive(V_pref[4], 'dur_driving') / (Derive(V_pref[4], 'cost_driving_ccharge')+ Derive(V_pref[4], 'cost_driving_fuel'))"
   ]
  },
  {
   "cell_type": "code",
   "execution_count": null,
   "id": "ce26abfd",
   "metadata": {},
   "outputs": [],
   "source": [
    "simulate = {\n",
    "    'weights': weights,\n",
    "    'WTP PT time': vot_pt,\n",
    "    'WTP CAR time': vot_car,\n",
    "    'cost_transit': cost_transit,\n",
    "    'cost_driving_ccharge': cost_driving_ccharge,\n",
    "    'cost_driving_fuel': cost_driving_fuel,\n",
    "\n",
    "}\n",
    "biosim = bio.BIOGEME(database, simulate)\n",
    "simulated_vot_values = biosim.simulate(result_pref.getBetaValues())\n"
   ]
  },
  {
   "cell_type": "markdown",
   "id": "74f1f363",
   "metadata": {},
   "source": [
    "If the cost is 0, we need to set the value to 0 "
   ]
  },
  {
   "cell_type": "code",
   "execution_count": null,
   "id": "3b85d670",
   "metadata": {},
   "outputs": [],
   "source": [
    "simulated_vot_values.loc[simulated_vot_values.cost_transit == 0, 'WTP PT time'] = 0\n",
    "simulated_vot_values.loc[simulated_vot_values.cost_driving_ccharge == 0, 'WTP CAR time'] = 0\n",
    "simulated_vot_values.loc[simulated_vot_values.cost_driving_fuel == 0, 'WTP CAR time'] = 0"
   ]
  },
  {
   "attachments": {},
   "cell_type": "markdown",
   "id": "25c948e2",
   "metadata": {},
   "source": [
    "Plot a Histogram to verify the coherance (car)"
   ]
  },
  {
   "cell_type": "code",
   "execution_count": null,
   "id": "f96a27c4",
   "metadata": {},
   "outputs": [],
   "source": [
    "_ = simulated_vot_values[simulated_vot_values['WTP CAR time'] != 0]['WTP CAR time'].hist(bins=200)"
   ]
  },
  {
   "attachments": {},
   "cell_type": "markdown",
   "id": "28bf51ba",
   "metadata": {},
   "source": [
    "Public transportation"
   ]
  },
  {
   "cell_type": "code",
   "execution_count": null,
   "id": "f6a40b54",
   "metadata": {},
   "outputs": [],
   "source": [
    "_ = simulated_vot_values[simulated_vot_values['WTP PT time'] != 0]['WTP PT time'].hist(bins=200)"
   ]
  },
  {
   "cell_type": "code",
   "execution_count": null,
   "id": "3ef45d75",
   "metadata": {},
   "outputs": [],
   "source": [
    "avg_vot_pt = (\n",
    "    simulated_vot_values['WTP PT time'] * \n",
    "    simulated_vot_values['weights']\n",
    ").sum() / simulated_vot_values['weights'].sum()\n",
    "print(f'Average value of time for PT: {avg_vot_pt:.3g} CHF/hour')"
   ]
  },
  {
   "cell_type": "code",
   "execution_count": null,
   "id": "c5d69095",
   "metadata": {},
   "outputs": [],
   "source": [
    "avg_vot_car = (\n",
    "    simulated_vot_values['WTP CAR time'] * \n",
    "    simulated_vot_values['weights']\n",
    ").sum() / simulated_vot_values['weights'].sum()\n",
    "print(f'Average value of time for car: {avg_vot_car:.3g} CHF/hour')"
   ]
  },
  {
   "cell_type": "code",
   "execution_count": null,
   "id": "ca29e671",
   "metadata": {},
   "outputs": [],
   "source": []
  }
 ],
 "metadata": {
  "kernelspec": {
   "display_name": "base",
   "language": "python",
   "name": "python3"
  },
  "language_info": {
   "codemirror_mode": {
    "name": "ipython",
    "version": 3
   },
   "file_extension": ".py",
   "mimetype": "text/x-python",
   "name": "python",
   "nbconvert_exporter": "python",
   "pygments_lexer": "ipython3",
   "version": "3.8.5"
  },
  "vscode": {
   "interpreter": {
    "hash": "4fd5ba7d4c804afe214bbf039c8927141be04e0f0b2f5e1ba57abd660c34784c"
   }
  }
 },
 "nbformat": 4,
 "nbformat_minor": 5
}
