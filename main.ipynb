{
 "cells": [
  {
   "cell_type": "markdown",
   "id": "1b834efe",
   "metadata": {},
   "source": [
    "# MMOB Project"
   ]
  },
  {
   "cell_type": "markdown",
   "id": "df6705b8",
   "metadata": {},
   "source": [
    "# import"
   ]
  },
  {
   "cell_type": "markdown",
   "id": "1359753b",
   "metadata": {},
   "source": [
    "in this cell, relevant libraries are imported, as well as the datafile imported from our github and a dict that will store all results during the project "
   ]
  },
  {
   "cell_type": "code",
   "execution_count": 2,
   "id": "7db8a829",
   "metadata": {},
   "outputs": [],
   "source": [
    "import pandas as pd\n",
    "import pandas as pd\n",
    "import biogeme.database as db\n",
    "import biogeme.biogeme as bio\n",
    "from biogeme.expressions import Beta, Variable\n",
    "from biogeme import models\n",
    "from biogeme import results as res\n",
    "data_file ='https://raw.githubusercontent.com/DunodMax/MMOB/main/Dataset.txt'\n",
    "LPMC = pd.read_csv(data_file, sep='\\t')\n",
    "LPMC\n",
    "database = db.Database('LPMC', LPMC)\n",
    "all_results = {}"
   ]
  },
  {
   "cell_type": "markdown",
   "id": "29efbc5c",
   "metadata": {},
   "source": [
    "# Model 0"
   ]
  },
  {
   "cell_type": "markdown",
   "id": "fcc282c3",
   "metadata": {},
   "source": [
    "all useful columns for this model are used as variables"
   ]
  },
  {
   "cell_type": "code",
   "execution_count": 3,
   "id": "b8d50a89",
   "metadata": {},
   "outputs": [],
   "source": [
    "travel_mode=Variable('travel_mode')\n",
    "dur_pt_access=Variable('dur_pt_access')\n",
    "dur_pt_rail=Variable('dur_pt_rail')\n",
    "dur_pt_bus=Variable('dur_pt_bus')\n",
    "dur_pt_int=Variable('dur_pt_int')\n",
    "pt_interchanges=Variable('pt_interchanges')\n",
    "dur_driving=Variable('dur_driving')\n",
    "cost_transit=Variable('cost_transit')\n",
    "cost_driving_fuel=Variable('cost_driving_fuel')\n",
    "cost_driving_ccharge=Variable('cost_driving_ccharge')\n",
    "dur_walking=Variable('dur_walking')\n",
    "dur_cycling=Variable('dur_cycling')"
   ]
  },
  {
   "cell_type": "markdown",
   "id": "08e0734c",
   "metadata": {},
   "source": [
    "Trip duration for each mode are computed ( see report for details about equations)\n",
    "Cost for each mode with a cost are computed ( cycling and walking is considered free)"
   ]
  },
  {
   "cell_type": "code",
   "execution_count": 4,
   "id": "9d07da2e",
   "metadata": {},
   "outputs": [],
   "source": [
    "time_walk=dur_walking\n",
    "time_cycle=dur_cycling\n",
    "time_pt=dur_pt_access+dur_pt_rail+dur_pt_bus+dur_pt_int\n",
    "time_drive=dur_driving\n",
    "\n",
    "cost_drive=cost_driving_ccharge+cost_driving_fuel\n",
    "cost_pt=cost_transit"
   ]
  },
  {
   "cell_type": "markdown",
   "id": "a68d668a",
   "metadata": {},
   "source": [
    "There is 4 different travel mode, we will thus build a model with 4 utility functions, we create 3 alternative specific constant, a generic parameter for travel time and a generic parameter for cost"
   ]
  },
  {
   "cell_type": "code",
   "execution_count": 5,
   "id": "527ddfb5",
   "metadata": {},
   "outputs": [],
   "source": [
    "asc_cycle = Beta('asc_cycle', 0, None, None, 0)\n",
    "asc_pt = Beta('asc_pt', 0, None, None, 0)\n",
    "asc_drive = Beta('asc_drive', 0, None, None, 0)\n",
    "beta_cost = Beta('beta_cost', 0, None, None, 0)\n",
    "beta_time = Beta('beta_time', 0, None, None, 0)"
   ]
  },
  {
   "cell_type": "markdown",
   "id": "afbd2e71",
   "metadata": {},
   "source": [
    "utility functions"
   ]
  },
  {
   "cell_type": "code",
   "execution_count": 6,
   "id": "17661004",
   "metadata": {},
   "outputs": [],
   "source": [
    "v_walk_model0= beta_time * time_walk  \n",
    "v_cycle_model0= asc_cycle + beta_time * time_cycle \n",
    "v_pt_model0= asc_pt + beta_time * time_pt + beta_cost * cost_pt\n",
    "v_drive_model0= asc_drive + beta_time * time_drive + beta_cost * cost_drive"
   ]
  },
  {
   "cell_type": "code",
   "execution_count": 7,
   "id": "09a242b4",
   "metadata": {},
   "outputs": [],
   "source": [
    "av = {1: 1, 2: 1, 3: 1, 4:1}"
   ]
  },
  {
   "cell_type": "markdown",
   "id": "295c4066",
   "metadata": {},
   "source": [
    "estimation of the parameters for Model 0, all relevant parameters are printed"
   ]
  },
  {
   "cell_type": "code",
   "execution_count": 8,
   "id": "b8605612",
   "metadata": {},
   "outputs": [
    {
     "data": {
      "text/html": [
       "<div>\n",
       "<style scoped>\n",
       "    .dataframe tbody tr th:only-of-type {\n",
       "        vertical-align: middle;\n",
       "    }\n",
       "\n",
       "    .dataframe tbody tr th {\n",
       "        vertical-align: top;\n",
       "    }\n",
       "\n",
       "    .dataframe thead th {\n",
       "        text-align: right;\n",
       "    }\n",
       "</style>\n",
       "<table border=\"1\" class=\"dataframe\">\n",
       "  <thead>\n",
       "    <tr style=\"text-align: right;\">\n",
       "      <th></th>\n",
       "      <th>Value</th>\n",
       "      <th>Rob. Std err</th>\n",
       "      <th>Rob. t-test</th>\n",
       "      <th>Rob. p-value</th>\n",
       "    </tr>\n",
       "  </thead>\n",
       "  <tbody>\n",
       "    <tr>\n",
       "      <th>asc_cycle</th>\n",
       "      <td>-3.832163</td>\n",
       "      <td>0.107574</td>\n",
       "      <td>-35.623351</td>\n",
       "      <td>0.0</td>\n",
       "    </tr>\n",
       "    <tr>\n",
       "      <th>asc_drive</th>\n",
       "      <td>-1.235707</td>\n",
       "      <td>0.080400</td>\n",
       "      <td>-15.369411</td>\n",
       "      <td>0.0</td>\n",
       "    </tr>\n",
       "    <tr>\n",
       "      <th>asc_pt</th>\n",
       "      <td>-0.528767</td>\n",
       "      <td>0.054766</td>\n",
       "      <td>-9.655006</td>\n",
       "      <td>0.0</td>\n",
       "    </tr>\n",
       "    <tr>\n",
       "      <th>beta_cost</th>\n",
       "      <td>-0.169780</td>\n",
       "      <td>0.013108</td>\n",
       "      <td>-12.952753</td>\n",
       "      <td>0.0</td>\n",
       "    </tr>\n",
       "    <tr>\n",
       "      <th>beta_time</th>\n",
       "      <td>-5.450540</td>\n",
       "      <td>0.202684</td>\n",
       "      <td>-26.891767</td>\n",
       "      <td>0.0</td>\n",
       "    </tr>\n",
       "  </tbody>\n",
       "</table>\n",
       "</div>"
      ],
      "text/plain": [
       "              Value  Rob. Std err  Rob. t-test  Rob. p-value\n",
       "asc_cycle -3.832163      0.107574   -35.623351           0.0\n",
       "asc_drive -1.235707      0.080400   -15.369411           0.0\n",
       "asc_pt    -0.528767      0.054766    -9.655006           0.0\n",
       "beta_cost -0.169780      0.013108   -12.952753           0.0\n",
       "beta_time -5.450540      0.202684   -26.891767           0.0"
      ]
     },
     "execution_count": 8,
     "metadata": {},
     "output_type": "execute_result"
    }
   ],
   "source": [
    "V_model0 = {1: v_walk_model0 , 2: v_cycle_model0, 3: v_pt_model0, 4: v_drive_model0}\n",
    "logprob_model0 = models.loglogit(V_model0, av, travel_mode)\n",
    "biogeme_model0 = bio.BIOGEME(database, logprob_model0)\n",
    "biogeme_model0.modelName = 'Model_0'\n",
    "all_results['Model0'] = biogeme_model0.estimate()\n",
    "results_generic = biogeme_model0.estimate()\n",
    "results_generic.getEstimatedParameters()"
   ]
  },
  {
   "cell_type": "code",
   "execution_count": 9,
   "id": "f8fd4259",
   "metadata": {},
   "outputs": [
    {
     "data": {
      "text/html": [
       "<div>\n",
       "<style scoped>\n",
       "    .dataframe tbody tr th:only-of-type {\n",
       "        vertical-align: middle;\n",
       "    }\n",
       "\n",
       "    .dataframe tbody tr th {\n",
       "        vertical-align: top;\n",
       "    }\n",
       "\n",
       "    .dataframe thead th {\n",
       "        text-align: right;\n",
       "    }\n",
       "</style>\n",
       "<table border=\"1\" class=\"dataframe\">\n",
       "  <thead>\n",
       "    <tr style=\"text-align: right;\">\n",
       "      <th></th>\n",
       "      <th>Model0</th>\n",
       "    </tr>\n",
       "  </thead>\n",
       "  <tbody>\n",
       "    <tr>\n",
       "      <th>Number of estimated parameters</th>\n",
       "      <td>5.000000</td>\n",
       "    </tr>\n",
       "    <tr>\n",
       "      <th>Sample size</th>\n",
       "      <td>5000.000000</td>\n",
       "    </tr>\n",
       "    <tr>\n",
       "      <th>Final log likelihood</th>\n",
       "      <td>-4566.446492</td>\n",
       "    </tr>\n",
       "    <tr>\n",
       "      <th>Akaike Information Criterion</th>\n",
       "      <td>9142.892983</td>\n",
       "    </tr>\n",
       "    <tr>\n",
       "      <th>Bayesian Information Criterion</th>\n",
       "      <td>9175.478949</td>\n",
       "    </tr>\n",
       "    <tr>\n",
       "      <th>asc_cycle</th>\n",
       "      <td>-3.832163</td>\n",
       "    </tr>\n",
       "    <tr>\n",
       "      <th>asc_drive</th>\n",
       "      <td>-1.235707</td>\n",
       "    </tr>\n",
       "    <tr>\n",
       "      <th>asc_pt</th>\n",
       "      <td>-0.528767</td>\n",
       "    </tr>\n",
       "    <tr>\n",
       "      <th>beta_cost</th>\n",
       "      <td>-0.169780</td>\n",
       "    </tr>\n",
       "    <tr>\n",
       "      <th>beta_time</th>\n",
       "      <td>-5.450540</td>\n",
       "    </tr>\n",
       "  </tbody>\n",
       "</table>\n",
       "</div>"
      ],
      "text/plain": [
       "                                     Model0\n",
       "Number of estimated parameters     5.000000\n",
       "Sample size                     5000.000000\n",
       "Final log likelihood           -4566.446492\n",
       "Akaike Information Criterion    9142.892983\n",
       "Bayesian Information Criterion  9175.478949\n",
       "asc_cycle                         -3.832163\n",
       "asc_drive                         -1.235707\n",
       "asc_pt                            -0.528767\n",
       "beta_cost                         -0.169780\n",
       "beta_time                         -5.450540"
      ]
     },
     "execution_count": 9,
     "metadata": {},
     "output_type": "execute_result"
    }
   ],
   "source": [
    "res.compileEstimationResults(all_results)"
   ]
  },
  {
   "cell_type": "code",
   "execution_count": 10,
   "id": "b77d2fb4",
   "metadata": {},
   "outputs": [
    {
     "name": "stdout",
     "output_type": "stream",
     "text": [
      "Null Loglikelihood : \n"
     ]
    },
    {
     "data": {
      "text/plain": [
       "-6931.471805599917"
      ]
     },
     "execution_count": 10,
     "metadata": {},
     "output_type": "execute_result"
    }
   ],
   "source": [
    "print(\"Null Loglikelihood : \")\n",
    "biogeme_model0.calculateNullLoglikelihood(av)"
   ]
  },
  {
   "cell_type": "markdown",
   "id": "af9c8c20",
   "metadata": {},
   "source": [
    "# Model 1 "
   ]
  },
  {
   "cell_type": "markdown",
   "id": "712a2de8",
   "metadata": {},
   "source": [
    "### Time specification"
   ]
  },
  {
   "cell_type": "markdown",
   "id": "fd300db1",
   "metadata": {},
   "source": [
    "We will try a specification where the the cost coeffecient is Generic and the time coefficient is alternative specific"
   ]
  },
  {
   "cell_type": "markdown",
   "id": "9f49a4cd",
   "metadata": {},
   "source": [
    "Again 4 different travel mode, 4 utility functions and 3 alternative specific constant.\n",
    "This time we have the generic parameter for cost and a 4 new specific parameter for travel time"
   ]
  },
  {
   "cell_type": "code",
   "execution_count": 11,
   "id": "44110c8a",
   "metadata": {},
   "outputs": [],
   "source": [
    "beta_time_drive = Beta('beta_time_drive', 0, None, None, 0)\n",
    "beta_time_pt = Beta('beta_time_pt', 0, None, None, 0)\n",
    "beta_time_walk = Beta('beta_time_walk', 0, None, None, 0)\n",
    "beta_time_cycle = Beta('beta_time_cycle', 0, None, None, 0)"
   ]
  },
  {
   "cell_type": "markdown",
   "id": "087e6e16",
   "metadata": {},
   "source": [
    "New utility functions :"
   ]
  },
  {
   "cell_type": "code",
   "execution_count": 12,
   "id": "188c60e3",
   "metadata": {},
   "outputs": [],
   "source": [
    "v_walk_model1 = beta_time_walk * time_walk  \n",
    "v_cycle_model1 = asc_cycle + beta_time_cycle * time_cycle \n",
    "v_pt_model1 = asc_pt + beta_time_pt * time_pt + beta_cost * cost_pt\n",
    "v_drive_model1 = asc_drive + beta_time_drive * time_drive + beta_cost * cost_drive"
   ]
  },
  {
   "cell_type": "markdown",
   "id": "410224b3",
   "metadata": {},
   "source": [
    "Estimation of the parameters for Model 1, all relevant parameters are printed"
   ]
  },
  {
   "cell_type": "code",
   "execution_count": 13,
   "id": "8ac1b493",
   "metadata": {},
   "outputs": [
    {
     "data": {
      "text/html": [
       "<div>\n",
       "<style scoped>\n",
       "    .dataframe tbody tr th:only-of-type {\n",
       "        vertical-align: middle;\n",
       "    }\n",
       "\n",
       "    .dataframe tbody tr th {\n",
       "        vertical-align: top;\n",
       "    }\n",
       "\n",
       "    .dataframe thead th {\n",
       "        text-align: right;\n",
       "    }\n",
       "</style>\n",
       "<table border=\"1\" class=\"dataframe\">\n",
       "  <thead>\n",
       "    <tr style=\"text-align: right;\">\n",
       "      <th></th>\n",
       "      <th>Value</th>\n",
       "      <th>Rob. Std err</th>\n",
       "      <th>Rob. t-test</th>\n",
       "      <th>Rob. p-value</th>\n",
       "    </tr>\n",
       "  </thead>\n",
       "  <tbody>\n",
       "    <tr>\n",
       "      <th>asc_cycle</th>\n",
       "      <td>-4.509026</td>\n",
       "      <td>0.191042</td>\n",
       "      <td>-23.602247</td>\n",
       "      <td>0.0</td>\n",
       "    </tr>\n",
       "    <tr>\n",
       "      <th>asc_drive</th>\n",
       "      <td>-1.885787</td>\n",
       "      <td>0.122747</td>\n",
       "      <td>-15.363217</td>\n",
       "      <td>0.0</td>\n",
       "    </tr>\n",
       "    <tr>\n",
       "      <th>asc_pt</th>\n",
       "      <td>-2.339732</td>\n",
       "      <td>0.125804</td>\n",
       "      <td>-18.598158</td>\n",
       "      <td>0.0</td>\n",
       "    </tr>\n",
       "    <tr>\n",
       "      <th>beta_cost</th>\n",
       "      <td>-0.146063</td>\n",
       "      <td>0.014851</td>\n",
       "      <td>-9.834981</td>\n",
       "      <td>0.0</td>\n",
       "    </tr>\n",
       "    <tr>\n",
       "      <th>beta_time_cycle</th>\n",
       "      <td>-6.124618</td>\n",
       "      <td>0.543089</td>\n",
       "      <td>-11.277367</td>\n",
       "      <td>0.0</td>\n",
       "    </tr>\n",
       "    <tr>\n",
       "      <th>beta_time_drive</th>\n",
       "      <td>-6.446182</td>\n",
       "      <td>0.391420</td>\n",
       "      <td>-16.468726</td>\n",
       "      <td>0.0</td>\n",
       "    </tr>\n",
       "    <tr>\n",
       "      <th>beta_time_pt</th>\n",
       "      <td>-3.515331</td>\n",
       "      <td>0.258253</td>\n",
       "      <td>-13.611956</td>\n",
       "      <td>0.0</td>\n",
       "    </tr>\n",
       "    <tr>\n",
       "      <th>beta_time_walk</th>\n",
       "      <td>-8.205403</td>\n",
       "      <td>0.364398</td>\n",
       "      <td>-22.517691</td>\n",
       "      <td>0.0</td>\n",
       "    </tr>\n",
       "  </tbody>\n",
       "</table>\n",
       "</div>"
      ],
      "text/plain": [
       "                    Value  Rob. Std err  Rob. t-test  Rob. p-value\n",
       "asc_cycle       -4.509026      0.191042   -23.602247           0.0\n",
       "asc_drive       -1.885787      0.122747   -15.363217           0.0\n",
       "asc_pt          -2.339732      0.125804   -18.598158           0.0\n",
       "beta_cost       -0.146063      0.014851    -9.834981           0.0\n",
       "beta_time_cycle -6.124618      0.543089   -11.277367           0.0\n",
       "beta_time_drive -6.446182      0.391420   -16.468726           0.0\n",
       "beta_time_pt    -3.515331      0.258253   -13.611956           0.0\n",
       "beta_time_walk  -8.205403      0.364398   -22.517691           0.0"
      ]
     },
     "execution_count": 13,
     "metadata": {},
     "output_type": "execute_result"
    }
   ],
   "source": [
    "V_model1 = {1: v_walk_model1 , 2: v_cycle_model1, 3: v_pt_model1, 4: v_drive_model1}\n",
    "logprob_model1 = models.loglogit(V_model1, av, travel_mode)\n",
    "biogeme_model1 = bio.BIOGEME(database, logprob_model1)\n",
    "biogeme_model1.modelName = 'Model1_time_specification'\n",
    "all_results['Model1_time_specification'] = biogeme_model1.estimate()\n",
    "results_alt_spec_time = biogeme_model1.estimate()\n",
    "results_alt_spec_time.getEstimatedParameters()"
   ]
  },
  {
   "cell_type": "code",
   "execution_count": 14,
   "id": "cf11683b",
   "metadata": {},
   "outputs": [
    {
     "data": {
      "text/html": [
       "<div>\n",
       "<style scoped>\n",
       "    .dataframe tbody tr th:only-of-type {\n",
       "        vertical-align: middle;\n",
       "    }\n",
       "\n",
       "    .dataframe tbody tr th {\n",
       "        vertical-align: top;\n",
       "    }\n",
       "\n",
       "    .dataframe thead th {\n",
       "        text-align: right;\n",
       "    }\n",
       "</style>\n",
       "<table border=\"1\" class=\"dataframe\">\n",
       "  <thead>\n",
       "    <tr style=\"text-align: right;\">\n",
       "      <th></th>\n",
       "      <th>Model0</th>\n",
       "      <th>Model1_time_specification</th>\n",
       "    </tr>\n",
       "  </thead>\n",
       "  <tbody>\n",
       "    <tr>\n",
       "      <th>Number of estimated parameters</th>\n",
       "      <td>5</td>\n",
       "      <td>8</td>\n",
       "    </tr>\n",
       "    <tr>\n",
       "      <th>Sample size</th>\n",
       "      <td>5000</td>\n",
       "      <td>5000</td>\n",
       "    </tr>\n",
       "    <tr>\n",
       "      <th>Final log likelihood</th>\n",
       "      <td>-4566.446492</td>\n",
       "      <td>-4264.834207</td>\n",
       "    </tr>\n",
       "    <tr>\n",
       "      <th>Akaike Information Criterion</th>\n",
       "      <td>9142.892983</td>\n",
       "      <td>8545.668414</td>\n",
       "    </tr>\n",
       "    <tr>\n",
       "      <th>Bayesian Information Criterion</th>\n",
       "      <td>9175.478949</td>\n",
       "      <td>8597.80596</td>\n",
       "    </tr>\n",
       "    <tr>\n",
       "      <th>asc_cycle</th>\n",
       "      <td>-3.832163</td>\n",
       "      <td>-4.509026</td>\n",
       "    </tr>\n",
       "    <tr>\n",
       "      <th>asc_drive</th>\n",
       "      <td>-1.235707</td>\n",
       "      <td>-1.885787</td>\n",
       "    </tr>\n",
       "    <tr>\n",
       "      <th>asc_pt</th>\n",
       "      <td>-0.528767</td>\n",
       "      <td>-2.339732</td>\n",
       "    </tr>\n",
       "    <tr>\n",
       "      <th>beta_cost</th>\n",
       "      <td>-0.16978</td>\n",
       "      <td>-0.146063</td>\n",
       "    </tr>\n",
       "    <tr>\n",
       "      <th>beta_time</th>\n",
       "      <td>-5.45054</td>\n",
       "      <td></td>\n",
       "    </tr>\n",
       "    <tr>\n",
       "      <th>beta_time_cycle</th>\n",
       "      <td></td>\n",
       "      <td>-6.124618</td>\n",
       "    </tr>\n",
       "    <tr>\n",
       "      <th>beta_time_drive</th>\n",
       "      <td></td>\n",
       "      <td>-6.446182</td>\n",
       "    </tr>\n",
       "    <tr>\n",
       "      <th>beta_time_pt</th>\n",
       "      <td></td>\n",
       "      <td>-3.515331</td>\n",
       "    </tr>\n",
       "    <tr>\n",
       "      <th>beta_time_walk</th>\n",
       "      <td></td>\n",
       "      <td>-8.205403</td>\n",
       "    </tr>\n",
       "  </tbody>\n",
       "</table>\n",
       "</div>"
      ],
      "text/plain": [
       "                                     Model0 Model1_time_specification\n",
       "Number of estimated parameters            5                         8\n",
       "Sample size                            5000                      5000\n",
       "Final log likelihood           -4566.446492              -4264.834207\n",
       "Akaike Information Criterion    9142.892983               8545.668414\n",
       "Bayesian Information Criterion  9175.478949                8597.80596\n",
       "asc_cycle                         -3.832163                 -4.509026\n",
       "asc_drive                         -1.235707                 -1.885787\n",
       "asc_pt                            -0.528767                 -2.339732\n",
       "beta_cost                          -0.16978                 -0.146063\n",
       "beta_time                          -5.45054                          \n",
       "beta_time_cycle                                             -6.124618\n",
       "beta_time_drive                                             -6.446182\n",
       "beta_time_pt                                                -3.515331\n",
       "beta_time_walk                                              -8.205403"
      ]
     },
     "execution_count": 14,
     "metadata": {},
     "output_type": "execute_result"
    }
   ],
   "source": [
    "res.compileEstimationResults(all_results)"
   ]
  },
  {
   "cell_type": "markdown",
   "id": "9290c402",
   "metadata": {},
   "source": [
    "### Cost specification"
   ]
  },
  {
   "cell_type": "markdown",
   "id": "92f32390",
   "metadata": {},
   "source": [
    "We compare with the model where we specify the price, to be sure to have the most interesting model for the future models. (walk and cycling don't have cost, so only 2 specific parameter for cost)"
   ]
  },
  {
   "cell_type": "code",
   "execution_count": 15,
   "id": "6bfc4850",
   "metadata": {},
   "outputs": [],
   "source": [
    "beta_cost_drive = Beta('beta_cost_drive', 0, None, None, 0)\n",
    "beta_cost_pt = Beta('beta_cost_pt', 0, None, None, 0)"
   ]
  },
  {
   "cell_type": "markdown",
   "id": "17dbc909",
   "metadata": {},
   "source": [
    "New utility function"
   ]
  },
  {
   "cell_type": "code",
   "execution_count": 16,
   "id": "0a07671e",
   "metadata": {},
   "outputs": [],
   "source": [
    "v_walk_model1_spec_cost = beta_time * time_walk  \n",
    "v_cycle_model1_spec_cost = asc_cycle + beta_time * time_cycle \n",
    "v_pt_model1_spec_cost = asc_pt + beta_time * time_pt + beta_cost_pt * cost_pt\n",
    "v_drive_model1_spec_cost = asc_drive + beta_time * time_drive + beta_cost_drive * cost_drive"
   ]
  },
  {
   "cell_type": "code",
   "execution_count": 21,
   "id": "ab8ee846",
   "metadata": {},
   "outputs": [
    {
     "data": {
      "text/html": [
       "<div>\n",
       "<style scoped>\n",
       "    .dataframe tbody tr th:only-of-type {\n",
       "        vertical-align: middle;\n",
       "    }\n",
       "\n",
       "    .dataframe tbody tr th {\n",
       "        vertical-align: top;\n",
       "    }\n",
       "\n",
       "    .dataframe thead th {\n",
       "        text-align: right;\n",
       "    }\n",
       "</style>\n",
       "<table border=\"1\" class=\"dataframe\">\n",
       "  <thead>\n",
       "    <tr style=\"text-align: right;\">\n",
       "      <th></th>\n",
       "      <th>Value</th>\n",
       "      <th>Rob. Std err</th>\n",
       "      <th>Rob. t-test</th>\n",
       "      <th>Rob. p-value</th>\n",
       "    </tr>\n",
       "  </thead>\n",
       "  <tbody>\n",
       "    <tr>\n",
       "      <th>asc_cycle</th>\n",
       "      <td>-3.766977</td>\n",
       "      <td>0.107734</td>\n",
       "      <td>-34.965546</td>\n",
       "      <td>0.000000</td>\n",
       "    </tr>\n",
       "    <tr>\n",
       "      <th>asc_drive</th>\n",
       "      <td>-1.137426</td>\n",
       "      <td>0.080194</td>\n",
       "      <td>-14.183498</td>\n",
       "      <td>0.000000</td>\n",
       "    </tr>\n",
       "    <tr>\n",
       "      <th>asc_pt</th>\n",
       "      <td>-0.831978</td>\n",
       "      <td>0.064856</td>\n",
       "      <td>-12.828129</td>\n",
       "      <td>0.000000</td>\n",
       "    </tr>\n",
       "    <tr>\n",
       "      <th>beta_cost_drive</th>\n",
       "      <td>-0.214644</td>\n",
       "      <td>0.021272</td>\n",
       "      <td>-10.090610</td>\n",
       "      <td>0.000000</td>\n",
       "    </tr>\n",
       "    <tr>\n",
       "      <th>beta_cost_pt</th>\n",
       "      <td>0.061554</td>\n",
       "      <td>0.028466</td>\n",
       "      <td>2.162410</td>\n",
       "      <td>0.030587</td>\n",
       "    </tr>\n",
       "    <tr>\n",
       "      <th>beta_time</th>\n",
       "      <td>-5.411681</td>\n",
       "      <td>0.202913</td>\n",
       "      <td>-26.670010</td>\n",
       "      <td>0.000000</td>\n",
       "    </tr>\n",
       "  </tbody>\n",
       "</table>\n",
       "</div>"
      ],
      "text/plain": [
       "                    Value  Rob. Std err  Rob. t-test  Rob. p-value\n",
       "asc_cycle       -3.766977      0.107734   -34.965546      0.000000\n",
       "asc_drive       -1.137426      0.080194   -14.183498      0.000000\n",
       "asc_pt          -0.831978      0.064856   -12.828129      0.000000\n",
       "beta_cost_drive -0.214644      0.021272   -10.090610      0.000000\n",
       "beta_cost_pt     0.061554      0.028466     2.162410      0.030587\n",
       "beta_time       -5.411681      0.202913   -26.670010      0.000000"
      ]
     },
     "execution_count": 21,
     "metadata": {},
     "output_type": "execute_result"
    }
   ],
   "source": [
    "V_model1_spec_cost = {1: v_walk_model1_spec_cost , 2: v_cycle_model1_spec_cost, 3: v_pt_model1_spec_cost, 4: v_drive_model1_spec_cost}\n",
    "logprob_model1_spec_cost = models.loglogit(V_model1_spec_cost, av, travel_mode)\n",
    "biogeme_model1_spec_cost = bio.BIOGEME(database, logprob_model1_spec_cost)\n",
    "biogeme_model1_spec_cost.modelName = 'Model_1_cost_specifiaction'\n",
    "all_results['Model1_cost_specification'] = biogeme_model1_spec_cost.estimate()\n",
    "results_alt_spec_cost = biogeme_model1_spec_cost.estimate()\n",
    "results_alt_spec_cost.getEstimatedParameters()"
   ]
  },
  {
   "cell_type": "code",
   "execution_count": 22,
   "id": "e9192ecf",
   "metadata": {},
   "outputs": [
    {
     "data": {
      "text/html": [
       "<div>\n",
       "<style scoped>\n",
       "    .dataframe tbody tr th:only-of-type {\n",
       "        vertical-align: middle;\n",
       "    }\n",
       "\n",
       "    .dataframe tbody tr th {\n",
       "        vertical-align: top;\n",
       "    }\n",
       "\n",
       "    .dataframe thead th {\n",
       "        text-align: right;\n",
       "    }\n",
       "</style>\n",
       "<table border=\"1\" class=\"dataframe\">\n",
       "  <thead>\n",
       "    <tr style=\"text-align: right;\">\n",
       "      <th></th>\n",
       "      <th>Model0</th>\n",
       "      <th>Model1_time_specification</th>\n",
       "      <th>Model1_cost_specification</th>\n",
       "    </tr>\n",
       "  </thead>\n",
       "  <tbody>\n",
       "    <tr>\n",
       "      <th>Number of estimated parameters</th>\n",
       "      <td>5</td>\n",
       "      <td>8</td>\n",
       "      <td>6</td>\n",
       "    </tr>\n",
       "    <tr>\n",
       "      <th>Sample size</th>\n",
       "      <td>5000</td>\n",
       "      <td>5000</td>\n",
       "      <td>5000</td>\n",
       "    </tr>\n",
       "    <tr>\n",
       "      <th>Final log likelihood</th>\n",
       "      <td>-4566.446492</td>\n",
       "      <td>-4264.834207</td>\n",
       "      <td>-4509.365231</td>\n",
       "    </tr>\n",
       "    <tr>\n",
       "      <th>Akaike Information Criterion</th>\n",
       "      <td>9142.892983</td>\n",
       "      <td>8545.668414</td>\n",
       "      <td>9030.730462</td>\n",
       "    </tr>\n",
       "    <tr>\n",
       "      <th>Bayesian Information Criterion</th>\n",
       "      <td>9175.478949</td>\n",
       "      <td>8597.80596</td>\n",
       "      <td>9069.833621</td>\n",
       "    </tr>\n",
       "    <tr>\n",
       "      <th>asc_cycle</th>\n",
       "      <td>-3.832163</td>\n",
       "      <td>-4.509026</td>\n",
       "      <td>-3.766977</td>\n",
       "    </tr>\n",
       "    <tr>\n",
       "      <th>asc_drive</th>\n",
       "      <td>-1.235707</td>\n",
       "      <td>-1.885787</td>\n",
       "      <td>-1.137426</td>\n",
       "    </tr>\n",
       "    <tr>\n",
       "      <th>asc_pt</th>\n",
       "      <td>-0.528767</td>\n",
       "      <td>-2.339732</td>\n",
       "      <td>-0.831978</td>\n",
       "    </tr>\n",
       "    <tr>\n",
       "      <th>beta_cost</th>\n",
       "      <td>-0.16978</td>\n",
       "      <td>-0.146063</td>\n",
       "      <td></td>\n",
       "    </tr>\n",
       "    <tr>\n",
       "      <th>beta_time</th>\n",
       "      <td>-5.45054</td>\n",
       "      <td></td>\n",
       "      <td>-5.411681</td>\n",
       "    </tr>\n",
       "    <tr>\n",
       "      <th>beta_time_cycle</th>\n",
       "      <td></td>\n",
       "      <td>-6.124618</td>\n",
       "      <td></td>\n",
       "    </tr>\n",
       "    <tr>\n",
       "      <th>beta_time_drive</th>\n",
       "      <td></td>\n",
       "      <td>-6.446182</td>\n",
       "      <td></td>\n",
       "    </tr>\n",
       "    <tr>\n",
       "      <th>beta_time_pt</th>\n",
       "      <td></td>\n",
       "      <td>-3.515331</td>\n",
       "      <td></td>\n",
       "    </tr>\n",
       "    <tr>\n",
       "      <th>beta_time_walk</th>\n",
       "      <td></td>\n",
       "      <td>-8.205403</td>\n",
       "      <td></td>\n",
       "    </tr>\n",
       "    <tr>\n",
       "      <th>beta_cost_drive</th>\n",
       "      <td></td>\n",
       "      <td></td>\n",
       "      <td>-0.214644</td>\n",
       "    </tr>\n",
       "    <tr>\n",
       "      <th>beta_cost_pt</th>\n",
       "      <td></td>\n",
       "      <td></td>\n",
       "      <td>0.061554</td>\n",
       "    </tr>\n",
       "  </tbody>\n",
       "</table>\n",
       "</div>"
      ],
      "text/plain": [
       "                                     Model0 Model1_time_specification  \\\n",
       "Number of estimated parameters            5                         8   \n",
       "Sample size                            5000                      5000   \n",
       "Final log likelihood           -4566.446492              -4264.834207   \n",
       "Akaike Information Criterion    9142.892983               8545.668414   \n",
       "Bayesian Information Criterion  9175.478949                8597.80596   \n",
       "asc_cycle                         -3.832163                 -4.509026   \n",
       "asc_drive                         -1.235707                 -1.885787   \n",
       "asc_pt                            -0.528767                 -2.339732   \n",
       "beta_cost                          -0.16978                 -0.146063   \n",
       "beta_time                          -5.45054                             \n",
       "beta_time_cycle                                             -6.124618   \n",
       "beta_time_drive                                             -6.446182   \n",
       "beta_time_pt                                                -3.515331   \n",
       "beta_time_walk                                              -8.205403   \n",
       "beta_cost_drive                                                         \n",
       "beta_cost_pt                                                            \n",
       "\n",
       "                               Model1_cost_specification  \n",
       "Number of estimated parameters                         6  \n",
       "Sample size                                         5000  \n",
       "Final log likelihood                        -4509.365231  \n",
       "Akaike Information Criterion                 9030.730462  \n",
       "Bayesian Information Criterion               9069.833621  \n",
       "asc_cycle                                      -3.766977  \n",
       "asc_drive                                      -1.137426  \n",
       "asc_pt                                         -0.831978  \n",
       "beta_cost                                                 \n",
       "beta_time                                      -5.411681  \n",
       "beta_time_cycle                                           \n",
       "beta_time_drive                                           \n",
       "beta_time_pt                                              \n",
       "beta_time_walk                                            \n",
       "beta_cost_drive                                -0.214644  \n",
       "beta_cost_pt                                    0.061554  "
      ]
     },
     "execution_count": 22,
     "metadata": {},
     "output_type": "execute_result"
    }
   ],
   "source": [
    "res.compileEstimationResults(all_results)"
   ]
  },
  {
   "cell_type": "markdown",
   "id": "1c3651ff",
   "metadata": {},
   "source": [
    "### Comparaison"
   ]
  },
  {
   "cell_type": "markdown",
   "id": "9d333851",
   "metadata": {},
   "source": [
    "we compare the Akaike Information Criterion (AIC)"
   ]
  },
  {
   "cell_type": "code",
   "execution_count": 23,
   "id": "6a7f5f84",
   "metadata": {},
   "outputs": [
    {
     "name": "stdout",
     "output_type": "stream",
     "text": [
      "Model 0 PIC value : 9142.89298347718\n",
      "Model 1, time alternative specification PIC value : 8545.668414113472\n",
      "Model 1, cost alternative specification PIC value : 9030.73046153082\n"
     ]
    }
   ],
   "source": [
    "print(\"Model 0 PIC value :\",results_generic.data.akaike)\n",
    "print(\"Model 1, time alternative specification PIC value :\",results_alt_spec_time.data.akaike)\n",
    "print(\"Model 1, cost alternative specification PIC value :\",results_alt_spec_cost.data.akaike)"
   ]
  },
  {
   "cell_type": "markdown",
   "id": "be880eb4",
   "metadata": {},
   "source": [
    "we compare the Bayesian Information Criterion (BIC)"
   ]
  },
  {
   "cell_type": "code",
   "execution_count": 25,
   "id": "04b0298e",
   "metadata": {},
   "outputs": [
    {
     "name": "stdout",
     "output_type": "stream",
     "text": [
      "Model 0 PIC value : 9175.478949434262\n",
      "Model 1, alternative specification travel time, PIC value : 8597.805959644802\n",
      "Model 1, alternative specification cost, PIC value : 9069.833620679317\n"
     ]
    }
   ],
   "source": [
    "print(\"Model 0 PIC value :\",results_generic.data.bayesian)\n",
    "print(\"Model 1, alternative specification travel time, PIC value :\",results_alt_spec_time.data.bayesian)\n",
    "print(\"Model 1, alternative specification cost, PIC value :\",results_alt_spec_cost.data.bayesian)"
   ]
  },
  {
   "cell_type": "markdown",
   "id": "103b5d36",
   "metadata": {},
   "source": [
    "According to the AIC and the BIC, the best model is the one wih the alternative specific travel time coefficient, and the generic travel cost coefficient."
   ]
  },
  {
   "cell_type": "markdown",
   "id": "c3bf4808",
   "metadata": {},
   "source": [
    "# Model 2"
   ]
  },
  {
   "cell_type": "code",
   "execution_count": 26,
   "id": "26615ff9",
   "metadata": {},
   "outputs": [],
   "source": [
    "biogemen_model_pref = biogeme_model1"
   ]
  }
 ],
 "metadata": {
  "kernelspec": {
   "display_name": "Python 3.8.5 ('base')",
   "language": "python",
   "name": "python3"
  },
  "language_info": {
   "codemirror_mode": {
    "name": "ipython",
    "version": 3
   },
   "file_extension": ".py",
   "mimetype": "text/x-python",
   "name": "python",
   "nbconvert_exporter": "python",
   "pygments_lexer": "ipython3",
   "version": "3.8.5"
  },
  "vscode": {
   "interpreter": {
    "hash": "4fd5ba7d4c804afe214bbf039c8927141be04e0f0b2f5e1ba57abd660c34784c"
   }
  }
 },
 "nbformat": 4,
 "nbformat_minor": 5
}
